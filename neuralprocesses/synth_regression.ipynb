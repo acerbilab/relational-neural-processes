{
 "cells": [
  {
   "cell_type": "code",
   "execution_count": 6,
   "id": "77392b63",
   "metadata": {},
   "outputs": [],
   "source": [
    "import os\n",
    "import sys\n",
    "import time\n",
    "import warnings\n",
    "from functools import partial\n",
    "\n",
    "import experiment as exp\n",
    "import lab as B\n",
    "import neuralprocesses.torch as nps\n",
    "import numpy as np\n",
    "import torch\n",
    "import wbml.out as out\n",
    "from matrix.util import ToDenseWarning\n",
    "from wbml.experiment import WorkingDirectory\n",
    "\n",
    "device = \"cpu\""
   ]
  },
  {
   "cell_type": "code",
   "execution_count": 5,
   "id": "dc3ad556",
   "metadata": {},
   "outputs": [],
   "source": [
    "state = B.create_random_state(torch.float32, seed=0)"
   ]
  },
  {
   "cell_type": "code",
   "execution_count": 45,
   "id": "305ed606",
   "metadata": {},
   "outputs": [],
   "source": [
    "config = {\n",
    "        \"default\": {\n",
    "            \"epochs\": None,\n",
    "            \"rate\": None,\n",
    "            \"also_ar\": False,\n",
    "        },\n",
    "        \"epsilon\": 1e-8,\n",
    "        \"epsilon_start\": 1e-2,\n",
    "        \"cholesky_retry_factor\": 1e6,\n",
    "        \"fix_noise\": None,\n",
    "        \"fix_noise_epochs\": 3,\n",
    "        \"width\": 256,\n",
    "        \"dim_embedding\": 256,\n",
    "        \"enc_same\": False,\n",
    "        \"num_heads\": 8,\n",
    "        \"num_layers\": 6,\n",
    "        \"unet_channels\": (64,) * 6,\n",
    "        \"unet_strides\": (1,) + (2,) * 5,\n",
    "        \"conv_channels\": 64,\n",
    "        \"encoder_scales\": None,\n",
    "        \"fullconvgnp_kernel_factor\": 2,\n",
    "        \"mean_diff\": 0,\n",
    "        # Performance of the ConvGNP is sensitive to this parameter. Moreover, it\n",
    "        # doesn't make sense to set it to a value higher of the last hidden layer of\n",
    "        # the CNN architecture. We therefore set it to 64.\n",
    "        \"num_basis_functions\": 64,\n",
    "        \"dim_x\": 1\n",
    "    }\n",
    "\n",
    "args = {\"dim_x\": 1,\n",
    "        \"dim_y\": 1,\n",
    "        \"data\": 'eq',\n",
    "        \"batch_size\": 16,\n",
    "        \"epochs\": 100,\n",
    "        \"rate\": 3e-4,\n",
    "        \"objective\": \"loglik\",\n",
    "        \"num_samples\": 20,\n",
    "        \"unnormalised\": False,\n",
    "        \"evaluate_num_samples\": 512,\n",
    "        \"evaluate_batch_size\": 8,\n",
    "        \"train_fast\": False,\n",
    "        \"evaluate_fast\": True,\n",
    "        \n",
    "        \n",
    "       }\n",
    "class mydict(dict):\n",
    "    def __getattribute__(self, key):\n",
    "        if key in self:\n",
    "            return self[key]\n",
    "        else:\n",
    "            return super().__getattribute__(key)    \n",
    "args = mydict(args)"
   ]
  },
  {
   "cell_type": "code",
   "execution_count": 46,
   "id": "ed42608d",
   "metadata": {},
   "outputs": [],
   "source": [
    "gen_train, gen_cv, gens_eval = exp.data[args.data][\"setup\"](\n",
    "        args,\n",
    "        config,\n",
    "        num_tasks_train=2**6 if args.train_fast else 2**14,\n",
    "        num_tasks_cv=2**6 if args.train_fast else 2**12,\n",
    "        num_tasks_eval=2**6 if args.evaluate_fast else 2**12,\n",
    "        device=device,\n",
    "    )"
   ]
  },
  {
   "cell_type": "code",
   "execution_count": 18,
   "id": "95c2f9d3",
   "metadata": {},
   "outputs": [],
   "source": [
    "batch = next(gen_train.epoch())"
   ]
  },
  {
   "cell_type": "code",
   "execution_count": 19,
   "id": "41bcaafe",
   "metadata": {},
   "outputs": [],
   "source": [
    "B.epsilon = config['epsilon']\n",
    "\n",
    "model = nps.construct_gnp(\n",
    "                dim_x=config[\"dim_x\"],\n",
    "                dim_yc=(1,) * config[\"dim_y\"],\n",
    "                dim_yt=config[\"dim_y\"],\n",
    "                dim_embedding=config[\"dim_embedding\"],\n",
    "                enc_same=config[\"enc_same\"],\n",
    "                num_dec_layers=config[\"num_layers\"],\n",
    "                width=config[\"width\"],\n",
    "                likelihood=\"het\",\n",
    "                transform=config[\"transform\"],\n",
    "            )"
   ]
  },
  {
   "cell_type": "code",
   "execution_count": 24,
   "id": "c8349b37",
   "metadata": {},
   "outputs": [],
   "source": [
    "objective = partial(\n",
    "            nps.loglik,\n",
    "            num_samples=args.num_samples,\n",
    "            normalise=not args.unnormalised,\n",
    "        )\n",
    "objective_cv = partial(\n",
    "            nps.loglik,\n",
    "            num_samples=args.num_samples,\n",
    "            normalise=not args.unnormalised,\n",
    "        )\n",
    "objectives_eval = [\n",
    "            (\n",
    "                \"Loglik\",\n",
    "                partial(\n",
    "                    nps.loglik,\n",
    "                    num_samples=args.evaluate_num_samples,\n",
    "                    batch_size=args.evaluate_batch_size,\n",
    "                    normalise=not args.unnormalised,\n",
    "                ),\n",
    "            )\n",
    "        ]"
   ]
  },
  {
   "cell_type": "code",
   "execution_count": 25,
   "id": "54908b70",
   "metadata": {},
   "outputs": [],
   "source": [
    "def train(state, model, opt, objective, gen, *, fix_noise):\n",
    "    \"\"\"Train for an epoch.\"\"\"\n",
    "    vals = []\n",
    "    for batch in gen.epoch():\n",
    "        state, obj = objective(\n",
    "            state,\n",
    "            model,\n",
    "            batch[\"contexts\"],\n",
    "            batch[\"xt\"],\n",
    "            batch[\"yt\"],\n",
    "            fix_noise=fix_noise,\n",
    "        )\n",
    "        vals.append(B.to_numpy(obj))\n",
    "        # Be sure to negate the output of `objective`.\n",
    "        val = -B.mean(obj)\n",
    "        opt.zero_grad(set_to_none=True)\n",
    "        val.backward()\n",
    "        opt.step()\n",
    "\n",
    "    vals = B.concat(*vals)\n",
    "    out.kv(\"Loglik (T)\", exp.with_err(vals, and_lower=True))\n",
    "    return state, B.mean(vals) - 1.96 * B.std(vals) / B.sqrt(len(vals))"
   ]
  },
  {
   "cell_type": "code",
   "execution_count": 26,
   "id": "a23aad0f",
   "metadata": {},
   "outputs": [],
   "source": [
    "def eval(state, model, objective, gen):\n",
    "    \"\"\"Perform evaluation.\"\"\"\n",
    "    with torch.no_grad():\n",
    "        vals, kls, kls_diag = [], [], []\n",
    "        for batch in gen.epoch():\n",
    "            state, obj = objective(\n",
    "                state,\n",
    "                model,\n",
    "                batch[\"contexts\"],\n",
    "                batch[\"xt\"],\n",
    "                batch[\"yt\"],\n",
    "            )\n",
    "\n",
    "            # Save numbers.\n",
    "            n = nps.num_data(batch[\"xt\"], batch[\"yt\"])\n",
    "            vals.append(B.to_numpy(obj))\n",
    "            if \"pred_logpdf\" in batch:\n",
    "                kls.append(B.to_numpy(batch[\"pred_logpdf\"] / n - obj))\n",
    "            if \"pred_logpdf_diag\" in batch:\n",
    "                kls_diag.append(B.to_numpy(batch[\"pred_logpdf_diag\"] / n - obj))\n",
    "\n",
    "        # Report numbers.\n",
    "        vals = B.concat(*vals)\n",
    "        out.kv(\"Loglik (V)\", exp.with_err(vals, and_lower=True))\n",
    "        if kls:\n",
    "            out.kv(\"KL (full)\", exp.with_err(B.concat(*kls), and_upper=True))\n",
    "        if kls_diag:\n",
    "            out.kv(\"KL (diag)\", exp.with_err(B.concat(*kls_diag), and_upper=True))\n",
    "\n",
    "        return state, B.mean(vals) - 1.96 * B.std(vals) / B.sqrt(len(vals))"
   ]
  },
  {
   "cell_type": "code",
   "execution_count": 47,
   "id": "d2638912",
   "metadata": {},
   "outputs": [
    {
     "name": "stdout",
     "output_type": "stream",
     "text": [
      "Epoch 1:\n"
     ]
    },
    {
     "name": "stderr",
     "output_type": "stream",
     "text": [
      "/Users/huangd5/anaconda3/envs/np/lib/python3.10/site-packages/stheno/mo/input.py:9: ToDenseWarning: Could not preserve structure in block matrix: converting to dense.\n",
      "  return B.block(*[[pairwise(k, xi, yi) for yi in y] for xi in x])\n"
     ]
    },
    {
     "name": "stdout",
     "output_type": "stream",
     "text": [
      "    Loglik (T):   -1.32076 +-    0.00379 (  -1.32455)\n",
      "    Loglik (V):   -1.27519 +-    0.00731 (  -1.28250)\n",
      "    KL (full):     0.95271 +-    0.00719 (   0.95989)\n",
      "    KL (diag):     0.57174 +-    0.01021 (   0.58195)\n",
      "result/train-epoch-001-1.pdf\n",
      "result/train-epoch-001-2.pdf\n"
     ]
    },
    {
     "name": "stderr",
     "output_type": "stream",
     "text": [
      "/Users/huangd5/anaconda3/envs/np/lib/python3.10/site-packages/stheno/mo/input.py:9: ToDenseWarning: Could not preserve structure in block matrix: converting to dense.\n",
      "  return B.block(*[[pairwise(k, xi, yi) for yi in y] for xi in x])\n",
      "/Users/huangd5/anaconda3/envs/np/lib/python3.10/site-packages/stheno/mo/input.py:9: ToDenseWarning: Could not preserve structure in block matrix: converting to dense.\n",
      "  return B.block(*[[pairwise(k, xi, yi) for yi in y] for xi in x])\n"
     ]
    },
    {
     "name": "stdout",
     "output_type": "stream",
     "text": [
      "result/train-epoch-001-3.pdf\n",
      "result/train-epoch-001-4.pdf\n"
     ]
    },
    {
     "name": "stderr",
     "output_type": "stream",
     "text": [
      "/Users/huangd5/anaconda3/envs/np/lib/python3.10/site-packages/stheno/mo/input.py:9: ToDenseWarning: Could not preserve structure in block matrix: converting to dense.\n",
      "  return B.block(*[[pairwise(k, xi, yi) for yi in y] for xi in x])\n",
      "/Users/huangd5/anaconda3/envs/np/lib/python3.10/site-packages/stheno/mo/input.py:9: ToDenseWarning: Could not preserve structure in block matrix: converting to dense.\n",
      "  return B.block(*[[pairwise(k, xi, yi) for yi in y] for xi in x])\n"
     ]
    },
    {
     "name": "stdout",
     "output_type": "stream",
     "text": [
      "result/train-epoch-001-5.pdf\n",
      "Epoch 2:\n"
     ]
    },
    {
     "name": "stderr",
     "output_type": "stream",
     "text": [
      "/Users/huangd5/anaconda3/envs/np/lib/python3.10/site-packages/stheno/mo/input.py:9: ToDenseWarning: Could not preserve structure in block matrix: converting to dense.\n",
      "  return B.block(*[[pairwise(k, xi, yi) for yi in y] for xi in x])\n"
     ]
    },
    {
     "name": "stdout",
     "output_type": "stream",
     "text": [
      "    Loglik (T):   -1.25930 +-    0.00397 (  -1.26327)\n",
      "    Loglik (V):   -1.22165 +-    0.00794 (  -1.22960)\n",
      "    KL (full):     0.89917 +-    0.00762 (   0.90679)\n",
      "    KL (diag):     0.51820 +-    0.00999 (   0.52819)\n",
      "result/train-epoch-002-1.pdf\n",
      "result/train-epoch-002-2.pdf\n"
     ]
    },
    {
     "name": "stderr",
     "output_type": "stream",
     "text": [
      "/Users/huangd5/anaconda3/envs/np/lib/python3.10/site-packages/stheno/mo/input.py:9: ToDenseWarning: Could not preserve structure in block matrix: converting to dense.\n",
      "  return B.block(*[[pairwise(k, xi, yi) for yi in y] for xi in x])\n",
      "/Users/huangd5/anaconda3/envs/np/lib/python3.10/site-packages/stheno/mo/input.py:9: ToDenseWarning: Could not preserve structure in block matrix: converting to dense.\n",
      "  return B.block(*[[pairwise(k, xi, yi) for yi in y] for xi in x])\n"
     ]
    },
    {
     "name": "stdout",
     "output_type": "stream",
     "text": [
      "result/train-epoch-002-3.pdf\n",
      "result/train-epoch-002-4.pdf\n"
     ]
    },
    {
     "name": "stderr",
     "output_type": "stream",
     "text": [
      "/Users/huangd5/anaconda3/envs/np/lib/python3.10/site-packages/stheno/mo/input.py:9: ToDenseWarning: Could not preserve structure in block matrix: converting to dense.\n",
      "  return B.block(*[[pairwise(k, xi, yi) for yi in y] for xi in x])\n",
      "/Users/huangd5/anaconda3/envs/np/lib/python3.10/site-packages/stheno/mo/input.py:9: ToDenseWarning: Could not preserve structure in block matrix: converting to dense.\n",
      "  return B.block(*[[pairwise(k, xi, yi) for yi in y] for xi in x])\n"
     ]
    },
    {
     "name": "stdout",
     "output_type": "stream",
     "text": [
      "result/train-epoch-002-5.pdf\n",
      "Epoch 3:\n"
     ]
    },
    {
     "name": "stderr",
     "output_type": "stream",
     "text": [
      "/Users/huangd5/anaconda3/envs/np/lib/python3.10/site-packages/stheno/mo/input.py:9: ToDenseWarning: Could not preserve structure in block matrix: converting to dense.\n",
      "  return B.block(*[[pairwise(k, xi, yi) for yi in y] for xi in x])\n"
     ]
    },
    {
     "name": "stdout",
     "output_type": "stream",
     "text": [
      "    Loglik (T):   -1.20660 +-    0.00407 (  -1.21067)\n",
      "    Loglik (V):   -1.17452 +-    0.00816 (  -1.18268)\n",
      "    KL (full):     0.85203 +-    0.00760 (   0.85963)\n",
      "    KL (diag):     0.47107 +-    0.00952 (   0.48059)\n",
      "result/train-epoch-003-1.pdf\n",
      "result/train-epoch-003-2.pdf\n"
     ]
    },
    {
     "name": "stderr",
     "output_type": "stream",
     "text": [
      "/Users/huangd5/anaconda3/envs/np/lib/python3.10/site-packages/stheno/mo/input.py:9: ToDenseWarning: Could not preserve structure in block matrix: converting to dense.\n",
      "  return B.block(*[[pairwise(k, xi, yi) for yi in y] for xi in x])\n",
      "/Users/huangd5/anaconda3/envs/np/lib/python3.10/site-packages/stheno/mo/input.py:9: ToDenseWarning: Could not preserve structure in block matrix: converting to dense.\n",
      "  return B.block(*[[pairwise(k, xi, yi) for yi in y] for xi in x])\n"
     ]
    },
    {
     "name": "stdout",
     "output_type": "stream",
     "text": [
      "result/train-epoch-003-3.pdf\n",
      "result/train-epoch-003-4.pdf\n"
     ]
    },
    {
     "name": "stderr",
     "output_type": "stream",
     "text": [
      "/Users/huangd5/anaconda3/envs/np/lib/python3.10/site-packages/stheno/mo/input.py:9: ToDenseWarning: Could not preserve structure in block matrix: converting to dense.\n",
      "  return B.block(*[[pairwise(k, xi, yi) for yi in y] for xi in x])\n",
      "/Users/huangd5/anaconda3/envs/np/lib/python3.10/site-packages/stheno/mo/input.py:9: ToDenseWarning: Could not preserve structure in block matrix: converting to dense.\n",
      "  return B.block(*[[pairwise(k, xi, yi) for yi in y] for xi in x])\n"
     ]
    },
    {
     "name": "stdout",
     "output_type": "stream",
     "text": [
      "result/train-epoch-003-5.pdf\n",
      "Epoch 4:\n"
     ]
    },
    {
     "name": "stderr",
     "output_type": "stream",
     "text": [
      "/Users/huangd5/anaconda3/envs/np/lib/python3.10/site-packages/stheno/mo/input.py:9: ToDenseWarning: Could not preserve structure in block matrix: converting to dense.\n",
      "  return B.block(*[[pairwise(k, xi, yi) for yi in y] for xi in x])\n"
     ]
    },
    {
     "name": "stdout",
     "output_type": "stream",
     "text": [
      "    Loglik (T):   -1.16641 +-    0.00415 (  -1.17055)\n",
      "    Loglik (V):   -1.12957 +-    0.00838 (  -1.13795)\n",
      "    KL (full):     0.80709 +-    0.00757 (   0.81465)\n",
      "    KL (diag):     0.42612 +-    0.00900 (   0.43512)\n",
      "result/train-epoch-004-1.pdf\n",
      "result/train-epoch-004-2.pdf\n"
     ]
    },
    {
     "name": "stderr",
     "output_type": "stream",
     "text": [
      "/Users/huangd5/anaconda3/envs/np/lib/python3.10/site-packages/stheno/mo/input.py:9: ToDenseWarning: Could not preserve structure in block matrix: converting to dense.\n",
      "  return B.block(*[[pairwise(k, xi, yi) for yi in y] for xi in x])\n",
      "/Users/huangd5/anaconda3/envs/np/lib/python3.10/site-packages/stheno/mo/input.py:9: ToDenseWarning: Could not preserve structure in block matrix: converting to dense.\n",
      "  return B.block(*[[pairwise(k, xi, yi) for yi in y] for xi in x])\n"
     ]
    },
    {
     "name": "stdout",
     "output_type": "stream",
     "text": [
      "result/train-epoch-004-3.pdf\n",
      "result/train-epoch-004-4.pdf\n"
     ]
    },
    {
     "name": "stderr",
     "output_type": "stream",
     "text": [
      "/Users/huangd5/anaconda3/envs/np/lib/python3.10/site-packages/stheno/mo/input.py:9: ToDenseWarning: Could not preserve structure in block matrix: converting to dense.\n",
      "  return B.block(*[[pairwise(k, xi, yi) for yi in y] for xi in x])\n",
      "/Users/huangd5/anaconda3/envs/np/lib/python3.10/site-packages/stheno/mo/input.py:9: ToDenseWarning: Could not preserve structure in block matrix: converting to dense.\n",
      "  return B.block(*[[pairwise(k, xi, yi) for yi in y] for xi in x])\n"
     ]
    },
    {
     "name": "stdout",
     "output_type": "stream",
     "text": [
      "result/train-epoch-004-5.pdf\n",
      "Epoch 5:\n"
     ]
    },
    {
     "name": "stderr",
     "output_type": "stream",
     "text": [
      "/Users/huangd5/anaconda3/envs/np/lib/python3.10/site-packages/stheno/mo/input.py:9: ToDenseWarning: Could not preserve structure in block matrix: converting to dense.\n",
      "  return B.block(*[[pairwise(k, xi, yi) for yi in y] for xi in x])\n"
     ]
    },
    {
     "name": "stdout",
     "output_type": "stream",
     "text": [
      "    Loglik (T):   -1.13167 +-    0.00424 (  -1.13591)\n",
      "    Loglik (V):   -1.11464 +-    0.00887 (  -1.12351)\n",
      "    KL (full):     0.79215 +-    0.00798 (   0.80013)\n",
      "    KL (diag):     0.41119 +-    0.00905 (   0.42023)\n",
      "result/train-epoch-005-1.pdf\n",
      "result/train-epoch-005-2.pdf\n"
     ]
    },
    {
     "name": "stderr",
     "output_type": "stream",
     "text": [
      "/Users/huangd5/anaconda3/envs/np/lib/python3.10/site-packages/stheno/mo/input.py:9: ToDenseWarning: Could not preserve structure in block matrix: converting to dense.\n",
      "  return B.block(*[[pairwise(k, xi, yi) for yi in y] for xi in x])\n",
      "/Users/huangd5/anaconda3/envs/np/lib/python3.10/site-packages/stheno/mo/input.py:9: ToDenseWarning: Could not preserve structure in block matrix: converting to dense.\n",
      "  return B.block(*[[pairwise(k, xi, yi) for yi in y] for xi in x])\n"
     ]
    },
    {
     "name": "stdout",
     "output_type": "stream",
     "text": [
      "result/train-epoch-005-3.pdf\n",
      "result/train-epoch-005-4.pdf\n"
     ]
    },
    {
     "name": "stderr",
     "output_type": "stream",
     "text": [
      "/Users/huangd5/anaconda3/envs/np/lib/python3.10/site-packages/stheno/mo/input.py:9: ToDenseWarning: Could not preserve structure in block matrix: converting to dense.\n",
      "  return B.block(*[[pairwise(k, xi, yi) for yi in y] for xi in x])\n",
      "/Users/huangd5/anaconda3/envs/np/lib/python3.10/site-packages/stheno/mo/input.py:9: ToDenseWarning: Could not preserve structure in block matrix: converting to dense.\n",
      "  return B.block(*[[pairwise(k, xi, yi) for yi in y] for xi in x])\n"
     ]
    },
    {
     "name": "stdout",
     "output_type": "stream",
     "text": [
      "result/train-epoch-005-5.pdf\n",
      "Epoch 6:\n"
     ]
    },
    {
     "name": "stderr",
     "output_type": "stream",
     "text": [
      "/Users/huangd5/anaconda3/envs/np/lib/python3.10/site-packages/stheno/mo/input.py:9: ToDenseWarning: Could not preserve structure in block matrix: converting to dense.\n",
      "  return B.block(*[[pairwise(k, xi, yi) for yi in y] for xi in x])\n"
     ]
    },
    {
     "name": "stdout",
     "output_type": "stream",
     "text": [
      "    Loglik (T):   -1.10702 +-    0.00428 (  -1.11130)\n",
      "    Loglik (V):   -1.09179 +-    0.00870 (  -1.10049)\n",
      "    KL (full):     0.76930 +-    0.00772 (   0.77702)\n",
      "    KL (diag):     0.38834 +-    0.00872 (   0.39706)\n",
      "result/train-epoch-006-1.pdf\n",
      "result/train-epoch-006-2.pdf\n"
     ]
    },
    {
     "name": "stderr",
     "output_type": "stream",
     "text": [
      "/Users/huangd5/anaconda3/envs/np/lib/python3.10/site-packages/stheno/mo/input.py:9: ToDenseWarning: Could not preserve structure in block matrix: converting to dense.\n",
      "  return B.block(*[[pairwise(k, xi, yi) for yi in y] for xi in x])\n",
      "/Users/huangd5/anaconda3/envs/np/lib/python3.10/site-packages/stheno/mo/input.py:9: ToDenseWarning: Could not preserve structure in block matrix: converting to dense.\n",
      "  return B.block(*[[pairwise(k, xi, yi) for yi in y] for xi in x])\n"
     ]
    },
    {
     "name": "stdout",
     "output_type": "stream",
     "text": [
      "result/train-epoch-006-3.pdf\n",
      "result/train-epoch-006-4.pdf\n"
     ]
    },
    {
     "name": "stderr",
     "output_type": "stream",
     "text": [
      "/Users/huangd5/anaconda3/envs/np/lib/python3.10/site-packages/stheno/mo/input.py:9: ToDenseWarning: Could not preserve structure in block matrix: converting to dense.\n",
      "  return B.block(*[[pairwise(k, xi, yi) for yi in y] for xi in x])\n",
      "/Users/huangd5/anaconda3/envs/np/lib/python3.10/site-packages/stheno/mo/input.py:9: ToDenseWarning: Could not preserve structure in block matrix: converting to dense.\n",
      "  return B.block(*[[pairwise(k, xi, yi) for yi in y] for xi in x])\n"
     ]
    },
    {
     "name": "stdout",
     "output_type": "stream",
     "text": [
      "result/train-epoch-006-5.pdf\n",
      "Epoch 7:\n"
     ]
    },
    {
     "name": "stderr",
     "output_type": "stream",
     "text": [
      "/Users/huangd5/anaconda3/envs/np/lib/python3.10/site-packages/stheno/mo/input.py:9: ToDenseWarning: Could not preserve structure in block matrix: converting to dense.\n",
      "  return B.block(*[[pairwise(k, xi, yi) for yi in y] for xi in x])\n"
     ]
    },
    {
     "name": "stdout",
     "output_type": "stream",
     "text": [
      "    Loglik (T):   -1.10012 +-    0.00437 (  -1.10448)\n",
      "    Loglik (V):   -1.06597 +-    0.00847 (  -1.07444)\n",
      "    KL (full):     0.74349 +-    0.00730 (   0.75078)\n",
      "    KL (diag):     0.36252 +-    0.00800 (   0.37052)\n",
      "result/train-epoch-007-1.pdf\n",
      "result/train-epoch-007-2.pdf\n"
     ]
    },
    {
     "name": "stderr",
     "output_type": "stream",
     "text": [
      "/Users/huangd5/anaconda3/envs/np/lib/python3.10/site-packages/stheno/mo/input.py:9: ToDenseWarning: Could not preserve structure in block matrix: converting to dense.\n",
      "  return B.block(*[[pairwise(k, xi, yi) for yi in y] for xi in x])\n",
      "/Users/huangd5/anaconda3/envs/np/lib/python3.10/site-packages/stheno/mo/input.py:9: ToDenseWarning: Could not preserve structure in block matrix: converting to dense.\n",
      "  return B.block(*[[pairwise(k, xi, yi) for yi in y] for xi in x])\n"
     ]
    },
    {
     "name": "stdout",
     "output_type": "stream",
     "text": [
      "result/train-epoch-007-3.pdf\n",
      "result/train-epoch-007-4.pdf\n"
     ]
    },
    {
     "name": "stderr",
     "output_type": "stream",
     "text": [
      "/Users/huangd5/anaconda3/envs/np/lib/python3.10/site-packages/stheno/mo/input.py:9: ToDenseWarning: Could not preserve structure in block matrix: converting to dense.\n",
      "  return B.block(*[[pairwise(k, xi, yi) for yi in y] for xi in x])\n",
      "/Users/huangd5/anaconda3/envs/np/lib/python3.10/site-packages/stheno/mo/input.py:9: ToDenseWarning: Could not preserve structure in block matrix: converting to dense.\n",
      "  return B.block(*[[pairwise(k, xi, yi) for yi in y] for xi in x])\n"
     ]
    },
    {
     "name": "stdout",
     "output_type": "stream",
     "text": [
      "result/train-epoch-007-5.pdf\n",
      "Epoch 8:\n"
     ]
    },
    {
     "name": "stderr",
     "output_type": "stream",
     "text": [
      "/Users/huangd5/anaconda3/envs/np/lib/python3.10/site-packages/stheno/mo/input.py:9: ToDenseWarning: Could not preserve structure in block matrix: converting to dense.\n",
      "  return B.block(*[[pairwise(k, xi, yi) for yi in y] for xi in x])\n"
     ]
    },
    {
     "name": "stdout",
     "output_type": "stream",
     "text": [
      "    Loglik (T):   -1.07267 +-    0.00441 (  -1.07709)\n",
      "    Loglik (V):   -1.05890 +-    0.00851 (  -1.06740)\n",
      "    KL (full):     0.73641 +-    0.00732 (   0.74373)\n",
      "    KL (diag):     0.35545 +-    0.00797 (   0.36342)\n",
      "result/train-epoch-008-1.pdf\n",
      "result/train-epoch-008-2.pdf\n"
     ]
    },
    {
     "name": "stderr",
     "output_type": "stream",
     "text": [
      "/Users/huangd5/anaconda3/envs/np/lib/python3.10/site-packages/stheno/mo/input.py:9: ToDenseWarning: Could not preserve structure in block matrix: converting to dense.\n",
      "  return B.block(*[[pairwise(k, xi, yi) for yi in y] for xi in x])\n",
      "/Users/huangd5/anaconda3/envs/np/lib/python3.10/site-packages/stheno/mo/input.py:9: ToDenseWarning: Could not preserve structure in block matrix: converting to dense.\n",
      "  return B.block(*[[pairwise(k, xi, yi) for yi in y] for xi in x])\n"
     ]
    },
    {
     "name": "stdout",
     "output_type": "stream",
     "text": [
      "result/train-epoch-008-3.pdf\n",
      "result/train-epoch-008-4.pdf\n"
     ]
    },
    {
     "name": "stderr",
     "output_type": "stream",
     "text": [
      "/Users/huangd5/anaconda3/envs/np/lib/python3.10/site-packages/stheno/mo/input.py:9: ToDenseWarning: Could not preserve structure in block matrix: converting to dense.\n",
      "  return B.block(*[[pairwise(k, xi, yi) for yi in y] for xi in x])\n",
      "/Users/huangd5/anaconda3/envs/np/lib/python3.10/site-packages/stheno/mo/input.py:9: ToDenseWarning: Could not preserve structure in block matrix: converting to dense.\n",
      "  return B.block(*[[pairwise(k, xi, yi) for yi in y] for xi in x])\n"
     ]
    },
    {
     "name": "stdout",
     "output_type": "stream",
     "text": [
      "result/train-epoch-008-5.pdf\n",
      "Epoch 9:\n"
     ]
    },
    {
     "name": "stderr",
     "output_type": "stream",
     "text": [
      "/Users/huangd5/anaconda3/envs/np/lib/python3.10/site-packages/stheno/mo/input.py:9: ToDenseWarning: Could not preserve structure in block matrix: converting to dense.\n",
      "  return B.block(*[[pairwise(k, xi, yi) for yi in y] for xi in x])\n"
     ]
    },
    {
     "name": "stdout",
     "output_type": "stream",
     "text": [
      "    Loglik (T):   -1.06040 +-    0.00440 (  -1.06480)\n",
      "    Loglik (V):   -1.04085 +-    0.00910 (  -1.04995)\n",
      "    KL (full):     0.71836 +-    0.00780 (   0.72617)\n",
      "    KL (diag):     0.33740 +-    0.00804 (   0.34544)\n",
      "result/train-epoch-009-1.pdf\n",
      "result/train-epoch-009-2.pdf\n"
     ]
    },
    {
     "name": "stderr",
     "output_type": "stream",
     "text": [
      "/Users/huangd5/anaconda3/envs/np/lib/python3.10/site-packages/stheno/mo/input.py:9: ToDenseWarning: Could not preserve structure in block matrix: converting to dense.\n",
      "  return B.block(*[[pairwise(k, xi, yi) for yi in y] for xi in x])\n",
      "/Users/huangd5/anaconda3/envs/np/lib/python3.10/site-packages/stheno/mo/input.py:9: ToDenseWarning: Could not preserve structure in block matrix: converting to dense.\n",
      "  return B.block(*[[pairwise(k, xi, yi) for yi in y] for xi in x])\n"
     ]
    },
    {
     "name": "stdout",
     "output_type": "stream",
     "text": [
      "result/train-epoch-009-3.pdf\n",
      "result/train-epoch-009-4.pdf\n"
     ]
    },
    {
     "name": "stderr",
     "output_type": "stream",
     "text": [
      "/Users/huangd5/anaconda3/envs/np/lib/python3.10/site-packages/stheno/mo/input.py:9: ToDenseWarning: Could not preserve structure in block matrix: converting to dense.\n",
      "  return B.block(*[[pairwise(k, xi, yi) for yi in y] for xi in x])\n",
      "/Users/huangd5/anaconda3/envs/np/lib/python3.10/site-packages/stheno/mo/input.py:9: ToDenseWarning: Could not preserve structure in block matrix: converting to dense.\n",
      "  return B.block(*[[pairwise(k, xi, yi) for yi in y] for xi in x])\n"
     ]
    },
    {
     "name": "stdout",
     "output_type": "stream",
     "text": [
      "result/train-epoch-009-5.pdf\n",
      "Epoch 10:\n"
     ]
    },
    {
     "name": "stderr",
     "output_type": "stream",
     "text": [
      "/Users/huangd5/anaconda3/envs/np/lib/python3.10/site-packages/stheno/mo/input.py:9: ToDenseWarning: Could not preserve structure in block matrix: converting to dense.\n",
      "  return B.block(*[[pairwise(k, xi, yi) for yi in y] for xi in x])\n"
     ]
    },
    {
     "name": "stdout",
     "output_type": "stream",
     "text": [
      "    Loglik (T):   -1.05293 +-    0.00446 (  -1.05739)\n",
      "    Loglik (V):   -1.03539 +-    0.00880 (  -1.04419)\n",
      "    KL (full):     0.71290 +-    0.00749 (   0.72039)\n",
      "    KL (diag):     0.33194 +-    0.00779 (   0.33973)\n",
      "result/train-epoch-010-1.pdf\n",
      "result/train-epoch-010-2.pdf\n"
     ]
    },
    {
     "name": "stderr",
     "output_type": "stream",
     "text": [
      "/Users/huangd5/anaconda3/envs/np/lib/python3.10/site-packages/stheno/mo/input.py:9: ToDenseWarning: Could not preserve structure in block matrix: converting to dense.\n",
      "  return B.block(*[[pairwise(k, xi, yi) for yi in y] for xi in x])\n",
      "/Users/huangd5/anaconda3/envs/np/lib/python3.10/site-packages/stheno/mo/input.py:9: ToDenseWarning: Could not preserve structure in block matrix: converting to dense.\n",
      "  return B.block(*[[pairwise(k, xi, yi) for yi in y] for xi in x])\n"
     ]
    },
    {
     "name": "stdout",
     "output_type": "stream",
     "text": [
      "result/train-epoch-010-3.pdf\n",
      "result/train-epoch-010-4.pdf\n",
      "result/train-epoch-010-5.pdf\n"
     ]
    },
    {
     "name": "stderr",
     "output_type": "stream",
     "text": [
      "/Users/huangd5/anaconda3/envs/np/lib/python3.10/site-packages/stheno/mo/input.py:9: ToDenseWarning: Could not preserve structure in block matrix: converting to dense.\n",
      "  return B.block(*[[pairwise(k, xi, yi) for yi in y] for xi in x])\n",
      "/Users/huangd5/anaconda3/envs/np/lib/python3.10/site-packages/stheno/mo/input.py:9: ToDenseWarning: Could not preserve structure in block matrix: converting to dense.\n",
      "  return B.block(*[[pairwise(k, xi, yi) for yi in y] for xi in x])\n"
     ]
    },
    {
     "name": "stdout",
     "output_type": "stream",
     "text": [
      "Epoch 11:\n"
     ]
    },
    {
     "name": "stderr",
     "output_type": "stream",
     "text": [
      "/Users/huangd5/anaconda3/envs/np/lib/python3.10/site-packages/stheno/mo/input.py:9: ToDenseWarning: Could not preserve structure in block matrix: converting to dense.\n",
      "  return B.block(*[[pairwise(k, xi, yi) for yi in y] for xi in x])\n"
     ]
    },
    {
     "name": "stdout",
     "output_type": "stream",
     "text": [
      "    Loglik (T):   -1.03501 +-    0.00447 (  -1.03949)\n",
      "    Loglik (V):   -1.03672 +-    0.00862 (  -1.04534)\n",
      "    KL (full):     0.71424 +-    0.00738 (   0.72162)\n",
      "    KL (diag):     0.33327 +-    0.00784 (   0.34111)\n",
      "result/train-epoch-011-1.pdf\n",
      "result/train-epoch-011-2.pdf\n"
     ]
    },
    {
     "name": "stderr",
     "output_type": "stream",
     "text": [
      "/Users/huangd5/anaconda3/envs/np/lib/python3.10/site-packages/stheno/mo/input.py:9: ToDenseWarning: Could not preserve structure in block matrix: converting to dense.\n",
      "  return B.block(*[[pairwise(k, xi, yi) for yi in y] for xi in x])\n",
      "/Users/huangd5/anaconda3/envs/np/lib/python3.10/site-packages/stheno/mo/input.py:9: ToDenseWarning: Could not preserve structure in block matrix: converting to dense.\n",
      "  return B.block(*[[pairwise(k, xi, yi) for yi in y] for xi in x])\n"
     ]
    },
    {
     "name": "stdout",
     "output_type": "stream",
     "text": [
      "result/train-epoch-011-3.pdf\n",
      "result/train-epoch-011-4.pdf\n"
     ]
    },
    {
     "name": "stderr",
     "output_type": "stream",
     "text": [
      "/Users/huangd5/anaconda3/envs/np/lib/python3.10/site-packages/stheno/mo/input.py:9: ToDenseWarning: Could not preserve structure in block matrix: converting to dense.\n",
      "  return B.block(*[[pairwise(k, xi, yi) for yi in y] for xi in x])\n",
      "/Users/huangd5/anaconda3/envs/np/lib/python3.10/site-packages/stheno/mo/input.py:9: ToDenseWarning: Could not preserve structure in block matrix: converting to dense.\n",
      "  return B.block(*[[pairwise(k, xi, yi) for yi in y] for xi in x])\n"
     ]
    },
    {
     "name": "stdout",
     "output_type": "stream",
     "text": [
      "result/train-epoch-011-5.pdf\n",
      "Epoch 12:\n"
     ]
    },
    {
     "name": "stderr",
     "output_type": "stream",
     "text": [
      "/Users/huangd5/anaconda3/envs/np/lib/python3.10/site-packages/stheno/mo/input.py:9: ToDenseWarning: Could not preserve structure in block matrix: converting to dense.\n",
      "  return B.block(*[[pairwise(k, xi, yi) for yi in y] for xi in x])\n"
     ]
    },
    {
     "name": "stdout",
     "output_type": "stream",
     "text": [
      "    Loglik (T):   -1.02896 +-    0.00455 (  -1.03352)\n",
      "    Loglik (V):   -1.02389 +-    0.00949 (  -1.03338)\n",
      "    KL (full):     0.70141 +-    0.00817 (   0.70958)\n",
      "    KL (diag):     0.32044 +-    0.00812 (   0.32856)\n",
      "result/train-epoch-012-1.pdf\n",
      "result/train-epoch-012-2.pdf\n"
     ]
    },
    {
     "name": "stderr",
     "output_type": "stream",
     "text": [
      "/Users/huangd5/anaconda3/envs/np/lib/python3.10/site-packages/stheno/mo/input.py:9: ToDenseWarning: Could not preserve structure in block matrix: converting to dense.\n",
      "  return B.block(*[[pairwise(k, xi, yi) for yi in y] for xi in x])\n",
      "/Users/huangd5/anaconda3/envs/np/lib/python3.10/site-packages/stheno/mo/input.py:9: ToDenseWarning: Could not preserve structure in block matrix: converting to dense.\n",
      "  return B.block(*[[pairwise(k, xi, yi) for yi in y] for xi in x])\n"
     ]
    },
    {
     "name": "stdout",
     "output_type": "stream",
     "text": [
      "result/train-epoch-012-3.pdf\n",
      "result/train-epoch-012-4.pdf\n"
     ]
    },
    {
     "name": "stderr",
     "output_type": "stream",
     "text": [
      "/Users/huangd5/anaconda3/envs/np/lib/python3.10/site-packages/stheno/mo/input.py:9: ToDenseWarning: Could not preserve structure in block matrix: converting to dense.\n",
      "  return B.block(*[[pairwise(k, xi, yi) for yi in y] for xi in x])\n",
      "/Users/huangd5/anaconda3/envs/np/lib/python3.10/site-packages/stheno/mo/input.py:9: ToDenseWarning: Could not preserve structure in block matrix: converting to dense.\n",
      "  return B.block(*[[pairwise(k, xi, yi) for yi in y] for xi in x])\n"
     ]
    },
    {
     "name": "stdout",
     "output_type": "stream",
     "text": [
      "result/train-epoch-012-5.pdf\n",
      "Epoch 13:\n"
     ]
    },
    {
     "name": "stderr",
     "output_type": "stream",
     "text": [
      "/Users/huangd5/anaconda3/envs/np/lib/python3.10/site-packages/stheno/mo/input.py:9: ToDenseWarning: Could not preserve structure in block matrix: converting to dense.\n",
      "  return B.block(*[[pairwise(k, xi, yi) for yi in y] for xi in x])\n"
     ]
    },
    {
     "name": "stdout",
     "output_type": "stream",
     "text": [
      "    Loglik (T):   -1.01915 +-    0.00461 (  -1.02376)\n",
      "    Loglik (V):   -1.01593 +-    0.00933 (  -1.02526)\n",
      "    KL (full):     0.69345 +-    0.00794 (   0.70139)\n",
      "    KL (diag):     0.31248 +-    0.00786 (   0.32035)\n",
      "result/train-epoch-013-1.pdf\n",
      "result/train-epoch-013-2.pdf\n"
     ]
    },
    {
     "name": "stderr",
     "output_type": "stream",
     "text": [
      "/Users/huangd5/anaconda3/envs/np/lib/python3.10/site-packages/stheno/mo/input.py:9: ToDenseWarning: Could not preserve structure in block matrix: converting to dense.\n",
      "  return B.block(*[[pairwise(k, xi, yi) for yi in y] for xi in x])\n",
      "/Users/huangd5/anaconda3/envs/np/lib/python3.10/site-packages/stheno/mo/input.py:9: ToDenseWarning: Could not preserve structure in block matrix: converting to dense.\n",
      "  return B.block(*[[pairwise(k, xi, yi) for yi in y] for xi in x])\n"
     ]
    },
    {
     "name": "stdout",
     "output_type": "stream",
     "text": [
      "result/train-epoch-013-3.pdf\n",
      "result/train-epoch-013-4.pdf\n"
     ]
    },
    {
     "name": "stderr",
     "output_type": "stream",
     "text": [
      "/Users/huangd5/anaconda3/envs/np/lib/python3.10/site-packages/stheno/mo/input.py:9: ToDenseWarning: Could not preserve structure in block matrix: converting to dense.\n",
      "  return B.block(*[[pairwise(k, xi, yi) for yi in y] for xi in x])\n",
      "/Users/huangd5/anaconda3/envs/np/lib/python3.10/site-packages/stheno/mo/input.py:9: ToDenseWarning: Could not preserve structure in block matrix: converting to dense.\n",
      "  return B.block(*[[pairwise(k, xi, yi) for yi in y] for xi in x])\n"
     ]
    },
    {
     "name": "stdout",
     "output_type": "stream",
     "text": [
      "result/train-epoch-013-5.pdf\n",
      "Epoch 14:\n"
     ]
    },
    {
     "name": "stderr",
     "output_type": "stream",
     "text": [
      "/Users/huangd5/anaconda3/envs/np/lib/python3.10/site-packages/stheno/mo/input.py:9: ToDenseWarning: Could not preserve structure in block matrix: converting to dense.\n",
      "  return B.block(*[[pairwise(k, xi, yi) for yi in y] for xi in x])\n"
     ]
    },
    {
     "name": "stdout",
     "output_type": "stream",
     "text": [
      "    Loglik (T):   -1.01124 +-    0.00459 (  -1.01584)\n",
      "    Loglik (V):   -0.99286 +-    0.00905 (  -1.00190)\n",
      "    KL (full):     0.67037 +-    0.00754 (   0.67792)\n",
      "    KL (diag):     0.28941 +-    0.00726 (   0.29667)\n",
      "result/train-epoch-014-1.pdf\n",
      "result/train-epoch-014-2.pdf\n"
     ]
    },
    {
     "name": "stderr",
     "output_type": "stream",
     "text": [
      "/Users/huangd5/anaconda3/envs/np/lib/python3.10/site-packages/stheno/mo/input.py:9: ToDenseWarning: Could not preserve structure in block matrix: converting to dense.\n",
      "  return B.block(*[[pairwise(k, xi, yi) for yi in y] for xi in x])\n",
      "/Users/huangd5/anaconda3/envs/np/lib/python3.10/site-packages/stheno/mo/input.py:9: ToDenseWarning: Could not preserve structure in block matrix: converting to dense.\n",
      "  return B.block(*[[pairwise(k, xi, yi) for yi in y] for xi in x])\n"
     ]
    },
    {
     "name": "stdout",
     "output_type": "stream",
     "text": [
      "result/train-epoch-014-3.pdf\n",
      "result/train-epoch-014-4.pdf\n"
     ]
    },
    {
     "name": "stderr",
     "output_type": "stream",
     "text": [
      "/Users/huangd5/anaconda3/envs/np/lib/python3.10/site-packages/stheno/mo/input.py:9: ToDenseWarning: Could not preserve structure in block matrix: converting to dense.\n",
      "  return B.block(*[[pairwise(k, xi, yi) for yi in y] for xi in x])\n",
      "/Users/huangd5/anaconda3/envs/np/lib/python3.10/site-packages/stheno/mo/input.py:9: ToDenseWarning: Could not preserve structure in block matrix: converting to dense.\n",
      "  return B.block(*[[pairwise(k, xi, yi) for yi in y] for xi in x])\n"
     ]
    },
    {
     "name": "stdout",
     "output_type": "stream",
     "text": [
      "result/train-epoch-014-5.pdf\n",
      "Epoch 15:\n"
     ]
    },
    {
     "name": "stderr",
     "output_type": "stream",
     "text": [
      "/Users/huangd5/anaconda3/envs/np/lib/python3.10/site-packages/stheno/mo/input.py:9: ToDenseWarning: Could not preserve structure in block matrix: converting to dense.\n",
      "  return B.block(*[[pairwise(k, xi, yi) for yi in y] for xi in x])\n"
     ]
    },
    {
     "name": "stdout",
     "output_type": "stream",
     "text": [
      "    Loglik (T):   -1.01166 +-    0.00464 (  -1.01630)\n",
      "    Loglik (V):   -0.98682 +-    0.00906 (  -0.99588)\n",
      "    KL (full):     0.66433 +-    0.00761 (   0.67195)\n",
      "    KL (diag):     0.28337 +-    0.00746 (   0.29082)\n",
      "result/train-epoch-015-1.pdf\n",
      "result/train-epoch-015-2.pdf\n"
     ]
    },
    {
     "name": "stderr",
     "output_type": "stream",
     "text": [
      "/Users/huangd5/anaconda3/envs/np/lib/python3.10/site-packages/stheno/mo/input.py:9: ToDenseWarning: Could not preserve structure in block matrix: converting to dense.\n",
      "  return B.block(*[[pairwise(k, xi, yi) for yi in y] for xi in x])\n",
      "/Users/huangd5/anaconda3/envs/np/lib/python3.10/site-packages/stheno/mo/input.py:9: ToDenseWarning: Could not preserve structure in block matrix: converting to dense.\n",
      "  return B.block(*[[pairwise(k, xi, yi) for yi in y] for xi in x])\n"
     ]
    },
    {
     "name": "stdout",
     "output_type": "stream",
     "text": [
      "result/train-epoch-015-3.pdf\n",
      "result/train-epoch-015-4.pdf\n"
     ]
    },
    {
     "name": "stderr",
     "output_type": "stream",
     "text": [
      "/Users/huangd5/anaconda3/envs/np/lib/python3.10/site-packages/stheno/mo/input.py:9: ToDenseWarning: Could not preserve structure in block matrix: converting to dense.\n",
      "  return B.block(*[[pairwise(k, xi, yi) for yi in y] for xi in x])\n"
     ]
    },
    {
     "name": "stdout",
     "output_type": "stream",
     "text": [
      "result/train-epoch-015-5.pdf\n",
      "Epoch 16:\n"
     ]
    },
    {
     "name": "stderr",
     "output_type": "stream",
     "text": [
      "/Users/huangd5/anaconda3/envs/np/lib/python3.10/site-packages/stheno/mo/input.py:9: ToDenseWarning: Could not preserve structure in block matrix: converting to dense.\n",
      "  return B.block(*[[pairwise(k, xi, yi) for yi in y] for xi in x])\n",
      "/Users/huangd5/anaconda3/envs/np/lib/python3.10/site-packages/stheno/mo/input.py:9: ToDenseWarning: Could not preserve structure in block matrix: converting to dense.\n",
      "  return B.block(*[[pairwise(k, xi, yi) for yi in y] for xi in x])\n"
     ]
    },
    {
     "name": "stdout",
     "output_type": "stream",
     "text": [
      "    Loglik (T):   -0.99999 +-    0.00465 (  -1.00464)\n",
      "    Loglik (V):   -0.98462 +-    0.00909 (  -0.99371)\n",
      "    KL (full):     0.66213 +-    0.00757 (   0.66970)\n",
      "    KL (diag):     0.28117 +-    0.00727 (   0.28844)\n",
      "result/train-epoch-016-1.pdf\n",
      "result/train-epoch-016-2.pdf\n"
     ]
    },
    {
     "name": "stderr",
     "output_type": "stream",
     "text": [
      "/Users/huangd5/anaconda3/envs/np/lib/python3.10/site-packages/stheno/mo/input.py:9: ToDenseWarning: Could not preserve structure in block matrix: converting to dense.\n",
      "  return B.block(*[[pairwise(k, xi, yi) for yi in y] for xi in x])\n",
      "/Users/huangd5/anaconda3/envs/np/lib/python3.10/site-packages/stheno/mo/input.py:9: ToDenseWarning: Could not preserve structure in block matrix: converting to dense.\n",
      "  return B.block(*[[pairwise(k, xi, yi) for yi in y] for xi in x])\n"
     ]
    },
    {
     "name": "stdout",
     "output_type": "stream",
     "text": [
      "result/train-epoch-016-3.pdf\n",
      "result/train-epoch-016-4.pdf\n"
     ]
    },
    {
     "name": "stderr",
     "output_type": "stream",
     "text": [
      "/Users/huangd5/anaconda3/envs/np/lib/python3.10/site-packages/stheno/mo/input.py:9: ToDenseWarning: Could not preserve structure in block matrix: converting to dense.\n",
      "  return B.block(*[[pairwise(k, xi, yi) for yi in y] for xi in x])\n",
      "/Users/huangd5/anaconda3/envs/np/lib/python3.10/site-packages/stheno/mo/input.py:9: ToDenseWarning: Could not preserve structure in block matrix: converting to dense.\n",
      "  return B.block(*[[pairwise(k, xi, yi) for yi in y] for xi in x])\n"
     ]
    },
    {
     "name": "stdout",
     "output_type": "stream",
     "text": [
      "result/train-epoch-016-5.pdf\n",
      "Epoch 17:\n"
     ]
    },
    {
     "name": "stderr",
     "output_type": "stream",
     "text": [
      "/Users/huangd5/anaconda3/envs/np/lib/python3.10/site-packages/stheno/mo/input.py:9: ToDenseWarning: Could not preserve structure in block matrix: converting to dense.\n",
      "  return B.block(*[[pairwise(k, xi, yi) for yi in y] for xi in x])\n"
     ]
    },
    {
     "name": "stdout",
     "output_type": "stream",
     "text": [
      "    Loglik (T):   -0.99475 +-    0.00465 (  -0.99940)\n",
      "    Loglik (V):   -0.98621 +-    0.00838 (  -0.99459)\n",
      "    KL (full):     0.66373 +-    0.00677 (   0.67050)\n",
      "    KL (diag):     0.28276 +-    0.00672 (   0.28948)\n",
      "result/train-epoch-017-1.pdf\n",
      "result/train-epoch-017-2.pdf\n"
     ]
    },
    {
     "name": "stderr",
     "output_type": "stream",
     "text": [
      "/Users/huangd5/anaconda3/envs/np/lib/python3.10/site-packages/stheno/mo/input.py:9: ToDenseWarning: Could not preserve structure in block matrix: converting to dense.\n",
      "  return B.block(*[[pairwise(k, xi, yi) for yi in y] for xi in x])\n",
      "/Users/huangd5/anaconda3/envs/np/lib/python3.10/site-packages/stheno/mo/input.py:9: ToDenseWarning: Could not preserve structure in block matrix: converting to dense.\n",
      "  return B.block(*[[pairwise(k, xi, yi) for yi in y] for xi in x])\n"
     ]
    },
    {
     "name": "stdout",
     "output_type": "stream",
     "text": [
      "result/train-epoch-017-3.pdf\n",
      "result/train-epoch-017-4.pdf\n"
     ]
    },
    {
     "name": "stderr",
     "output_type": "stream",
     "text": [
      "/Users/huangd5/anaconda3/envs/np/lib/python3.10/site-packages/stheno/mo/input.py:9: ToDenseWarning: Could not preserve structure in block matrix: converting to dense.\n",
      "  return B.block(*[[pairwise(k, xi, yi) for yi in y] for xi in x])\n",
      "/Users/huangd5/anaconda3/envs/np/lib/python3.10/site-packages/stheno/mo/input.py:9: ToDenseWarning: Could not preserve structure in block matrix: converting to dense.\n",
      "  return B.block(*[[pairwise(k, xi, yi) for yi in y] for xi in x])\n"
     ]
    },
    {
     "name": "stdout",
     "output_type": "stream",
     "text": [
      "result/train-epoch-017-5.pdf\n",
      "Epoch 18:\n"
     ]
    },
    {
     "name": "stderr",
     "output_type": "stream",
     "text": [
      "/Users/huangd5/anaconda3/envs/np/lib/python3.10/site-packages/stheno/mo/input.py:9: ToDenseWarning: Could not preserve structure in block matrix: converting to dense.\n",
      "  return B.block(*[[pairwise(k, xi, yi) for yi in y] for xi in x])\n"
     ]
    },
    {
     "name": "stdout",
     "output_type": "stream",
     "text": [
      "    Loglik (T):   -0.97562 +-    0.00462 (  -0.98024)\n",
      "    Loglik (V):   -0.96921 +-    0.00945 (  -0.97866)\n",
      "    KL (full):     0.64673 +-    0.00780 (   0.65452)\n",
      "    KL (diag):     0.26576 +-    0.00697 (   0.27273)\n",
      "result/train-epoch-018-1.pdf\n",
      "result/train-epoch-018-2.pdf\n"
     ]
    },
    {
     "name": "stderr",
     "output_type": "stream",
     "text": [
      "/Users/huangd5/anaconda3/envs/np/lib/python3.10/site-packages/stheno/mo/input.py:9: ToDenseWarning: Could not preserve structure in block matrix: converting to dense.\n",
      "  return B.block(*[[pairwise(k, xi, yi) for yi in y] for xi in x])\n",
      "/Users/huangd5/anaconda3/envs/np/lib/python3.10/site-packages/stheno/mo/input.py:9: ToDenseWarning: Could not preserve structure in block matrix: converting to dense.\n",
      "  return B.block(*[[pairwise(k, xi, yi) for yi in y] for xi in x])\n"
     ]
    },
    {
     "name": "stdout",
     "output_type": "stream",
     "text": [
      "result/train-epoch-018-3.pdf\n",
      "result/train-epoch-018-4.pdf\n"
     ]
    },
    {
     "name": "stderr",
     "output_type": "stream",
     "text": [
      "/Users/huangd5/anaconda3/envs/np/lib/python3.10/site-packages/stheno/mo/input.py:9: ToDenseWarning: Could not preserve structure in block matrix: converting to dense.\n",
      "  return B.block(*[[pairwise(k, xi, yi) for yi in y] for xi in x])\n",
      "/Users/huangd5/anaconda3/envs/np/lib/python3.10/site-packages/stheno/mo/input.py:9: ToDenseWarning: Could not preserve structure in block matrix: converting to dense.\n",
      "  return B.block(*[[pairwise(k, xi, yi) for yi in y] for xi in x])\n"
     ]
    },
    {
     "name": "stdout",
     "output_type": "stream",
     "text": [
      "result/train-epoch-018-5.pdf\n",
      "Epoch 19:\n"
     ]
    },
    {
     "name": "stderr",
     "output_type": "stream",
     "text": [
      "/Users/huangd5/anaconda3/envs/np/lib/python3.10/site-packages/stheno/mo/input.py:9: ToDenseWarning: Could not preserve structure in block matrix: converting to dense.\n",
      "  return B.block(*[[pairwise(k, xi, yi) for yi in y] for xi in x])\n"
     ]
    },
    {
     "name": "stdout",
     "output_type": "stream",
     "text": [
      "    Loglik (T):   -0.96985 +-    0.00472 (  -0.97457)\n",
      "    Loglik (V):   -0.96002 +-    0.00898 (  -0.96899)\n",
      "    KL (full):     0.63753 +-    0.00729 (   0.64483)\n",
      "    KL (diag):     0.25657 +-    0.00673 (   0.26329)\n",
      "result/train-epoch-019-1.pdf\n",
      "result/train-epoch-019-2.pdf\n"
     ]
    },
    {
     "name": "stderr",
     "output_type": "stream",
     "text": [
      "/Users/huangd5/anaconda3/envs/np/lib/python3.10/site-packages/stheno/mo/input.py:9: ToDenseWarning: Could not preserve structure in block matrix: converting to dense.\n",
      "  return B.block(*[[pairwise(k, xi, yi) for yi in y] for xi in x])\n",
      "/Users/huangd5/anaconda3/envs/np/lib/python3.10/site-packages/stheno/mo/input.py:9: ToDenseWarning: Could not preserve structure in block matrix: converting to dense.\n",
      "  return B.block(*[[pairwise(k, xi, yi) for yi in y] for xi in x])\n"
     ]
    },
    {
     "name": "stdout",
     "output_type": "stream",
     "text": [
      "result/train-epoch-019-3.pdf\n",
      "result/train-epoch-019-4.pdf\n"
     ]
    },
    {
     "name": "stderr",
     "output_type": "stream",
     "text": [
      "/Users/huangd5/anaconda3/envs/np/lib/python3.10/site-packages/stheno/mo/input.py:9: ToDenseWarning: Could not preserve structure in block matrix: converting to dense.\n",
      "  return B.block(*[[pairwise(k, xi, yi) for yi in y] for xi in x])\n",
      "/Users/huangd5/anaconda3/envs/np/lib/python3.10/site-packages/stheno/mo/input.py:9: ToDenseWarning: Could not preserve structure in block matrix: converting to dense.\n",
      "  return B.block(*[[pairwise(k, xi, yi) for yi in y] for xi in x])\n"
     ]
    },
    {
     "name": "stdout",
     "output_type": "stream",
     "text": [
      "result/train-epoch-019-5.pdf\n",
      "Epoch 20:\n"
     ]
    },
    {
     "name": "stderr",
     "output_type": "stream",
     "text": [
      "/Users/huangd5/anaconda3/envs/np/lib/python3.10/site-packages/stheno/mo/input.py:9: ToDenseWarning: Could not preserve structure in block matrix: converting to dense.\n",
      "  return B.block(*[[pairwise(k, xi, yi) for yi in y] for xi in x])\n"
     ]
    },
    {
     "name": "stdout",
     "output_type": "stream",
     "text": [
      "    Loglik (T):   -0.97099 +-    0.00467 (  -0.97566)\n",
      "    Loglik (V):   -0.96812 +-    0.00900 (  -0.97713)\n",
      "    KL (full):     0.64564 +-    0.00734 (   0.65298)\n",
      "    KL (diag):     0.26467 +-    0.00684 (   0.27152)\n",
      "result/train-epoch-020-1.pdf\n",
      "result/train-epoch-020-2.pdf\n"
     ]
    },
    {
     "name": "stderr",
     "output_type": "stream",
     "text": [
      "/Users/huangd5/anaconda3/envs/np/lib/python3.10/site-packages/stheno/mo/input.py:9: ToDenseWarning: Could not preserve structure in block matrix: converting to dense.\n",
      "  return B.block(*[[pairwise(k, xi, yi) for yi in y] for xi in x])\n",
      "/Users/huangd5/anaconda3/envs/np/lib/python3.10/site-packages/stheno/mo/input.py:9: ToDenseWarning: Could not preserve structure in block matrix: converting to dense.\n",
      "  return B.block(*[[pairwise(k, xi, yi) for yi in y] for xi in x])\n"
     ]
    },
    {
     "name": "stdout",
     "output_type": "stream",
     "text": [
      "result/train-epoch-020-3.pdf\n",
      "result/train-epoch-020-4.pdf\n"
     ]
    },
    {
     "name": "stderr",
     "output_type": "stream",
     "text": [
      "/Users/huangd5/anaconda3/envs/np/lib/python3.10/site-packages/stheno/mo/input.py:9: ToDenseWarning: Could not preserve structure in block matrix: converting to dense.\n",
      "  return B.block(*[[pairwise(k, xi, yi) for yi in y] for xi in x])\n",
      "/Users/huangd5/anaconda3/envs/np/lib/python3.10/site-packages/stheno/mo/input.py:9: ToDenseWarning: Could not preserve structure in block matrix: converting to dense.\n",
      "  return B.block(*[[pairwise(k, xi, yi) for yi in y] for xi in x])\n"
     ]
    },
    {
     "name": "stdout",
     "output_type": "stream",
     "text": [
      "result/train-epoch-020-5.pdf\n",
      "Epoch 21:\n"
     ]
    },
    {
     "name": "stderr",
     "output_type": "stream",
     "text": [
      "/Users/huangd5/anaconda3/envs/np/lib/python3.10/site-packages/stheno/mo/input.py:9: ToDenseWarning: Could not preserve structure in block matrix: converting to dense.\n",
      "  return B.block(*[[pairwise(k, xi, yi) for yi in y] for xi in x])\n"
     ]
    },
    {
     "name": "stdout",
     "output_type": "stream",
     "text": [
      "    Loglik (T):   -0.96468 +-    0.00467 (  -0.96935)\n",
      "    Loglik (V):   -0.95037 +-    0.00913 (  -0.95950)\n",
      "    KL (full):     0.62789 +-    0.00742 (   0.63531)\n",
      "    KL (diag):     0.24692 +-    0.00675 (   0.25367)\n",
      "result/train-epoch-021-1.pdf\n",
      "result/train-epoch-021-2.pdf\n"
     ]
    },
    {
     "name": "stderr",
     "output_type": "stream",
     "text": [
      "/Users/huangd5/anaconda3/envs/np/lib/python3.10/site-packages/stheno/mo/input.py:9: ToDenseWarning: Could not preserve structure in block matrix: converting to dense.\n",
      "  return B.block(*[[pairwise(k, xi, yi) for yi in y] for xi in x])\n",
      "/Users/huangd5/anaconda3/envs/np/lib/python3.10/site-packages/stheno/mo/input.py:9: ToDenseWarning: Could not preserve structure in block matrix: converting to dense.\n",
      "  return B.block(*[[pairwise(k, xi, yi) for yi in y] for xi in x])\n"
     ]
    },
    {
     "name": "stdout",
     "output_type": "stream",
     "text": [
      "result/train-epoch-021-3.pdf\n",
      "result/train-epoch-021-4.pdf\n"
     ]
    },
    {
     "name": "stderr",
     "output_type": "stream",
     "text": [
      "/Users/huangd5/anaconda3/envs/np/lib/python3.10/site-packages/stheno/mo/input.py:9: ToDenseWarning: Could not preserve structure in block matrix: converting to dense.\n",
      "  return B.block(*[[pairwise(k, xi, yi) for yi in y] for xi in x])\n"
     ]
    },
    {
     "name": "stdout",
     "output_type": "stream",
     "text": [
      "result/train-epoch-021-5.pdf\n",
      "Epoch 22:\n"
     ]
    },
    {
     "name": "stderr",
     "output_type": "stream",
     "text": [
      "/Users/huangd5/anaconda3/envs/np/lib/python3.10/site-packages/stheno/mo/input.py:9: ToDenseWarning: Could not preserve structure in block matrix: converting to dense.\n",
      "  return B.block(*[[pairwise(k, xi, yi) for yi in y] for xi in x])\n",
      "/Users/huangd5/anaconda3/envs/np/lib/python3.10/site-packages/stheno/mo/input.py:9: ToDenseWarning: Could not preserve structure in block matrix: converting to dense.\n",
      "  return B.block(*[[pairwise(k, xi, yi) for yi in y] for xi in x])\n"
     ]
    },
    {
     "name": "stdout",
     "output_type": "stream",
     "text": [
      "    Loglik (T):   -0.96641 +-    0.00465 (  -0.97107)\n",
      "    Loglik (V):   -0.95056 +-    0.00895 (  -0.95951)\n",
      "    KL (full):     0.62808 +-    0.00721 (   0.63529)\n",
      "    KL (diag):     0.24711 +-    0.00667 (   0.25378)\n",
      "result/train-epoch-022-1.pdf\n",
      "result/train-epoch-022-2.pdf\n"
     ]
    },
    {
     "name": "stderr",
     "output_type": "stream",
     "text": [
      "/Users/huangd5/anaconda3/envs/np/lib/python3.10/site-packages/stheno/mo/input.py:9: ToDenseWarning: Could not preserve structure in block matrix: converting to dense.\n",
      "  return B.block(*[[pairwise(k, xi, yi) for yi in y] for xi in x])\n",
      "/Users/huangd5/anaconda3/envs/np/lib/python3.10/site-packages/stheno/mo/input.py:9: ToDenseWarning: Could not preserve structure in block matrix: converting to dense.\n",
      "  return B.block(*[[pairwise(k, xi, yi) for yi in y] for xi in x])\n"
     ]
    },
    {
     "name": "stdout",
     "output_type": "stream",
     "text": [
      "result/train-epoch-022-3.pdf\n",
      "result/train-epoch-022-4.pdf\n"
     ]
    },
    {
     "name": "stderr",
     "output_type": "stream",
     "text": [
      "/Users/huangd5/anaconda3/envs/np/lib/python3.10/site-packages/stheno/mo/input.py:9: ToDenseWarning: Could not preserve structure in block matrix: converting to dense.\n",
      "  return B.block(*[[pairwise(k, xi, yi) for yi in y] for xi in x])\n",
      "/Users/huangd5/anaconda3/envs/np/lib/python3.10/site-packages/stheno/mo/input.py:9: ToDenseWarning: Could not preserve structure in block matrix: converting to dense.\n",
      "  return B.block(*[[pairwise(k, xi, yi) for yi in y] for xi in x])\n"
     ]
    },
    {
     "name": "stdout",
     "output_type": "stream",
     "text": [
      "result/train-epoch-022-5.pdf\n",
      "Epoch 23:\n"
     ]
    },
    {
     "name": "stderr",
     "output_type": "stream",
     "text": [
      "/Users/huangd5/anaconda3/envs/np/lib/python3.10/site-packages/stheno/mo/input.py:9: ToDenseWarning: Could not preserve structure in block matrix: converting to dense.\n",
      "  return B.block(*[[pairwise(k, xi, yi) for yi in y] for xi in x])\n"
     ]
    },
    {
     "name": "stdout",
     "output_type": "stream",
     "text": [
      "    Loglik (T):   -0.95106 +-    0.00471 (  -0.95577)\n",
      "    Loglik (V):   -0.93299 +-    0.00970 (  -0.94270)\n",
      "    KL (full):     0.61051 +-    0.00789 (   0.61840)\n",
      "    KL (diag):     0.22954 +-    0.00662 (   0.23617)\n",
      "result/train-epoch-023-1.pdf\n",
      "result/train-epoch-023-2.pdf\n"
     ]
    },
    {
     "name": "stderr",
     "output_type": "stream",
     "text": [
      "/Users/huangd5/anaconda3/envs/np/lib/python3.10/site-packages/stheno/mo/input.py:9: ToDenseWarning: Could not preserve structure in block matrix: converting to dense.\n",
      "  return B.block(*[[pairwise(k, xi, yi) for yi in y] for xi in x])\n",
      "/Users/huangd5/anaconda3/envs/np/lib/python3.10/site-packages/stheno/mo/input.py:9: ToDenseWarning: Could not preserve structure in block matrix: converting to dense.\n",
      "  return B.block(*[[pairwise(k, xi, yi) for yi in y] for xi in x])\n"
     ]
    },
    {
     "name": "stdout",
     "output_type": "stream",
     "text": [
      "result/train-epoch-023-3.pdf\n",
      "result/train-epoch-023-4.pdf\n"
     ]
    },
    {
     "name": "stderr",
     "output_type": "stream",
     "text": [
      "/Users/huangd5/anaconda3/envs/np/lib/python3.10/site-packages/stheno/mo/input.py:9: ToDenseWarning: Could not preserve structure in block matrix: converting to dense.\n",
      "  return B.block(*[[pairwise(k, xi, yi) for yi in y] for xi in x])\n",
      "/Users/huangd5/anaconda3/envs/np/lib/python3.10/site-packages/stheno/mo/input.py:9: ToDenseWarning: Could not preserve structure in block matrix: converting to dense.\n",
      "  return B.block(*[[pairwise(k, xi, yi) for yi in y] for xi in x])\n"
     ]
    },
    {
     "name": "stdout",
     "output_type": "stream",
     "text": [
      "result/train-epoch-023-5.pdf\n",
      "Epoch 24:\n"
     ]
    },
    {
     "name": "stderr",
     "output_type": "stream",
     "text": [
      "/Users/huangd5/anaconda3/envs/np/lib/python3.10/site-packages/stheno/mo/input.py:9: ToDenseWarning: Could not preserve structure in block matrix: converting to dense.\n",
      "  return B.block(*[[pairwise(k, xi, yi) for yi in y] for xi in x])\n"
     ]
    },
    {
     "name": "stdout",
     "output_type": "stream",
     "text": [
      "    Loglik (T):   -0.95432 +-    0.00482 (  -0.95914)\n",
      "    Loglik (V):   -0.93632 +-    0.00913 (  -0.94545)\n",
      "    KL (full):     0.61384 +-    0.00733 (   0.62117)\n",
      "    KL (diag):     0.23287 +-    0.00635 (   0.23923)\n",
      "result/train-epoch-024-1.pdf\n",
      "result/train-epoch-024-2.pdf\n"
     ]
    },
    {
     "name": "stderr",
     "output_type": "stream",
     "text": [
      "/Users/huangd5/anaconda3/envs/np/lib/python3.10/site-packages/stheno/mo/input.py:9: ToDenseWarning: Could not preserve structure in block matrix: converting to dense.\n",
      "  return B.block(*[[pairwise(k, xi, yi) for yi in y] for xi in x])\n",
      "/Users/huangd5/anaconda3/envs/np/lib/python3.10/site-packages/stheno/mo/input.py:9: ToDenseWarning: Could not preserve structure in block matrix: converting to dense.\n",
      "  return B.block(*[[pairwise(k, xi, yi) for yi in y] for xi in x])\n"
     ]
    },
    {
     "name": "stdout",
     "output_type": "stream",
     "text": [
      "result/train-epoch-024-3.pdf\n",
      "result/train-epoch-024-4.pdf\n"
     ]
    },
    {
     "name": "stderr",
     "output_type": "stream",
     "text": [
      "/Users/huangd5/anaconda3/envs/np/lib/python3.10/site-packages/stheno/mo/input.py:9: ToDenseWarning: Could not preserve structure in block matrix: converting to dense.\n",
      "  return B.block(*[[pairwise(k, xi, yi) for yi in y] for xi in x])\n",
      "/Users/huangd5/anaconda3/envs/np/lib/python3.10/site-packages/stheno/mo/input.py:9: ToDenseWarning: Could not preserve structure in block matrix: converting to dense.\n",
      "  return B.block(*[[pairwise(k, xi, yi) for yi in y] for xi in x])\n"
     ]
    },
    {
     "name": "stdout",
     "output_type": "stream",
     "text": [
      "result/train-epoch-024-5.pdf\n",
      "Epoch 25:\n"
     ]
    },
    {
     "name": "stderr",
     "output_type": "stream",
     "text": [
      "/Users/huangd5/anaconda3/envs/np/lib/python3.10/site-packages/stheno/mo/input.py:9: ToDenseWarning: Could not preserve structure in block matrix: converting to dense.\n",
      "  return B.block(*[[pairwise(k, xi, yi) for yi in y] for xi in x])\n"
     ]
    },
    {
     "name": "stdout",
     "output_type": "stream",
     "text": [
      "    Loglik (T):   -0.95107 +-    0.00469 (  -0.95576)\n",
      "    Loglik (V):   -0.92657 +-    0.00936 (  -0.93593)\n",
      "    KL (full):     0.60408 +-    0.00747 (   0.61155)\n",
      "    KL (diag):     0.22312 +-    0.00620 (   0.22932)\n",
      "result/train-epoch-025-1.pdf\n",
      "result/train-epoch-025-2.pdf\n"
     ]
    },
    {
     "name": "stderr",
     "output_type": "stream",
     "text": [
      "/Users/huangd5/anaconda3/envs/np/lib/python3.10/site-packages/stheno/mo/input.py:9: ToDenseWarning: Could not preserve structure in block matrix: converting to dense.\n",
      "  return B.block(*[[pairwise(k, xi, yi) for yi in y] for xi in x])\n",
      "/Users/huangd5/anaconda3/envs/np/lib/python3.10/site-packages/stheno/mo/input.py:9: ToDenseWarning: Could not preserve structure in block matrix: converting to dense.\n",
      "  return B.block(*[[pairwise(k, xi, yi) for yi in y] for xi in x])\n"
     ]
    },
    {
     "name": "stdout",
     "output_type": "stream",
     "text": [
      "result/train-epoch-025-3.pdf\n",
      "result/train-epoch-025-4.pdf\n"
     ]
    },
    {
     "name": "stderr",
     "output_type": "stream",
     "text": [
      "/Users/huangd5/anaconda3/envs/np/lib/python3.10/site-packages/stheno/mo/input.py:9: ToDenseWarning: Could not preserve structure in block matrix: converting to dense.\n",
      "  return B.block(*[[pairwise(k, xi, yi) for yi in y] for xi in x])\n",
      "/Users/huangd5/anaconda3/envs/np/lib/python3.10/site-packages/stheno/mo/input.py:9: ToDenseWarning: Could not preserve structure in block matrix: converting to dense.\n",
      "  return B.block(*[[pairwise(k, xi, yi) for yi in y] for xi in x])\n"
     ]
    },
    {
     "name": "stdout",
     "output_type": "stream",
     "text": [
      "result/train-epoch-025-5.pdf\n",
      "Epoch 26:\n"
     ]
    },
    {
     "name": "stderr",
     "output_type": "stream",
     "text": [
      "/Users/huangd5/anaconda3/envs/np/lib/python3.10/site-packages/stheno/mo/input.py:9: ToDenseWarning: Could not preserve structure in block matrix: converting to dense.\n",
      "  return B.block(*[[pairwise(k, xi, yi) for yi in y] for xi in x])\n"
     ]
    },
    {
     "name": "stdout",
     "output_type": "stream",
     "text": [
      "    Loglik (T):   -0.93908 +-    0.00470 (  -0.94378)\n",
      "    Loglik (V):   -0.93030 +-    0.00914 (  -0.93944)\n",
      "    KL (full):     0.60782 +-    0.00734 (   0.61516)\n",
      "    KL (diag):     0.22685 +-    0.00645 (   0.23330)\n",
      "result/train-epoch-026-1.pdf\n",
      "result/train-epoch-026-2.pdf\n"
     ]
    },
    {
     "name": "stderr",
     "output_type": "stream",
     "text": [
      "/Users/huangd5/anaconda3/envs/np/lib/python3.10/site-packages/stheno/mo/input.py:9: ToDenseWarning: Could not preserve structure in block matrix: converting to dense.\n",
      "  return B.block(*[[pairwise(k, xi, yi) for yi in y] for xi in x])\n",
      "/Users/huangd5/anaconda3/envs/np/lib/python3.10/site-packages/stheno/mo/input.py:9: ToDenseWarning: Could not preserve structure in block matrix: converting to dense.\n",
      "  return B.block(*[[pairwise(k, xi, yi) for yi in y] for xi in x])\n"
     ]
    },
    {
     "name": "stdout",
     "output_type": "stream",
     "text": [
      "result/train-epoch-026-3.pdf\n",
      "result/train-epoch-026-4.pdf\n"
     ]
    },
    {
     "name": "stderr",
     "output_type": "stream",
     "text": [
      "/Users/huangd5/anaconda3/envs/np/lib/python3.10/site-packages/stheno/mo/input.py:9: ToDenseWarning: Could not preserve structure in block matrix: converting to dense.\n",
      "  return B.block(*[[pairwise(k, xi, yi) for yi in y] for xi in x])\n",
      "/Users/huangd5/anaconda3/envs/np/lib/python3.10/site-packages/stheno/mo/input.py:9: ToDenseWarning: Could not preserve structure in block matrix: converting to dense.\n",
      "  return B.block(*[[pairwise(k, xi, yi) for yi in y] for xi in x])\n"
     ]
    },
    {
     "name": "stdout",
     "output_type": "stream",
     "text": [
      "result/train-epoch-026-5.pdf\n",
      "Epoch 27:\n"
     ]
    },
    {
     "name": "stderr",
     "output_type": "stream",
     "text": [
      "/Users/huangd5/anaconda3/envs/np/lib/python3.10/site-packages/stheno/mo/input.py:9: ToDenseWarning: Could not preserve structure in block matrix: converting to dense.\n",
      "  return B.block(*[[pairwise(k, xi, yi) for yi in y] for xi in x])\n"
     ]
    },
    {
     "name": "stdout",
     "output_type": "stream",
     "text": [
      "    Loglik (T):   -0.93860 +-    0.00473 (  -0.94332)\n",
      "    Loglik (V):   -0.93576 +-    0.00917 (  -0.94493)\n",
      "    KL (full):     0.61328 +-    0.00735 (   0.62063)\n",
      "    KL (diag):     0.23231 +-    0.00650 (   0.23881)\n",
      "result/train-epoch-027-1.pdf\n",
      "result/train-epoch-027-2.pdf\n"
     ]
    },
    {
     "name": "stderr",
     "output_type": "stream",
     "text": [
      "/Users/huangd5/anaconda3/envs/np/lib/python3.10/site-packages/stheno/mo/input.py:9: ToDenseWarning: Could not preserve structure in block matrix: converting to dense.\n",
      "  return B.block(*[[pairwise(k, xi, yi) for yi in y] for xi in x])\n",
      "/Users/huangd5/anaconda3/envs/np/lib/python3.10/site-packages/stheno/mo/input.py:9: ToDenseWarning: Could not preserve structure in block matrix: converting to dense.\n",
      "  return B.block(*[[pairwise(k, xi, yi) for yi in y] for xi in x])\n"
     ]
    },
    {
     "name": "stdout",
     "output_type": "stream",
     "text": [
      "result/train-epoch-027-3.pdf\n",
      "result/train-epoch-027-4.pdf\n"
     ]
    },
    {
     "name": "stderr",
     "output_type": "stream",
     "text": [
      "/Users/huangd5/anaconda3/envs/np/lib/python3.10/site-packages/stheno/mo/input.py:9: ToDenseWarning: Could not preserve structure in block matrix: converting to dense.\n",
      "  return B.block(*[[pairwise(k, xi, yi) for yi in y] for xi in x])\n",
      "/Users/huangd5/anaconda3/envs/np/lib/python3.10/site-packages/stheno/mo/input.py:9: ToDenseWarning: Could not preserve structure in block matrix: converting to dense.\n",
      "  return B.block(*[[pairwise(k, xi, yi) for yi in y] for xi in x])\n"
     ]
    },
    {
     "name": "stdout",
     "output_type": "stream",
     "text": [
      "result/train-epoch-027-5.pdf\n",
      "Epoch 28:\n"
     ]
    },
    {
     "name": "stderr",
     "output_type": "stream",
     "text": [
      "/Users/huangd5/anaconda3/envs/np/lib/python3.10/site-packages/stheno/mo/input.py:9: ToDenseWarning: Could not preserve structure in block matrix: converting to dense.\n",
      "  return B.block(*[[pairwise(k, xi, yi) for yi in y] for xi in x])\n"
     ]
    },
    {
     "name": "stdout",
     "output_type": "stream",
     "text": [
      "    Loglik (T):   -0.93571 +-    0.00482 (  -0.94052)\n",
      "    Loglik (V):   -0.93392 +-    0.00961 (  -0.94353)\n",
      "    KL (full):     0.61144 +-    0.00784 (   0.61928)\n",
      "    KL (diag):     0.23047 +-    0.00667 (   0.23714)\n",
      "result/train-epoch-028-1.pdf\n",
      "result/train-epoch-028-2.pdf\n"
     ]
    },
    {
     "name": "stderr",
     "output_type": "stream",
     "text": [
      "/Users/huangd5/anaconda3/envs/np/lib/python3.10/site-packages/stheno/mo/input.py:9: ToDenseWarning: Could not preserve structure in block matrix: converting to dense.\n",
      "  return B.block(*[[pairwise(k, xi, yi) for yi in y] for xi in x])\n",
      "/Users/huangd5/anaconda3/envs/np/lib/python3.10/site-packages/stheno/mo/input.py:9: ToDenseWarning: Could not preserve structure in block matrix: converting to dense.\n",
      "  return B.block(*[[pairwise(k, xi, yi) for yi in y] for xi in x])\n"
     ]
    },
    {
     "name": "stdout",
     "output_type": "stream",
     "text": [
      "result/train-epoch-028-3.pdf\n",
      "result/train-epoch-028-4.pdf\n"
     ]
    },
    {
     "name": "stderr",
     "output_type": "stream",
     "text": [
      "/Users/huangd5/anaconda3/envs/np/lib/python3.10/site-packages/stheno/mo/input.py:9: ToDenseWarning: Could not preserve structure in block matrix: converting to dense.\n",
      "  return B.block(*[[pairwise(k, xi, yi) for yi in y] for xi in x])\n",
      "/Users/huangd5/anaconda3/envs/np/lib/python3.10/site-packages/stheno/mo/input.py:9: ToDenseWarning: Could not preserve structure in block matrix: converting to dense.\n",
      "  return B.block(*[[pairwise(k, xi, yi) for yi in y] for xi in x])\n"
     ]
    },
    {
     "name": "stdout",
     "output_type": "stream",
     "text": [
      "result/train-epoch-028-5.pdf\n",
      "Epoch 29:\n"
     ]
    },
    {
     "name": "stderr",
     "output_type": "stream",
     "text": [
      "/Users/huangd5/anaconda3/envs/np/lib/python3.10/site-packages/stheno/mo/input.py:9: ToDenseWarning: Could not preserve structure in block matrix: converting to dense.\n",
      "  return B.block(*[[pairwise(k, xi, yi) for yi in y] for xi in x])\n"
     ]
    },
    {
     "name": "stdout",
     "output_type": "stream",
     "text": [
      "    Loglik (T):   -0.94316 +-    0.00492 (  -0.94808)\n",
      "    Loglik (V):   -0.91811 +-    0.00911 (  -0.92722)\n",
      "    KL (full):     0.59562 +-    0.00719 (   0.60281)\n",
      "    KL (diag):     0.21466 +-    0.00597 (   0.22063)\n",
      "result/train-epoch-029-1.pdf\n",
      "result/train-epoch-029-2.pdf\n"
     ]
    },
    {
     "name": "stderr",
     "output_type": "stream",
     "text": [
      "/Users/huangd5/anaconda3/envs/np/lib/python3.10/site-packages/stheno/mo/input.py:9: ToDenseWarning: Could not preserve structure in block matrix: converting to dense.\n",
      "  return B.block(*[[pairwise(k, xi, yi) for yi in y] for xi in x])\n",
      "/Users/huangd5/anaconda3/envs/np/lib/python3.10/site-packages/stheno/mo/input.py:9: ToDenseWarning: Could not preserve structure in block matrix: converting to dense.\n",
      "  return B.block(*[[pairwise(k, xi, yi) for yi in y] for xi in x])\n"
     ]
    },
    {
     "name": "stdout",
     "output_type": "stream",
     "text": [
      "result/train-epoch-029-3.pdf\n",
      "result/train-epoch-029-4.pdf\n"
     ]
    },
    {
     "name": "stderr",
     "output_type": "stream",
     "text": [
      "/Users/huangd5/anaconda3/envs/np/lib/python3.10/site-packages/stheno/mo/input.py:9: ToDenseWarning: Could not preserve structure in block matrix: converting to dense.\n",
      "  return B.block(*[[pairwise(k, xi, yi) for yi in y] for xi in x])\n",
      "/Users/huangd5/anaconda3/envs/np/lib/python3.10/site-packages/stheno/mo/input.py:9: ToDenseWarning: Could not preserve structure in block matrix: converting to dense.\n",
      "  return B.block(*[[pairwise(k, xi, yi) for yi in y] for xi in x])\n"
     ]
    },
    {
     "name": "stdout",
     "output_type": "stream",
     "text": [
      "result/train-epoch-029-5.pdf\n",
      "Epoch 30:\n"
     ]
    },
    {
     "name": "stderr",
     "output_type": "stream",
     "text": [
      "/Users/huangd5/anaconda3/envs/np/lib/python3.10/site-packages/stheno/mo/input.py:9: ToDenseWarning: Could not preserve structure in block matrix: converting to dense.\n",
      "  return B.block(*[[pairwise(k, xi, yi) for yi in y] for xi in x])\n"
     ]
    },
    {
     "name": "stdout",
     "output_type": "stream",
     "text": [
      "    Loglik (T):   -0.92614 +-    0.00471 (  -0.93085)\n",
      "    Loglik (V):   -0.91212 +-    0.00948 (  -0.92160)\n",
      "    KL (full):     0.58964 +-    0.00753 (   0.59716)\n",
      "    KL (diag):     0.20867 +-    0.00612 (   0.21479)\n",
      "result/train-epoch-030-1.pdf\n",
      "result/train-epoch-030-2.pdf\n"
     ]
    },
    {
     "name": "stderr",
     "output_type": "stream",
     "text": [
      "/Users/huangd5/anaconda3/envs/np/lib/python3.10/site-packages/stheno/mo/input.py:9: ToDenseWarning: Could not preserve structure in block matrix: converting to dense.\n",
      "  return B.block(*[[pairwise(k, xi, yi) for yi in y] for xi in x])\n",
      "/Users/huangd5/anaconda3/envs/np/lib/python3.10/site-packages/stheno/mo/input.py:9: ToDenseWarning: Could not preserve structure in block matrix: converting to dense.\n",
      "  return B.block(*[[pairwise(k, xi, yi) for yi in y] for xi in x])\n"
     ]
    },
    {
     "name": "stdout",
     "output_type": "stream",
     "text": [
      "result/train-epoch-030-3.pdf\n",
      "result/train-epoch-030-4.pdf\n"
     ]
    },
    {
     "name": "stderr",
     "output_type": "stream",
     "text": [
      "/Users/huangd5/anaconda3/envs/np/lib/python3.10/site-packages/stheno/mo/input.py:9: ToDenseWarning: Could not preserve structure in block matrix: converting to dense.\n",
      "  return B.block(*[[pairwise(k, xi, yi) for yi in y] for xi in x])\n",
      "/Users/huangd5/anaconda3/envs/np/lib/python3.10/site-packages/stheno/mo/input.py:9: ToDenseWarning: Could not preserve structure in block matrix: converting to dense.\n",
      "  return B.block(*[[pairwise(k, xi, yi) for yi in y] for xi in x])\n"
     ]
    },
    {
     "name": "stdout",
     "output_type": "stream",
     "text": [
      "result/train-epoch-030-5.pdf\n",
      "Epoch 31:\n"
     ]
    },
    {
     "name": "stderr",
     "output_type": "stream",
     "text": [
      "/Users/huangd5/anaconda3/envs/np/lib/python3.10/site-packages/stheno/mo/input.py:9: ToDenseWarning: Could not preserve structure in block matrix: converting to dense.\n",
      "  return B.block(*[[pairwise(k, xi, yi) for yi in y] for xi in x])\n"
     ]
    },
    {
     "name": "stdout",
     "output_type": "stream",
     "text": [
      "    Loglik (T):   -0.91909 +-    0.00479 (  -0.92388)\n",
      "    Loglik (V):   -0.91221 +-    0.00977 (  -0.92197)\n",
      "    KL (full):     0.58973 +-    0.00783 (   0.59755)\n",
      "    KL (diag):     0.20876 +-    0.00627 (   0.21503)\n",
      "result/train-epoch-031-1.pdf\n",
      "result/train-epoch-031-2.pdf\n"
     ]
    },
    {
     "name": "stderr",
     "output_type": "stream",
     "text": [
      "/Users/huangd5/anaconda3/envs/np/lib/python3.10/site-packages/stheno/mo/input.py:9: ToDenseWarning: Could not preserve structure in block matrix: converting to dense.\n",
      "  return B.block(*[[pairwise(k, xi, yi) for yi in y] for xi in x])\n",
      "/Users/huangd5/anaconda3/envs/np/lib/python3.10/site-packages/stheno/mo/input.py:9: ToDenseWarning: Could not preserve structure in block matrix: converting to dense.\n",
      "  return B.block(*[[pairwise(k, xi, yi) for yi in y] for xi in x])\n"
     ]
    },
    {
     "name": "stdout",
     "output_type": "stream",
     "text": [
      "result/train-epoch-031-3.pdf\n",
      "result/train-epoch-031-4.pdf\n"
     ]
    },
    {
     "name": "stderr",
     "output_type": "stream",
     "text": [
      "/Users/huangd5/anaconda3/envs/np/lib/python3.10/site-packages/stheno/mo/input.py:9: ToDenseWarning: Could not preserve structure in block matrix: converting to dense.\n",
      "  return B.block(*[[pairwise(k, xi, yi) for yi in y] for xi in x])\n",
      "/Users/huangd5/anaconda3/envs/np/lib/python3.10/site-packages/stheno/mo/input.py:9: ToDenseWarning: Could not preserve structure in block matrix: converting to dense.\n",
      "  return B.block(*[[pairwise(k, xi, yi) for yi in y] for xi in x])\n"
     ]
    },
    {
     "name": "stdout",
     "output_type": "stream",
     "text": [
      "result/train-epoch-031-5.pdf\n",
      "Epoch 32:\n"
     ]
    },
    {
     "name": "stderr",
     "output_type": "stream",
     "text": [
      "/Users/huangd5/anaconda3/envs/np/lib/python3.10/site-packages/stheno/mo/input.py:9: ToDenseWarning: Could not preserve structure in block matrix: converting to dense.\n",
      "  return B.block(*[[pairwise(k, xi, yi) for yi in y] for xi in x])\n"
     ]
    },
    {
     "name": "stdout",
     "output_type": "stream",
     "text": [
      "    Loglik (T):   -0.92251 +-    0.00476 (  -0.92726)\n",
      "    Loglik (V):   -0.91114 +-    0.00921 (  -0.92035)\n",
      "    KL (full):     0.58865 +-    0.00725 (   0.59590)\n",
      "    KL (diag):     0.20769 +-    0.00592 (   0.21361)\n",
      "result/train-epoch-032-1.pdf\n",
      "result/train-epoch-032-2.pdf\n"
     ]
    },
    {
     "name": "stderr",
     "output_type": "stream",
     "text": [
      "/Users/huangd5/anaconda3/envs/np/lib/python3.10/site-packages/stheno/mo/input.py:9: ToDenseWarning: Could not preserve structure in block matrix: converting to dense.\n",
      "  return B.block(*[[pairwise(k, xi, yi) for yi in y] for xi in x])\n",
      "/Users/huangd5/anaconda3/envs/np/lib/python3.10/site-packages/stheno/mo/input.py:9: ToDenseWarning: Could not preserve structure in block matrix: converting to dense.\n",
      "  return B.block(*[[pairwise(k, xi, yi) for yi in y] for xi in x])\n"
     ]
    },
    {
     "name": "stdout",
     "output_type": "stream",
     "text": [
      "result/train-epoch-032-3.pdf\n",
      "result/train-epoch-032-4.pdf\n"
     ]
    },
    {
     "name": "stderr",
     "output_type": "stream",
     "text": [
      "/Users/huangd5/anaconda3/envs/np/lib/python3.10/site-packages/stheno/mo/input.py:9: ToDenseWarning: Could not preserve structure in block matrix: converting to dense.\n",
      "  return B.block(*[[pairwise(k, xi, yi) for yi in y] for xi in x])\n",
      "/Users/huangd5/anaconda3/envs/np/lib/python3.10/site-packages/stheno/mo/input.py:9: ToDenseWarning: Could not preserve structure in block matrix: converting to dense.\n",
      "  return B.block(*[[pairwise(k, xi, yi) for yi in y] for xi in x])\n"
     ]
    },
    {
     "name": "stdout",
     "output_type": "stream",
     "text": [
      "result/train-epoch-032-5.pdf\n",
      "Epoch 33:\n"
     ]
    },
    {
     "name": "stderr",
     "output_type": "stream",
     "text": [
      "/Users/huangd5/anaconda3/envs/np/lib/python3.10/site-packages/stheno/mo/input.py:9: ToDenseWarning: Could not preserve structure in block matrix: converting to dense.\n",
      "  return B.block(*[[pairwise(k, xi, yi) for yi in y] for xi in x])\n"
     ]
    },
    {
     "name": "stdout",
     "output_type": "stream",
     "text": [
      "    Loglik (T):   -0.94617 +-    0.00490 (  -0.95106)\n",
      "    Loglik (V):   -0.90173 +-    0.00930 (  -0.91103)\n",
      "    KL (full):     0.57925 +-    0.00726 (   0.58650)\n",
      "    KL (diag):     0.19828 +-    0.00569 (   0.20397)\n",
      "result/train-epoch-033-1.pdf\n",
      "result/train-epoch-033-2.pdf\n"
     ]
    },
    {
     "name": "stderr",
     "output_type": "stream",
     "text": [
      "/Users/huangd5/anaconda3/envs/np/lib/python3.10/site-packages/stheno/mo/input.py:9: ToDenseWarning: Could not preserve structure in block matrix: converting to dense.\n",
      "  return B.block(*[[pairwise(k, xi, yi) for yi in y] for xi in x])\n",
      "/Users/huangd5/anaconda3/envs/np/lib/python3.10/site-packages/stheno/mo/input.py:9: ToDenseWarning: Could not preserve structure in block matrix: converting to dense.\n",
      "  return B.block(*[[pairwise(k, xi, yi) for yi in y] for xi in x])\n"
     ]
    },
    {
     "name": "stdout",
     "output_type": "stream",
     "text": [
      "result/train-epoch-033-3.pdf\n",
      "result/train-epoch-033-4.pdf\n"
     ]
    },
    {
     "name": "stderr",
     "output_type": "stream",
     "text": [
      "/Users/huangd5/anaconda3/envs/np/lib/python3.10/site-packages/stheno/mo/input.py:9: ToDenseWarning: Could not preserve structure in block matrix: converting to dense.\n",
      "  return B.block(*[[pairwise(k, xi, yi) for yi in y] for xi in x])\n",
      "/Users/huangd5/anaconda3/envs/np/lib/python3.10/site-packages/stheno/mo/input.py:9: ToDenseWarning: Could not preserve structure in block matrix: converting to dense.\n",
      "  return B.block(*[[pairwise(k, xi, yi) for yi in y] for xi in x])\n"
     ]
    },
    {
     "name": "stdout",
     "output_type": "stream",
     "text": [
      "result/train-epoch-033-5.pdf\n",
      "Epoch 34:\n"
     ]
    },
    {
     "name": "stderr",
     "output_type": "stream",
     "text": [
      "/Users/huangd5/anaconda3/envs/np/lib/python3.10/site-packages/stheno/mo/input.py:9: ToDenseWarning: Could not preserve structure in block matrix: converting to dense.\n",
      "  return B.block(*[[pairwise(k, xi, yi) for yi in y] for xi in x])\n"
     ]
    },
    {
     "name": "stdout",
     "output_type": "stream",
     "text": [
      "    Loglik (T):   -0.92360 +-    0.00484 (  -0.92844)\n",
      "    Loglik (V):   -0.91053 +-    0.00953 (  -0.92005)\n",
      "    KL (full):     0.58805 +-    0.00761 (   0.59565)\n",
      "    KL (diag):     0.20708 +-    0.00622 (   0.21329)\n",
      "result/train-epoch-034-1.pdf\n",
      "result/train-epoch-034-2.pdf\n"
     ]
    },
    {
     "name": "stderr",
     "output_type": "stream",
     "text": [
      "/Users/huangd5/anaconda3/envs/np/lib/python3.10/site-packages/stheno/mo/input.py:9: ToDenseWarning: Could not preserve structure in block matrix: converting to dense.\n",
      "  return B.block(*[[pairwise(k, xi, yi) for yi in y] for xi in x])\n",
      "/Users/huangd5/anaconda3/envs/np/lib/python3.10/site-packages/stheno/mo/input.py:9: ToDenseWarning: Could not preserve structure in block matrix: converting to dense.\n",
      "  return B.block(*[[pairwise(k, xi, yi) for yi in y] for xi in x])\n"
     ]
    },
    {
     "name": "stdout",
     "output_type": "stream",
     "text": [
      "result/train-epoch-034-3.pdf\n",
      "result/train-epoch-034-4.pdf\n"
     ]
    },
    {
     "name": "stderr",
     "output_type": "stream",
     "text": [
      "/Users/huangd5/anaconda3/envs/np/lib/python3.10/site-packages/stheno/mo/input.py:9: ToDenseWarning: Could not preserve structure in block matrix: converting to dense.\n",
      "  return B.block(*[[pairwise(k, xi, yi) for yi in y] for xi in x])\n",
      "/Users/huangd5/anaconda3/envs/np/lib/python3.10/site-packages/stheno/mo/input.py:9: ToDenseWarning: Could not preserve structure in block matrix: converting to dense.\n",
      "  return B.block(*[[pairwise(k, xi, yi) for yi in y] for xi in x])\n"
     ]
    },
    {
     "name": "stdout",
     "output_type": "stream",
     "text": [
      "result/train-epoch-034-5.pdf\n",
      "Epoch 35:\n"
     ]
    },
    {
     "name": "stderr",
     "output_type": "stream",
     "text": [
      "/Users/huangd5/anaconda3/envs/np/lib/python3.10/site-packages/stheno/mo/input.py:9: ToDenseWarning: Could not preserve structure in block matrix: converting to dense.\n",
      "  return B.block(*[[pairwise(k, xi, yi) for yi in y] for xi in x])\n"
     ]
    },
    {
     "name": "stdout",
     "output_type": "stream",
     "text": [
      "    Loglik (T):   -0.92573 +-    0.00481 (  -0.93054)\n",
      "    Loglik (V):   -0.89575 +-    0.00921 (  -0.90496)\n",
      "    KL (full):     0.57326 +-    0.00712 (   0.58038)\n",
      "    KL (diag):     0.19230 +-    0.00545 (   0.19775)\n",
      "result/train-epoch-035-1.pdf\n",
      "result/train-epoch-035-2.pdf\n"
     ]
    },
    {
     "name": "stderr",
     "output_type": "stream",
     "text": [
      "/Users/huangd5/anaconda3/envs/np/lib/python3.10/site-packages/stheno/mo/input.py:9: ToDenseWarning: Could not preserve structure in block matrix: converting to dense.\n",
      "  return B.block(*[[pairwise(k, xi, yi) for yi in y] for xi in x])\n",
      "/Users/huangd5/anaconda3/envs/np/lib/python3.10/site-packages/stheno/mo/input.py:9: ToDenseWarning: Could not preserve structure in block matrix: converting to dense.\n",
      "  return B.block(*[[pairwise(k, xi, yi) for yi in y] for xi in x])\n"
     ]
    },
    {
     "name": "stdout",
     "output_type": "stream",
     "text": [
      "result/train-epoch-035-3.pdf\n",
      "result/train-epoch-035-4.pdf\n"
     ]
    },
    {
     "name": "stderr",
     "output_type": "stream",
     "text": [
      "/Users/huangd5/anaconda3/envs/np/lib/python3.10/site-packages/stheno/mo/input.py:9: ToDenseWarning: Could not preserve structure in block matrix: converting to dense.\n",
      "  return B.block(*[[pairwise(k, xi, yi) for yi in y] for xi in x])\n",
      "/Users/huangd5/anaconda3/envs/np/lib/python3.10/site-packages/stheno/mo/input.py:9: ToDenseWarning: Could not preserve structure in block matrix: converting to dense.\n",
      "  return B.block(*[[pairwise(k, xi, yi) for yi in y] for xi in x])\n"
     ]
    },
    {
     "name": "stdout",
     "output_type": "stream",
     "text": [
      "result/train-epoch-035-5.pdf\n",
      "Epoch 36:\n"
     ]
    },
    {
     "name": "stderr",
     "output_type": "stream",
     "text": [
      "/Users/huangd5/anaconda3/envs/np/lib/python3.10/site-packages/stheno/mo/input.py:9: ToDenseWarning: Could not preserve structure in block matrix: converting to dense.\n",
      "  return B.block(*[[pairwise(k, xi, yi) for yi in y] for xi in x])\n"
     ]
    },
    {
     "name": "stdout",
     "output_type": "stream",
     "text": [
      "    Loglik (T):   -0.91174 +-    0.00479 (  -0.91654)\n",
      "    Loglik (V):   -0.89405 +-    0.00950 (  -0.90355)\n",
      "    KL (full):     0.57157 +-    0.00747 (   0.57904)\n",
      "    KL (diag):     0.19060 +-    0.00577 (   0.19637)\n",
      "result/train-epoch-036-1.pdf\n",
      "result/train-epoch-036-2.pdf\n"
     ]
    },
    {
     "name": "stderr",
     "output_type": "stream",
     "text": [
      "/Users/huangd5/anaconda3/envs/np/lib/python3.10/site-packages/stheno/mo/input.py:9: ToDenseWarning: Could not preserve structure in block matrix: converting to dense.\n",
      "  return B.block(*[[pairwise(k, xi, yi) for yi in y] for xi in x])\n",
      "/Users/huangd5/anaconda3/envs/np/lib/python3.10/site-packages/stheno/mo/input.py:9: ToDenseWarning: Could not preserve structure in block matrix: converting to dense.\n",
      "  return B.block(*[[pairwise(k, xi, yi) for yi in y] for xi in x])\n"
     ]
    },
    {
     "name": "stdout",
     "output_type": "stream",
     "text": [
      "result/train-epoch-036-3.pdf\n",
      "result/train-epoch-036-4.pdf\n"
     ]
    },
    {
     "name": "stderr",
     "output_type": "stream",
     "text": [
      "/Users/huangd5/anaconda3/envs/np/lib/python3.10/site-packages/stheno/mo/input.py:9: ToDenseWarning: Could not preserve structure in block matrix: converting to dense.\n",
      "  return B.block(*[[pairwise(k, xi, yi) for yi in y] for xi in x])\n",
      "/Users/huangd5/anaconda3/envs/np/lib/python3.10/site-packages/stheno/mo/input.py:9: ToDenseWarning: Could not preserve structure in block matrix: converting to dense.\n",
      "  return B.block(*[[pairwise(k, xi, yi) for yi in y] for xi in x])\n"
     ]
    },
    {
     "name": "stdout",
     "output_type": "stream",
     "text": [
      "result/train-epoch-036-5.pdf\n",
      "Epoch 37:\n"
     ]
    },
    {
     "name": "stderr",
     "output_type": "stream",
     "text": [
      "/Users/huangd5/anaconda3/envs/np/lib/python3.10/site-packages/stheno/mo/input.py:9: ToDenseWarning: Could not preserve structure in block matrix: converting to dense.\n",
      "  return B.block(*[[pairwise(k, xi, yi) for yi in y] for xi in x])\n"
     ]
    },
    {
     "name": "stdout",
     "output_type": "stream",
     "text": [
      "    Loglik (T):   -0.90948 +-    0.00476 (  -0.91425)\n",
      "    Loglik (V):   -0.89662 +-    0.00985 (  -0.90647)\n",
      "    KL (full):     0.57413 +-    0.00780 (   0.58194)\n",
      "    KL (diag):     0.19317 +-    0.00596 (   0.19913)\n",
      "result/train-epoch-037-1.pdf\n",
      "result/train-epoch-037-2.pdf\n"
     ]
    },
    {
     "name": "stderr",
     "output_type": "stream",
     "text": [
      "/Users/huangd5/anaconda3/envs/np/lib/python3.10/site-packages/stheno/mo/input.py:9: ToDenseWarning: Could not preserve structure in block matrix: converting to dense.\n",
      "  return B.block(*[[pairwise(k, xi, yi) for yi in y] for xi in x])\n"
     ]
    },
    {
     "name": "stdout",
     "output_type": "stream",
     "text": [
      "result/train-epoch-037-3.pdf\n",
      "result/train-epoch-037-4.pdf\n"
     ]
    },
    {
     "name": "stderr",
     "output_type": "stream",
     "text": [
      "/Users/huangd5/anaconda3/envs/np/lib/python3.10/site-packages/stheno/mo/input.py:9: ToDenseWarning: Could not preserve structure in block matrix: converting to dense.\n",
      "  return B.block(*[[pairwise(k, xi, yi) for yi in y] for xi in x])\n",
      "/Users/huangd5/anaconda3/envs/np/lib/python3.10/site-packages/stheno/mo/input.py:9: ToDenseWarning: Could not preserve structure in block matrix: converting to dense.\n",
      "  return B.block(*[[pairwise(k, xi, yi) for yi in y] for xi in x])\n"
     ]
    },
    {
     "name": "stdout",
     "output_type": "stream",
     "text": [
      "result/train-epoch-037-5.pdf\n",
      "Epoch 38:\n"
     ]
    },
    {
     "name": "stderr",
     "output_type": "stream",
     "text": [
      "/Users/huangd5/anaconda3/envs/np/lib/python3.10/site-packages/stheno/mo/input.py:9: ToDenseWarning: Could not preserve structure in block matrix: converting to dense.\n",
      "  return B.block(*[[pairwise(k, xi, yi) for yi in y] for xi in x])\n",
      "/Users/huangd5/anaconda3/envs/np/lib/python3.10/site-packages/stheno/mo/input.py:9: ToDenseWarning: Could not preserve structure in block matrix: converting to dense.\n",
      "  return B.block(*[[pairwise(k, xi, yi) for yi in y] for xi in x])\n"
     ]
    },
    {
     "name": "stdout",
     "output_type": "stream",
     "text": [
      "    Loglik (T):   -0.91395 +-    0.00488 (  -0.91883)\n",
      "    Loglik (V):   -0.88238 +-    0.00980 (  -0.89218)\n",
      "    KL (full):     0.55990 +-    0.00771 (   0.56761)\n",
      "    KL (diag):     0.17893 +-    0.00572 (   0.18465)\n",
      "result/train-epoch-038-1.pdf\n",
      "result/train-epoch-038-2.pdf\n"
     ]
    },
    {
     "name": "stderr",
     "output_type": "stream",
     "text": [
      "/Users/huangd5/anaconda3/envs/np/lib/python3.10/site-packages/stheno/mo/input.py:9: ToDenseWarning: Could not preserve structure in block matrix: converting to dense.\n",
      "  return B.block(*[[pairwise(k, xi, yi) for yi in y] for xi in x])\n",
      "/Users/huangd5/anaconda3/envs/np/lib/python3.10/site-packages/stheno/mo/input.py:9: ToDenseWarning: Could not preserve structure in block matrix: converting to dense.\n",
      "  return B.block(*[[pairwise(k, xi, yi) for yi in y] for xi in x])\n"
     ]
    },
    {
     "name": "stdout",
     "output_type": "stream",
     "text": [
      "result/train-epoch-038-3.pdf\n",
      "result/train-epoch-038-4.pdf\n"
     ]
    },
    {
     "name": "stderr",
     "output_type": "stream",
     "text": [
      "/Users/huangd5/anaconda3/envs/np/lib/python3.10/site-packages/stheno/mo/input.py:9: ToDenseWarning: Could not preserve structure in block matrix: converting to dense.\n",
      "  return B.block(*[[pairwise(k, xi, yi) for yi in y] for xi in x])\n",
      "/Users/huangd5/anaconda3/envs/np/lib/python3.10/site-packages/stheno/mo/input.py:9: ToDenseWarning: Could not preserve structure in block matrix: converting to dense.\n",
      "  return B.block(*[[pairwise(k, xi, yi) for yi in y] for xi in x])\n"
     ]
    },
    {
     "name": "stdout",
     "output_type": "stream",
     "text": [
      "result/train-epoch-038-5.pdf\n",
      "Epoch 39:\n"
     ]
    },
    {
     "name": "stderr",
     "output_type": "stream",
     "text": [
      "/Users/huangd5/anaconda3/envs/np/lib/python3.10/site-packages/stheno/mo/input.py:9: ToDenseWarning: Could not preserve structure in block matrix: converting to dense.\n",
      "  return B.block(*[[pairwise(k, xi, yi) for yi in y] for xi in x])\n"
     ]
    },
    {
     "name": "stdout",
     "output_type": "stream",
     "text": [
      "    Loglik (T):   -0.91528 +-    0.00487 (  -0.92016)\n",
      "    Loglik (V):   -0.91672 +-    0.00947 (  -0.92619)\n",
      "    KL (full):     0.59423 +-    0.00757 (   0.60180)\n",
      "    KL (diag):     0.21327 +-    0.00627 (   0.21953)\n",
      "result/train-epoch-039-1.pdf\n",
      "result/train-epoch-039-2.pdf\n"
     ]
    },
    {
     "name": "stderr",
     "output_type": "stream",
     "text": [
      "/Users/huangd5/anaconda3/envs/np/lib/python3.10/site-packages/stheno/mo/input.py:9: ToDenseWarning: Could not preserve structure in block matrix: converting to dense.\n",
      "  return B.block(*[[pairwise(k, xi, yi) for yi in y] for xi in x])\n",
      "/Users/huangd5/anaconda3/envs/np/lib/python3.10/site-packages/stheno/mo/input.py:9: ToDenseWarning: Could not preserve structure in block matrix: converting to dense.\n",
      "  return B.block(*[[pairwise(k, xi, yi) for yi in y] for xi in x])\n"
     ]
    },
    {
     "name": "stdout",
     "output_type": "stream",
     "text": [
      "result/train-epoch-039-3.pdf\n",
      "result/train-epoch-039-4.pdf\n"
     ]
    },
    {
     "name": "stderr",
     "output_type": "stream",
     "text": [
      "/Users/huangd5/anaconda3/envs/np/lib/python3.10/site-packages/stheno/mo/input.py:9: ToDenseWarning: Could not preserve structure in block matrix: converting to dense.\n",
      "  return B.block(*[[pairwise(k, xi, yi) for yi in y] for xi in x])\n",
      "/Users/huangd5/anaconda3/envs/np/lib/python3.10/site-packages/stheno/mo/input.py:9: ToDenseWarning: Could not preserve structure in block matrix: converting to dense.\n",
      "  return B.block(*[[pairwise(k, xi, yi) for yi in y] for xi in x])\n"
     ]
    },
    {
     "name": "stdout",
     "output_type": "stream",
     "text": [
      "result/train-epoch-039-5.pdf\n",
      "Epoch 40:\n"
     ]
    },
    {
     "name": "stderr",
     "output_type": "stream",
     "text": [
      "/Users/huangd5/anaconda3/envs/np/lib/python3.10/site-packages/stheno/mo/input.py:9: ToDenseWarning: Could not preserve structure in block matrix: converting to dense.\n",
      "  return B.block(*[[pairwise(k, xi, yi) for yi in y] for xi in x])\n"
     ]
    },
    {
     "name": "stdout",
     "output_type": "stream",
     "text": [
      "    Loglik (T):   -0.89753 +-    0.00470 (  -0.90223)\n",
      "    Loglik (V):   -0.89662 +-    0.00955 (  -0.90617)\n",
      "    KL (full):     0.57414 +-    0.00751 (   0.58164)\n",
      "    KL (diag):     0.19317 +-    0.00585 (   0.19902)\n",
      "result/train-epoch-040-1.pdf\n",
      "result/train-epoch-040-2.pdf\n"
     ]
    },
    {
     "name": "stderr",
     "output_type": "stream",
     "text": [
      "/Users/huangd5/anaconda3/envs/np/lib/python3.10/site-packages/stheno/mo/input.py:9: ToDenseWarning: Could not preserve structure in block matrix: converting to dense.\n",
      "  return B.block(*[[pairwise(k, xi, yi) for yi in y] for xi in x])\n",
      "/Users/huangd5/anaconda3/envs/np/lib/python3.10/site-packages/stheno/mo/input.py:9: ToDenseWarning: Could not preserve structure in block matrix: converting to dense.\n",
      "  return B.block(*[[pairwise(k, xi, yi) for yi in y] for xi in x])\n"
     ]
    },
    {
     "name": "stdout",
     "output_type": "stream",
     "text": [
      "result/train-epoch-040-3.pdf\n",
      "result/train-epoch-040-4.pdf\n"
     ]
    },
    {
     "name": "stderr",
     "output_type": "stream",
     "text": [
      "/Users/huangd5/anaconda3/envs/np/lib/python3.10/site-packages/stheno/mo/input.py:9: ToDenseWarning: Could not preserve structure in block matrix: converting to dense.\n",
      "  return B.block(*[[pairwise(k, xi, yi) for yi in y] for xi in x])\n",
      "/Users/huangd5/anaconda3/envs/np/lib/python3.10/site-packages/stheno/mo/input.py:9: ToDenseWarning: Could not preserve structure in block matrix: converting to dense.\n",
      "  return B.block(*[[pairwise(k, xi, yi) for yi in y] for xi in x])\n"
     ]
    },
    {
     "name": "stdout",
     "output_type": "stream",
     "text": [
      "result/train-epoch-040-5.pdf\n",
      "Epoch 41:\n"
     ]
    },
    {
     "name": "stderr",
     "output_type": "stream",
     "text": [
      "/Users/huangd5/anaconda3/envs/np/lib/python3.10/site-packages/stheno/mo/input.py:9: ToDenseWarning: Could not preserve structure in block matrix: converting to dense.\n",
      "  return B.block(*[[pairwise(k, xi, yi) for yi in y] for xi in x])\n"
     ]
    },
    {
     "name": "stdout",
     "output_type": "stream",
     "text": [
      "    Loglik (T):   -0.91076 +-    0.00503 (  -0.91578)\n",
      "    Loglik (V):   -0.88700 +-    0.00957 (  -0.89656)\n",
      "    KL (full):     0.56451 +-    0.00752 (   0.57203)\n",
      "    KL (diag):     0.18355 +-    0.00572 (   0.18927)\n",
      "result/train-epoch-041-1.pdf\n",
      "result/train-epoch-041-2.pdf\n"
     ]
    },
    {
     "name": "stderr",
     "output_type": "stream",
     "text": [
      "/Users/huangd5/anaconda3/envs/np/lib/python3.10/site-packages/stheno/mo/input.py:9: ToDenseWarning: Could not preserve structure in block matrix: converting to dense.\n",
      "  return B.block(*[[pairwise(k, xi, yi) for yi in y] for xi in x])\n",
      "/Users/huangd5/anaconda3/envs/np/lib/python3.10/site-packages/stheno/mo/input.py:9: ToDenseWarning: Could not preserve structure in block matrix: converting to dense.\n",
      "  return B.block(*[[pairwise(k, xi, yi) for yi in y] for xi in x])\n"
     ]
    },
    {
     "name": "stdout",
     "output_type": "stream",
     "text": [
      "result/train-epoch-041-3.pdf\n",
      "result/train-epoch-041-4.pdf\n"
     ]
    },
    {
     "name": "stderr",
     "output_type": "stream",
     "text": [
      "/Users/huangd5/anaconda3/envs/np/lib/python3.10/site-packages/stheno/mo/input.py:9: ToDenseWarning: Could not preserve structure in block matrix: converting to dense.\n",
      "  return B.block(*[[pairwise(k, xi, yi) for yi in y] for xi in x])\n",
      "/Users/huangd5/anaconda3/envs/np/lib/python3.10/site-packages/stheno/mo/input.py:9: ToDenseWarning: Could not preserve structure in block matrix: converting to dense.\n",
      "  return B.block(*[[pairwise(k, xi, yi) for yi in y] for xi in x])\n"
     ]
    },
    {
     "name": "stdout",
     "output_type": "stream",
     "text": [
      "result/train-epoch-041-5.pdf\n",
      "Epoch 42:\n"
     ]
    },
    {
     "name": "stderr",
     "output_type": "stream",
     "text": [
      "/Users/huangd5/anaconda3/envs/np/lib/python3.10/site-packages/stheno/mo/input.py:9: ToDenseWarning: Could not preserve structure in block matrix: converting to dense.\n",
      "  return B.block(*[[pairwise(k, xi, yi) for yi in y] for xi in x])\n"
     ]
    },
    {
     "name": "stdout",
     "output_type": "stream",
     "text": [
      "    Loglik (T):   -0.90114 +-    0.00492 (  -0.90606)\n",
      "    Loglik (V):   -0.88750 +-    0.00949 (  -0.89699)\n",
      "    KL (full):     0.56502 +-    0.00737 (   0.57238)\n",
      "    KL (diag):     0.18405 +-    0.00550 (   0.18955)\n",
      "result/train-epoch-042-1.pdf\n",
      "result/train-epoch-042-2.pdf\n"
     ]
    },
    {
     "name": "stderr",
     "output_type": "stream",
     "text": [
      "/Users/huangd5/anaconda3/envs/np/lib/python3.10/site-packages/stheno/mo/input.py:9: ToDenseWarning: Could not preserve structure in block matrix: converting to dense.\n",
      "  return B.block(*[[pairwise(k, xi, yi) for yi in y] for xi in x])\n",
      "/Users/huangd5/anaconda3/envs/np/lib/python3.10/site-packages/stheno/mo/input.py:9: ToDenseWarning: Could not preserve structure in block matrix: converting to dense.\n",
      "  return B.block(*[[pairwise(k, xi, yi) for yi in y] for xi in x])\n"
     ]
    },
    {
     "name": "stdout",
     "output_type": "stream",
     "text": [
      "result/train-epoch-042-3.pdf\n",
      "result/train-epoch-042-4.pdf\n"
     ]
    },
    {
     "name": "stderr",
     "output_type": "stream",
     "text": [
      "/Users/huangd5/anaconda3/envs/np/lib/python3.10/site-packages/stheno/mo/input.py:9: ToDenseWarning: Could not preserve structure in block matrix: converting to dense.\n",
      "  return B.block(*[[pairwise(k, xi, yi) for yi in y] for xi in x])\n",
      "/Users/huangd5/anaconda3/envs/np/lib/python3.10/site-packages/stheno/mo/input.py:9: ToDenseWarning: Could not preserve structure in block matrix: converting to dense.\n",
      "  return B.block(*[[pairwise(k, xi, yi) for yi in y] for xi in x])\n"
     ]
    },
    {
     "name": "stdout",
     "output_type": "stream",
     "text": [
      "result/train-epoch-042-5.pdf\n",
      "Epoch 43:\n"
     ]
    },
    {
     "name": "stderr",
     "output_type": "stream",
     "text": [
      "/Users/huangd5/anaconda3/envs/np/lib/python3.10/site-packages/stheno/mo/input.py:9: ToDenseWarning: Could not preserve structure in block matrix: converting to dense.\n",
      "  return B.block(*[[pairwise(k, xi, yi) for yi in y] for xi in x])\n"
     ]
    },
    {
     "name": "stdout",
     "output_type": "stream",
     "text": [
      "    Loglik (T):   -0.90626 +-    0.00498 (  -0.91124)\n",
      "    Loglik (V):   -0.88169 +-    0.00977 (  -0.89145)\n",
      "    KL (full):     0.55920 +-    0.00762 (   0.56682)\n",
      "    KL (diag):     0.17824 +-    0.00542 (   0.18366)\n",
      "result/train-epoch-043-1.pdf\n",
      "result/train-epoch-043-2.pdf\n"
     ]
    },
    {
     "name": "stderr",
     "output_type": "stream",
     "text": [
      "/Users/huangd5/anaconda3/envs/np/lib/python3.10/site-packages/stheno/mo/input.py:9: ToDenseWarning: Could not preserve structure in block matrix: converting to dense.\n",
      "  return B.block(*[[pairwise(k, xi, yi) for yi in y] for xi in x])\n",
      "/Users/huangd5/anaconda3/envs/np/lib/python3.10/site-packages/stheno/mo/input.py:9: ToDenseWarning: Could not preserve structure in block matrix: converting to dense.\n",
      "  return B.block(*[[pairwise(k, xi, yi) for yi in y] for xi in x])\n"
     ]
    },
    {
     "name": "stdout",
     "output_type": "stream",
     "text": [
      "result/train-epoch-043-3.pdf\n",
      "result/train-epoch-043-4.pdf\n"
     ]
    },
    {
     "name": "stderr",
     "output_type": "stream",
     "text": [
      "/Users/huangd5/anaconda3/envs/np/lib/python3.10/site-packages/stheno/mo/input.py:9: ToDenseWarning: Could not preserve structure in block matrix: converting to dense.\n",
      "  return B.block(*[[pairwise(k, xi, yi) for yi in y] for xi in x])\n",
      "/Users/huangd5/anaconda3/envs/np/lib/python3.10/site-packages/stheno/mo/input.py:9: ToDenseWarning: Could not preserve structure in block matrix: converting to dense.\n",
      "  return B.block(*[[pairwise(k, xi, yi) for yi in y] for xi in x])\n"
     ]
    },
    {
     "name": "stdout",
     "output_type": "stream",
     "text": [
      "result/train-epoch-043-5.pdf\n",
      "Epoch 44:\n"
     ]
    },
    {
     "name": "stderr",
     "output_type": "stream",
     "text": [
      "/Users/huangd5/anaconda3/envs/np/lib/python3.10/site-packages/stheno/mo/input.py:9: ToDenseWarning: Could not preserve structure in block matrix: converting to dense.\n",
      "  return B.block(*[[pairwise(k, xi, yi) for yi in y] for xi in x])\n"
     ]
    },
    {
     "name": "stdout",
     "output_type": "stream",
     "text": [
      "    Loglik (T):   -0.90563 +-    0.00500 (  -0.91062)\n",
      "    Loglik (V):   -0.88608 +-    0.00974 (  -0.89581)\n",
      "    KL (full):     0.56359 +-    0.00765 (   0.57124)\n",
      "    KL (diag):     0.18263 +-    0.00564 (   0.18827)\n",
      "result/train-epoch-044-1.pdf\n",
      "result/train-epoch-044-2.pdf\n"
     ]
    },
    {
     "name": "stderr",
     "output_type": "stream",
     "text": [
      "/Users/huangd5/anaconda3/envs/np/lib/python3.10/site-packages/stheno/mo/input.py:9: ToDenseWarning: Could not preserve structure in block matrix: converting to dense.\n",
      "  return B.block(*[[pairwise(k, xi, yi) for yi in y] for xi in x])\n",
      "/Users/huangd5/anaconda3/envs/np/lib/python3.10/site-packages/stheno/mo/input.py:9: ToDenseWarning: Could not preserve structure in block matrix: converting to dense.\n",
      "  return B.block(*[[pairwise(k, xi, yi) for yi in y] for xi in x])\n"
     ]
    },
    {
     "name": "stdout",
     "output_type": "stream",
     "text": [
      "result/train-epoch-044-3.pdf\n",
      "result/train-epoch-044-4.pdf\n"
     ]
    },
    {
     "name": "stderr",
     "output_type": "stream",
     "text": [
      "/Users/huangd5/anaconda3/envs/np/lib/python3.10/site-packages/stheno/mo/input.py:9: ToDenseWarning: Could not preserve structure in block matrix: converting to dense.\n",
      "  return B.block(*[[pairwise(k, xi, yi) for yi in y] for xi in x])\n",
      "/Users/huangd5/anaconda3/envs/np/lib/python3.10/site-packages/stheno/mo/input.py:9: ToDenseWarning: Could not preserve structure in block matrix: converting to dense.\n",
      "  return B.block(*[[pairwise(k, xi, yi) for yi in y] for xi in x])\n"
     ]
    },
    {
     "name": "stdout",
     "output_type": "stream",
     "text": [
      "result/train-epoch-044-5.pdf\n",
      "Epoch 45:\n"
     ]
    },
    {
     "name": "stderr",
     "output_type": "stream",
     "text": [
      "/Users/huangd5/anaconda3/envs/np/lib/python3.10/site-packages/stheno/mo/input.py:9: ToDenseWarning: Could not preserve structure in block matrix: converting to dense.\n",
      "  return B.block(*[[pairwise(k, xi, yi) for yi in y] for xi in x])\n"
     ]
    },
    {
     "name": "stdout",
     "output_type": "stream",
     "text": [
      "    Loglik (T):   -0.90122 +-    0.00498 (  -0.90620)\n",
      "    Loglik (V):   -0.88473 +-    0.00994 (  -0.89467)\n",
      "    KL (full):     0.56225 +-    0.00780 (   0.57005)\n",
      "    KL (diag):     0.18128 +-    0.00563 (   0.18691)\n",
      "result/train-epoch-045-1.pdf\n",
      "result/train-epoch-045-2.pdf\n"
     ]
    },
    {
     "name": "stderr",
     "output_type": "stream",
     "text": [
      "/Users/huangd5/anaconda3/envs/np/lib/python3.10/site-packages/stheno/mo/input.py:9: ToDenseWarning: Could not preserve structure in block matrix: converting to dense.\n",
      "  return B.block(*[[pairwise(k, xi, yi) for yi in y] for xi in x])\n",
      "/Users/huangd5/anaconda3/envs/np/lib/python3.10/site-packages/stheno/mo/input.py:9: ToDenseWarning: Could not preserve structure in block matrix: converting to dense.\n",
      "  return B.block(*[[pairwise(k, xi, yi) for yi in y] for xi in x])\n"
     ]
    },
    {
     "name": "stdout",
     "output_type": "stream",
     "text": [
      "result/train-epoch-045-3.pdf\n",
      "result/train-epoch-045-4.pdf\n"
     ]
    },
    {
     "name": "stderr",
     "output_type": "stream",
     "text": [
      "/Users/huangd5/anaconda3/envs/np/lib/python3.10/site-packages/stheno/mo/input.py:9: ToDenseWarning: Could not preserve structure in block matrix: converting to dense.\n",
      "  return B.block(*[[pairwise(k, xi, yi) for yi in y] for xi in x])\n",
      "/Users/huangd5/anaconda3/envs/np/lib/python3.10/site-packages/stheno/mo/input.py:9: ToDenseWarning: Could not preserve structure in block matrix: converting to dense.\n",
      "  return B.block(*[[pairwise(k, xi, yi) for yi in y] for xi in x])\n"
     ]
    },
    {
     "name": "stdout",
     "output_type": "stream",
     "text": [
      "result/train-epoch-045-5.pdf\n",
      "Epoch 46:\n"
     ]
    },
    {
     "name": "stderr",
     "output_type": "stream",
     "text": [
      "/Users/huangd5/anaconda3/envs/np/lib/python3.10/site-packages/stheno/mo/input.py:9: ToDenseWarning: Could not preserve structure in block matrix: converting to dense.\n",
      "  return B.block(*[[pairwise(k, xi, yi) for yi in y] for xi in x])\n"
     ]
    },
    {
     "name": "stdout",
     "output_type": "stream",
     "text": [
      "    Loglik (T):   -0.89908 +-    0.00488 (  -0.90395)\n",
      "    Loglik (V):   -0.88602 +-    0.00959 (  -0.89561)\n",
      "    KL (full):     0.56354 +-    0.00744 (   0.57098)\n",
      "    KL (diag):     0.18257 +-    0.00555 (   0.18812)\n",
      "result/train-epoch-046-1.pdf\n",
      "result/train-epoch-046-2.pdf\n"
     ]
    },
    {
     "name": "stderr",
     "output_type": "stream",
     "text": [
      "/Users/huangd5/anaconda3/envs/np/lib/python3.10/site-packages/stheno/mo/input.py:9: ToDenseWarning: Could not preserve structure in block matrix: converting to dense.\n",
      "  return B.block(*[[pairwise(k, xi, yi) for yi in y] for xi in x])\n",
      "/Users/huangd5/anaconda3/envs/np/lib/python3.10/site-packages/stheno/mo/input.py:9: ToDenseWarning: Could not preserve structure in block matrix: converting to dense.\n",
      "  return B.block(*[[pairwise(k, xi, yi) for yi in y] for xi in x])\n"
     ]
    },
    {
     "name": "stdout",
     "output_type": "stream",
     "text": [
      "result/train-epoch-046-3.pdf\n",
      "result/train-epoch-046-4.pdf\n"
     ]
    },
    {
     "name": "stderr",
     "output_type": "stream",
     "text": [
      "/Users/huangd5/anaconda3/envs/np/lib/python3.10/site-packages/stheno/mo/input.py:9: ToDenseWarning: Could not preserve structure in block matrix: converting to dense.\n",
      "  return B.block(*[[pairwise(k, xi, yi) for yi in y] for xi in x])\n",
      "/Users/huangd5/anaconda3/envs/np/lib/python3.10/site-packages/stheno/mo/input.py:9: ToDenseWarning: Could not preserve structure in block matrix: converting to dense.\n",
      "  return B.block(*[[pairwise(k, xi, yi) for yi in y] for xi in x])\n"
     ]
    },
    {
     "name": "stdout",
     "output_type": "stream",
     "text": [
      "result/train-epoch-046-5.pdf\n",
      "Epoch 47:\n"
     ]
    },
    {
     "name": "stderr",
     "output_type": "stream",
     "text": [
      "/Users/huangd5/anaconda3/envs/np/lib/python3.10/site-packages/stheno/mo/input.py:9: ToDenseWarning: Could not preserve structure in block matrix: converting to dense.\n",
      "  return B.block(*[[pairwise(k, xi, yi) for yi in y] for xi in x])\n"
     ]
    },
    {
     "name": "stdout",
     "output_type": "stream",
     "text": [
      "    Loglik (T):   -0.87724 +-    0.00477 (  -0.88201)\n",
      "    Loglik (V):   -0.88078 +-    0.00942 (  -0.89020)\n",
      "    KL (full):     0.55830 +-    0.00731 (   0.56561)\n",
      "    KL (diag):     0.17734 +-    0.00541 (   0.18274)\n",
      "result/train-epoch-047-1.pdf\n",
      "result/train-epoch-047-2.pdf\n"
     ]
    },
    {
     "name": "stderr",
     "output_type": "stream",
     "text": [
      "/Users/huangd5/anaconda3/envs/np/lib/python3.10/site-packages/stheno/mo/input.py:9: ToDenseWarning: Could not preserve structure in block matrix: converting to dense.\n",
      "  return B.block(*[[pairwise(k, xi, yi) for yi in y] for xi in x])\n"
     ]
    },
    {
     "name": "stdout",
     "output_type": "stream",
     "text": [
      "result/train-epoch-047-3.pdf\n",
      "result/train-epoch-047-4.pdf\n"
     ]
    },
    {
     "name": "stderr",
     "output_type": "stream",
     "text": [
      "/Users/huangd5/anaconda3/envs/np/lib/python3.10/site-packages/stheno/mo/input.py:9: ToDenseWarning: Could not preserve structure in block matrix: converting to dense.\n",
      "  return B.block(*[[pairwise(k, xi, yi) for yi in y] for xi in x])\n",
      "/Users/huangd5/anaconda3/envs/np/lib/python3.10/site-packages/stheno/mo/input.py:9: ToDenseWarning: Could not preserve structure in block matrix: converting to dense.\n",
      "  return B.block(*[[pairwise(k, xi, yi) for yi in y] for xi in x])\n"
     ]
    },
    {
     "name": "stdout",
     "output_type": "stream",
     "text": [
      "result/train-epoch-047-5.pdf\n",
      "Epoch 48:\n"
     ]
    },
    {
     "name": "stderr",
     "output_type": "stream",
     "text": [
      "/Users/huangd5/anaconda3/envs/np/lib/python3.10/site-packages/stheno/mo/input.py:9: ToDenseWarning: Could not preserve structure in block matrix: converting to dense.\n",
      "  return B.block(*[[pairwise(k, xi, yi) for yi in y] for xi in x])\n",
      "/Users/huangd5/anaconda3/envs/np/lib/python3.10/site-packages/stheno/mo/input.py:9: ToDenseWarning: Could not preserve structure in block matrix: converting to dense.\n",
      "  return B.block(*[[pairwise(k, xi, yi) for yi in y] for xi in x])\n"
     ]
    },
    {
     "name": "stdout",
     "output_type": "stream",
     "text": [
      "    Loglik (T):   -0.87742 +-    0.00487 (  -0.88229)\n",
      "    Loglik (V):   -0.86986 +-    0.00949 (  -0.87935)\n",
      "    KL (full):     0.54738 +-    0.00728 (   0.55466)\n",
      "    KL (diag):     0.16641 +-    0.00506 (   0.17147)\n",
      "result/train-epoch-048-1.pdf\n",
      "result/train-epoch-048-2.pdf\n"
     ]
    },
    {
     "name": "stderr",
     "output_type": "stream",
     "text": [
      "/Users/huangd5/anaconda3/envs/np/lib/python3.10/site-packages/stheno/mo/input.py:9: ToDenseWarning: Could not preserve structure in block matrix: converting to dense.\n",
      "  return B.block(*[[pairwise(k, xi, yi) for yi in y] for xi in x])\n",
      "/Users/huangd5/anaconda3/envs/np/lib/python3.10/site-packages/stheno/mo/input.py:9: ToDenseWarning: Could not preserve structure in block matrix: converting to dense.\n",
      "  return B.block(*[[pairwise(k, xi, yi) for yi in y] for xi in x])\n"
     ]
    },
    {
     "name": "stdout",
     "output_type": "stream",
     "text": [
      "result/train-epoch-048-3.pdf\n",
      "result/train-epoch-048-4.pdf\n"
     ]
    },
    {
     "name": "stderr",
     "output_type": "stream",
     "text": [
      "/Users/huangd5/anaconda3/envs/np/lib/python3.10/site-packages/stheno/mo/input.py:9: ToDenseWarning: Could not preserve structure in block matrix: converting to dense.\n",
      "  return B.block(*[[pairwise(k, xi, yi) for yi in y] for xi in x])\n",
      "/Users/huangd5/anaconda3/envs/np/lib/python3.10/site-packages/stheno/mo/input.py:9: ToDenseWarning: Could not preserve structure in block matrix: converting to dense.\n",
      "  return B.block(*[[pairwise(k, xi, yi) for yi in y] for xi in x])\n"
     ]
    },
    {
     "name": "stdout",
     "output_type": "stream",
     "text": [
      "result/train-epoch-048-5.pdf\n",
      "Epoch 49:\n"
     ]
    },
    {
     "name": "stderr",
     "output_type": "stream",
     "text": [
      "/Users/huangd5/anaconda3/envs/np/lib/python3.10/site-packages/stheno/mo/input.py:9: ToDenseWarning: Could not preserve structure in block matrix: converting to dense.\n",
      "  return B.block(*[[pairwise(k, xi, yi) for yi in y] for xi in x])\n"
     ]
    },
    {
     "name": "stdout",
     "output_type": "stream",
     "text": [
      "    Loglik (T):   -0.87619 +-    0.00491 (  -0.88110)\n",
      "    Loglik (V):   -0.89522 +-    0.00964 (  -0.90486)\n",
      "    KL (full):     0.57274 +-    0.00759 (   0.58033)\n",
      "    KL (diag):     0.19177 +-    0.00580 (   0.19757)\n",
      "result/train-epoch-049-1.pdf\n",
      "result/train-epoch-049-2.pdf\n"
     ]
    },
    {
     "name": "stderr",
     "output_type": "stream",
     "text": [
      "/Users/huangd5/anaconda3/envs/np/lib/python3.10/site-packages/stheno/mo/input.py:9: ToDenseWarning: Could not preserve structure in block matrix: converting to dense.\n",
      "  return B.block(*[[pairwise(k, xi, yi) for yi in y] for xi in x])\n",
      "/Users/huangd5/anaconda3/envs/np/lib/python3.10/site-packages/stheno/mo/input.py:9: ToDenseWarning: Could not preserve structure in block matrix: converting to dense.\n",
      "  return B.block(*[[pairwise(k, xi, yi) for yi in y] for xi in x])\n"
     ]
    },
    {
     "name": "stdout",
     "output_type": "stream",
     "text": [
      "result/train-epoch-049-3.pdf\n",
      "result/train-epoch-049-4.pdf\n"
     ]
    },
    {
     "name": "stderr",
     "output_type": "stream",
     "text": [
      "/Users/huangd5/anaconda3/envs/np/lib/python3.10/site-packages/stheno/mo/input.py:9: ToDenseWarning: Could not preserve structure in block matrix: converting to dense.\n",
      "  return B.block(*[[pairwise(k, xi, yi) for yi in y] for xi in x])\n",
      "/Users/huangd5/anaconda3/envs/np/lib/python3.10/site-packages/stheno/mo/input.py:9: ToDenseWarning: Could not preserve structure in block matrix: converting to dense.\n",
      "  return B.block(*[[pairwise(k, xi, yi) for yi in y] for xi in x])\n"
     ]
    },
    {
     "name": "stdout",
     "output_type": "stream",
     "text": [
      "result/train-epoch-049-5.pdf\n",
      "Epoch 50:\n"
     ]
    },
    {
     "name": "stderr",
     "output_type": "stream",
     "text": [
      "/Users/huangd5/anaconda3/envs/np/lib/python3.10/site-packages/stheno/mo/input.py:9: ToDenseWarning: Could not preserve structure in block matrix: converting to dense.\n",
      "  return B.block(*[[pairwise(k, xi, yi) for yi in y] for xi in x])\n"
     ]
    },
    {
     "name": "stdout",
     "output_type": "stream",
     "text": [
      "    Loglik (T):   -0.88191 +-    0.00492 (  -0.88683)\n",
      "    Loglik (V):   -0.85791 +-    0.00977 (  -0.86768)\n",
      "    KL (full):     0.53543 +-    0.00753 (   0.54296)\n",
      "    KL (diag):     0.15446 +-    0.00505 (   0.15952)\n",
      "result/train-epoch-050-1.pdf\n",
      "result/train-epoch-050-2.pdf\n"
     ]
    },
    {
     "name": "stderr",
     "output_type": "stream",
     "text": [
      "/Users/huangd5/anaconda3/envs/np/lib/python3.10/site-packages/stheno/mo/input.py:9: ToDenseWarning: Could not preserve structure in block matrix: converting to dense.\n",
      "  return B.block(*[[pairwise(k, xi, yi) for yi in y] for xi in x])\n",
      "/Users/huangd5/anaconda3/envs/np/lib/python3.10/site-packages/stheno/mo/input.py:9: ToDenseWarning: Could not preserve structure in block matrix: converting to dense.\n",
      "  return B.block(*[[pairwise(k, xi, yi) for yi in y] for xi in x])\n"
     ]
    },
    {
     "name": "stdout",
     "output_type": "stream",
     "text": [
      "result/train-epoch-050-3.pdf\n",
      "result/train-epoch-050-4.pdf\n"
     ]
    },
    {
     "name": "stderr",
     "output_type": "stream",
     "text": [
      "/Users/huangd5/anaconda3/envs/np/lib/python3.10/site-packages/stheno/mo/input.py:9: ToDenseWarning: Could not preserve structure in block matrix: converting to dense.\n",
      "  return B.block(*[[pairwise(k, xi, yi) for yi in y] for xi in x])\n",
      "/Users/huangd5/anaconda3/envs/np/lib/python3.10/site-packages/stheno/mo/input.py:9: ToDenseWarning: Could not preserve structure in block matrix: converting to dense.\n",
      "  return B.block(*[[pairwise(k, xi, yi) for yi in y] for xi in x])\n"
     ]
    },
    {
     "name": "stdout",
     "output_type": "stream",
     "text": [
      "result/train-epoch-050-5.pdf\n",
      "Epoch 51:\n"
     ]
    },
    {
     "name": "stderr",
     "output_type": "stream",
     "text": [
      "/Users/huangd5/anaconda3/envs/np/lib/python3.10/site-packages/stheno/mo/input.py:9: ToDenseWarning: Could not preserve structure in block matrix: converting to dense.\n",
      "  return B.block(*[[pairwise(k, xi, yi) for yi in y] for xi in x])\n"
     ]
    },
    {
     "name": "stdout",
     "output_type": "stream",
     "text": [
      "    Loglik (T):   -0.88320 +-    0.00487 (  -0.88807)\n",
      "    Loglik (V):   -0.86443 +-    0.00947 (  -0.87390)\n",
      "    KL (full):     0.54195 +-    0.00722 (   0.54917)\n",
      "    KL (diag):     0.16098 +-    0.00499 (   0.16597)\n",
      "result/train-epoch-051-1.pdf\n",
      "result/train-epoch-051-2.pdf\n"
     ]
    },
    {
     "name": "stderr",
     "output_type": "stream",
     "text": [
      "/Users/huangd5/anaconda3/envs/np/lib/python3.10/site-packages/stheno/mo/input.py:9: ToDenseWarning: Could not preserve structure in block matrix: converting to dense.\n",
      "  return B.block(*[[pairwise(k, xi, yi) for yi in y] for xi in x])\n",
      "/Users/huangd5/anaconda3/envs/np/lib/python3.10/site-packages/stheno/mo/input.py:9: ToDenseWarning: Could not preserve structure in block matrix: converting to dense.\n",
      "  return B.block(*[[pairwise(k, xi, yi) for yi in y] for xi in x])\n"
     ]
    },
    {
     "name": "stdout",
     "output_type": "stream",
     "text": [
      "result/train-epoch-051-3.pdf\n",
      "result/train-epoch-051-4.pdf\n"
     ]
    },
    {
     "name": "stderr",
     "output_type": "stream",
     "text": [
      "/Users/huangd5/anaconda3/envs/np/lib/python3.10/site-packages/stheno/mo/input.py:9: ToDenseWarning: Could not preserve structure in block matrix: converting to dense.\n",
      "  return B.block(*[[pairwise(k, xi, yi) for yi in y] for xi in x])\n",
      "/Users/huangd5/anaconda3/envs/np/lib/python3.10/site-packages/stheno/mo/input.py:9: ToDenseWarning: Could not preserve structure in block matrix: converting to dense.\n",
      "  return B.block(*[[pairwise(k, xi, yi) for yi in y] for xi in x])\n"
     ]
    },
    {
     "name": "stdout",
     "output_type": "stream",
     "text": [
      "result/train-epoch-051-5.pdf\n",
      "Epoch 52:\n"
     ]
    },
    {
     "name": "stderr",
     "output_type": "stream",
     "text": [
      "/Users/huangd5/anaconda3/envs/np/lib/python3.10/site-packages/stheno/mo/input.py:9: ToDenseWarning: Could not preserve structure in block matrix: converting to dense.\n",
      "  return B.block(*[[pairwise(k, xi, yi) for yi in y] for xi in x])\n"
     ]
    },
    {
     "name": "stdout",
     "output_type": "stream",
     "text": [
      "    Loglik (T):   -0.88633 +-    0.00496 (  -0.89130)\n",
      "    Loglik (V):   -0.87602 +-    0.00981 (  -0.88583)\n",
      "    KL (full):     0.55354 +-    0.00765 (   0.56119)\n",
      "    KL (diag):     0.17257 +-    0.00539 (   0.17796)\n",
      "result/train-epoch-052-1.pdf\n",
      "result/train-epoch-052-2.pdf\n"
     ]
    },
    {
     "name": "stderr",
     "output_type": "stream",
     "text": [
      "/Users/huangd5/anaconda3/envs/np/lib/python3.10/site-packages/stheno/mo/input.py:9: ToDenseWarning: Could not preserve structure in block matrix: converting to dense.\n",
      "  return B.block(*[[pairwise(k, xi, yi) for yi in y] for xi in x])\n",
      "/Users/huangd5/anaconda3/envs/np/lib/python3.10/site-packages/stheno/mo/input.py:9: ToDenseWarning: Could not preserve structure in block matrix: converting to dense.\n",
      "  return B.block(*[[pairwise(k, xi, yi) for yi in y] for xi in x])\n"
     ]
    },
    {
     "name": "stdout",
     "output_type": "stream",
     "text": [
      "result/train-epoch-052-3.pdf\n",
      "result/train-epoch-052-4.pdf\n"
     ]
    },
    {
     "name": "stderr",
     "output_type": "stream",
     "text": [
      "/Users/huangd5/anaconda3/envs/np/lib/python3.10/site-packages/stheno/mo/input.py:9: ToDenseWarning: Could not preserve structure in block matrix: converting to dense.\n",
      "  return B.block(*[[pairwise(k, xi, yi) for yi in y] for xi in x])\n",
      "/Users/huangd5/anaconda3/envs/np/lib/python3.10/site-packages/stheno/mo/input.py:9: ToDenseWarning: Could not preserve structure in block matrix: converting to dense.\n",
      "  return B.block(*[[pairwise(k, xi, yi) for yi in y] for xi in x])\n"
     ]
    },
    {
     "name": "stdout",
     "output_type": "stream",
     "text": [
      "result/train-epoch-052-5.pdf\n",
      "Epoch 53:\n"
     ]
    },
    {
     "name": "stderr",
     "output_type": "stream",
     "text": [
      "/Users/huangd5/anaconda3/envs/np/lib/python3.10/site-packages/stheno/mo/input.py:9: ToDenseWarning: Could not preserve structure in block matrix: converting to dense.\n",
      "  return B.block(*[[pairwise(k, xi, yi) for yi in y] for xi in x])\n"
     ]
    },
    {
     "name": "stdout",
     "output_type": "stream",
     "text": [
      "    Loglik (T):   -0.88028 +-    0.00501 (  -0.88529)\n",
      "    Loglik (V):   -0.86246 +-    0.00984 (  -0.87230)\n",
      "    KL (full):     0.53997 +-    0.00763 (   0.54760)\n",
      "    KL (diag):     0.15901 +-    0.00526 (   0.16427)\n",
      "result/train-epoch-053-1.pdf\n",
      "result/train-epoch-053-2.pdf\n"
     ]
    },
    {
     "name": "stderr",
     "output_type": "stream",
     "text": [
      "/Users/huangd5/anaconda3/envs/np/lib/python3.10/site-packages/stheno/mo/input.py:9: ToDenseWarning: Could not preserve structure in block matrix: converting to dense.\n",
      "  return B.block(*[[pairwise(k, xi, yi) for yi in y] for xi in x])\n",
      "/Users/huangd5/anaconda3/envs/np/lib/python3.10/site-packages/stheno/mo/input.py:9: ToDenseWarning: Could not preserve structure in block matrix: converting to dense.\n",
      "  return B.block(*[[pairwise(k, xi, yi) for yi in y] for xi in x])\n"
     ]
    },
    {
     "name": "stdout",
     "output_type": "stream",
     "text": [
      "result/train-epoch-053-3.pdf\n",
      "result/train-epoch-053-4.pdf\n"
     ]
    },
    {
     "name": "stderr",
     "output_type": "stream",
     "text": [
      "/Users/huangd5/anaconda3/envs/np/lib/python3.10/site-packages/stheno/mo/input.py:9: ToDenseWarning: Could not preserve structure in block matrix: converting to dense.\n",
      "  return B.block(*[[pairwise(k, xi, yi) for yi in y] for xi in x])\n",
      "/Users/huangd5/anaconda3/envs/np/lib/python3.10/site-packages/stheno/mo/input.py:9: ToDenseWarning: Could not preserve structure in block matrix: converting to dense.\n",
      "  return B.block(*[[pairwise(k, xi, yi) for yi in y] for xi in x])\n"
     ]
    },
    {
     "name": "stdout",
     "output_type": "stream",
     "text": [
      "result/train-epoch-053-5.pdf\n",
      "Epoch 54:\n"
     ]
    },
    {
     "name": "stderr",
     "output_type": "stream",
     "text": [
      "/Users/huangd5/anaconda3/envs/np/lib/python3.10/site-packages/stheno/mo/input.py:9: ToDenseWarning: Could not preserve structure in block matrix: converting to dense.\n",
      "  return B.block(*[[pairwise(k, xi, yi) for yi in y] for xi in x])\n"
     ]
    },
    {
     "name": "stdout",
     "output_type": "stream",
     "text": [
      "    Loglik (T):   -0.87398 +-    0.00488 (  -0.87886)\n",
      "    Loglik (V):   -0.87504 +-    0.00944 (  -0.88448)\n",
      "    KL (full):     0.55255 +-    0.00726 (   0.55981)\n",
      "    KL (diag):     0.17159 +-    0.00522 (   0.17681)\n",
      "result/train-epoch-054-1.pdf\n",
      "result/train-epoch-054-2.pdf\n"
     ]
    },
    {
     "name": "stderr",
     "output_type": "stream",
     "text": [
      "/Users/huangd5/anaconda3/envs/np/lib/python3.10/site-packages/stheno/mo/input.py:9: ToDenseWarning: Could not preserve structure in block matrix: converting to dense.\n",
      "  return B.block(*[[pairwise(k, xi, yi) for yi in y] for xi in x])\n",
      "/Users/huangd5/anaconda3/envs/np/lib/python3.10/site-packages/stheno/mo/input.py:9: ToDenseWarning: Could not preserve structure in block matrix: converting to dense.\n",
      "  return B.block(*[[pairwise(k, xi, yi) for yi in y] for xi in x])\n"
     ]
    },
    {
     "name": "stdout",
     "output_type": "stream",
     "text": [
      "result/train-epoch-054-3.pdf\n",
      "result/train-epoch-054-4.pdf\n"
     ]
    },
    {
     "name": "stderr",
     "output_type": "stream",
     "text": [
      "/Users/huangd5/anaconda3/envs/np/lib/python3.10/site-packages/stheno/mo/input.py:9: ToDenseWarning: Could not preserve structure in block matrix: converting to dense.\n",
      "  return B.block(*[[pairwise(k, xi, yi) for yi in y] for xi in x])\n",
      "/Users/huangd5/anaconda3/envs/np/lib/python3.10/site-packages/stheno/mo/input.py:9: ToDenseWarning: Could not preserve structure in block matrix: converting to dense.\n",
      "  return B.block(*[[pairwise(k, xi, yi) for yi in y] for xi in x])\n"
     ]
    },
    {
     "name": "stdout",
     "output_type": "stream",
     "text": [
      "result/train-epoch-054-5.pdf\n",
      "Epoch 55:\n"
     ]
    },
    {
     "name": "stderr",
     "output_type": "stream",
     "text": [
      "/Users/huangd5/anaconda3/envs/np/lib/python3.10/site-packages/stheno/mo/input.py:9: ToDenseWarning: Could not preserve structure in block matrix: converting to dense.\n",
      "  return B.block(*[[pairwise(k, xi, yi) for yi in y] for xi in x])\n"
     ]
    },
    {
     "name": "stdout",
     "output_type": "stream",
     "text": [
      "    Loglik (T):   -0.88042 +-    0.00495 (  -0.88537)\n",
      "    Loglik (V):   -0.86855 +-    0.01011 (  -0.87866)\n",
      "    KL (full):     0.54607 +-    0.00793 (   0.55400)\n",
      "    KL (diag):     0.16510 +-    0.00550 (   0.17060)\n",
      "result/train-epoch-055-1.pdf\n",
      "result/train-epoch-055-2.pdf\n"
     ]
    },
    {
     "name": "stderr",
     "output_type": "stream",
     "text": [
      "/Users/huangd5/anaconda3/envs/np/lib/python3.10/site-packages/stheno/mo/input.py:9: ToDenseWarning: Could not preserve structure in block matrix: converting to dense.\n",
      "  return B.block(*[[pairwise(k, xi, yi) for yi in y] for xi in x])\n",
      "/Users/huangd5/anaconda3/envs/np/lib/python3.10/site-packages/stheno/mo/input.py:9: ToDenseWarning: Could not preserve structure in block matrix: converting to dense.\n",
      "  return B.block(*[[pairwise(k, xi, yi) for yi in y] for xi in x])\n"
     ]
    },
    {
     "name": "stdout",
     "output_type": "stream",
     "text": [
      "result/train-epoch-055-3.pdf\n",
      "result/train-epoch-055-4.pdf\n"
     ]
    },
    {
     "name": "stderr",
     "output_type": "stream",
     "text": [
      "/Users/huangd5/anaconda3/envs/np/lib/python3.10/site-packages/stheno/mo/input.py:9: ToDenseWarning: Could not preserve structure in block matrix: converting to dense.\n",
      "  return B.block(*[[pairwise(k, xi, yi) for yi in y] for xi in x])\n",
      "/Users/huangd5/anaconda3/envs/np/lib/python3.10/site-packages/stheno/mo/input.py:9: ToDenseWarning: Could not preserve structure in block matrix: converting to dense.\n",
      "  return B.block(*[[pairwise(k, xi, yi) for yi in y] for xi in x])\n"
     ]
    },
    {
     "name": "stdout",
     "output_type": "stream",
     "text": [
      "result/train-epoch-055-5.pdf\n",
      "Epoch 56:\n"
     ]
    },
    {
     "name": "stderr",
     "output_type": "stream",
     "text": [
      "/Users/huangd5/anaconda3/envs/np/lib/python3.10/site-packages/stheno/mo/input.py:9: ToDenseWarning: Could not preserve structure in block matrix: converting to dense.\n",
      "  return B.block(*[[pairwise(k, xi, yi) for yi in y] for xi in x])\n"
     ]
    },
    {
     "name": "stdout",
     "output_type": "stream",
     "text": [
      "    Loglik (T):   -0.87258 +-    0.00499 (  -0.87757)\n",
      "    Loglik (V):   -0.85470 +-    0.01006 (  -0.86476)\n",
      "    KL (full):     0.53222 +-    0.00780 (   0.54002)\n",
      "    KL (diag):     0.15125 +-    0.00514 (   0.15639)\n",
      "result/train-epoch-056-1.pdf\n",
      "result/train-epoch-056-2.pdf\n"
     ]
    },
    {
     "name": "stderr",
     "output_type": "stream",
     "text": [
      "/Users/huangd5/anaconda3/envs/np/lib/python3.10/site-packages/stheno/mo/input.py:9: ToDenseWarning: Could not preserve structure in block matrix: converting to dense.\n",
      "  return B.block(*[[pairwise(k, xi, yi) for yi in y] for xi in x])\n",
      "/Users/huangd5/anaconda3/envs/np/lib/python3.10/site-packages/stheno/mo/input.py:9: ToDenseWarning: Could not preserve structure in block matrix: converting to dense.\n",
      "  return B.block(*[[pairwise(k, xi, yi) for yi in y] for xi in x])\n"
     ]
    },
    {
     "name": "stdout",
     "output_type": "stream",
     "text": [
      "result/train-epoch-056-3.pdf\n",
      "result/train-epoch-056-4.pdf\n"
     ]
    },
    {
     "name": "stderr",
     "output_type": "stream",
     "text": [
      "/Users/huangd5/anaconda3/envs/np/lib/python3.10/site-packages/stheno/mo/input.py:9: ToDenseWarning: Could not preserve structure in block matrix: converting to dense.\n",
      "  return B.block(*[[pairwise(k, xi, yi) for yi in y] for xi in x])\n",
      "/Users/huangd5/anaconda3/envs/np/lib/python3.10/site-packages/stheno/mo/input.py:9: ToDenseWarning: Could not preserve structure in block matrix: converting to dense.\n",
      "  return B.block(*[[pairwise(k, xi, yi) for yi in y] for xi in x])\n"
     ]
    },
    {
     "name": "stdout",
     "output_type": "stream",
     "text": [
      "result/train-epoch-056-5.pdf\n",
      "Epoch 57:\n"
     ]
    },
    {
     "name": "stderr",
     "output_type": "stream",
     "text": [
      "/Users/huangd5/anaconda3/envs/np/lib/python3.10/site-packages/stheno/mo/input.py:9: ToDenseWarning: Could not preserve structure in block matrix: converting to dense.\n",
      "  return B.block(*[[pairwise(k, xi, yi) for yi in y] for xi in x])\n"
     ]
    },
    {
     "name": "stdout",
     "output_type": "stream",
     "text": [
      "    Loglik (T):   -0.88356 +-    0.00500 (  -0.88856)\n",
      "    Loglik (V):   -0.85623 +-    0.01014 (  -0.86637)\n",
      "    KL (full):     0.53374 +-    0.00792 (   0.54166)\n",
      "    KL (diag):     0.15278 +-    0.00537 (   0.15815)\n",
      "result/train-epoch-057-1.pdf\n",
      "result/train-epoch-057-2.pdf\n"
     ]
    },
    {
     "name": "stderr",
     "output_type": "stream",
     "text": [
      "/Users/huangd5/anaconda3/envs/np/lib/python3.10/site-packages/stheno/mo/input.py:9: ToDenseWarning: Could not preserve structure in block matrix: converting to dense.\n",
      "  return B.block(*[[pairwise(k, xi, yi) for yi in y] for xi in x])\n",
      "/Users/huangd5/anaconda3/envs/np/lib/python3.10/site-packages/stheno/mo/input.py:9: ToDenseWarning: Could not preserve structure in block matrix: converting to dense.\n",
      "  return B.block(*[[pairwise(k, xi, yi) for yi in y] for xi in x])\n"
     ]
    },
    {
     "name": "stdout",
     "output_type": "stream",
     "text": [
      "result/train-epoch-057-3.pdf\n",
      "result/train-epoch-057-4.pdf\n"
     ]
    },
    {
     "name": "stderr",
     "output_type": "stream",
     "text": [
      "/Users/huangd5/anaconda3/envs/np/lib/python3.10/site-packages/stheno/mo/input.py:9: ToDenseWarning: Could not preserve structure in block matrix: converting to dense.\n",
      "  return B.block(*[[pairwise(k, xi, yi) for yi in y] for xi in x])\n",
      "/Users/huangd5/anaconda3/envs/np/lib/python3.10/site-packages/stheno/mo/input.py:9: ToDenseWarning: Could not preserve structure in block matrix: converting to dense.\n",
      "  return B.block(*[[pairwise(k, xi, yi) for yi in y] for xi in x])\n"
     ]
    },
    {
     "name": "stdout",
     "output_type": "stream",
     "text": [
      "result/train-epoch-057-5.pdf\n",
      "Epoch 58:\n"
     ]
    },
    {
     "name": "stderr",
     "output_type": "stream",
     "text": [
      "/Users/huangd5/anaconda3/envs/np/lib/python3.10/site-packages/stheno/mo/input.py:9: ToDenseWarning: Could not preserve structure in block matrix: converting to dense.\n",
      "  return B.block(*[[pairwise(k, xi, yi) for yi in y] for xi in x])\n"
     ]
    },
    {
     "name": "stdout",
     "output_type": "stream",
     "text": [
      "    Loglik (T):   -0.88148 +-    0.00504 (  -0.88651)\n",
      "    Loglik (V):   -0.86588 +-    0.00993 (  -0.87581)\n",
      "    KL (full):     0.54339 +-    0.00777 (   0.55116)\n",
      "    KL (diag):     0.16243 +-    0.00539 (   0.16781)\n",
      "result/train-epoch-058-1.pdf\n",
      "result/train-epoch-058-2.pdf\n"
     ]
    },
    {
     "name": "stderr",
     "output_type": "stream",
     "text": [
      "/Users/huangd5/anaconda3/envs/np/lib/python3.10/site-packages/stheno/mo/input.py:9: ToDenseWarning: Could not preserve structure in block matrix: converting to dense.\n",
      "  return B.block(*[[pairwise(k, xi, yi) for yi in y] for xi in x])\n",
      "/Users/huangd5/anaconda3/envs/np/lib/python3.10/site-packages/stheno/mo/input.py:9: ToDenseWarning: Could not preserve structure in block matrix: converting to dense.\n",
      "  return B.block(*[[pairwise(k, xi, yi) for yi in y] for xi in x])\n"
     ]
    },
    {
     "name": "stdout",
     "output_type": "stream",
     "text": [
      "result/train-epoch-058-3.pdf\n",
      "result/train-epoch-058-4.pdf\n"
     ]
    },
    {
     "name": "stderr",
     "output_type": "stream",
     "text": [
      "/Users/huangd5/anaconda3/envs/np/lib/python3.10/site-packages/stheno/mo/input.py:9: ToDenseWarning: Could not preserve structure in block matrix: converting to dense.\n",
      "  return B.block(*[[pairwise(k, xi, yi) for yi in y] for xi in x])\n",
      "/Users/huangd5/anaconda3/envs/np/lib/python3.10/site-packages/stheno/mo/input.py:9: ToDenseWarning: Could not preserve structure in block matrix: converting to dense.\n",
      "  return B.block(*[[pairwise(k, xi, yi) for yi in y] for xi in x])\n"
     ]
    },
    {
     "name": "stdout",
     "output_type": "stream",
     "text": [
      "result/train-epoch-058-5.pdf\n",
      "Epoch 59:\n"
     ]
    },
    {
     "name": "stderr",
     "output_type": "stream",
     "text": [
      "/Users/huangd5/anaconda3/envs/np/lib/python3.10/site-packages/stheno/mo/input.py:9: ToDenseWarning: Could not preserve structure in block matrix: converting to dense.\n",
      "  return B.block(*[[pairwise(k, xi, yi) for yi in y] for xi in x])\n"
     ]
    },
    {
     "name": "stdout",
     "output_type": "stream",
     "text": [
      "    Loglik (T):   -0.86078 +-    0.00487 (  -0.86565)\n",
      "    Loglik (V):   -0.86519 +-    0.00974 (  -0.87494)\n",
      "    KL (full):     0.54271 +-    0.00753 (   0.55024)\n",
      "    KL (diag):     0.16174 +-    0.00527 (   0.16701)\n",
      "result/train-epoch-059-1.pdf\n",
      "result/train-epoch-059-2.pdf\n"
     ]
    },
    {
     "name": "stderr",
     "output_type": "stream",
     "text": [
      "/Users/huangd5/anaconda3/envs/np/lib/python3.10/site-packages/stheno/mo/input.py:9: ToDenseWarning: Could not preserve structure in block matrix: converting to dense.\n",
      "  return B.block(*[[pairwise(k, xi, yi) for yi in y] for xi in x])\n",
      "/Users/huangd5/anaconda3/envs/np/lib/python3.10/site-packages/stheno/mo/input.py:9: ToDenseWarning: Could not preserve structure in block matrix: converting to dense.\n",
      "  return B.block(*[[pairwise(k, xi, yi) for yi in y] for xi in x])\n"
     ]
    },
    {
     "name": "stdout",
     "output_type": "stream",
     "text": [
      "result/train-epoch-059-3.pdf\n",
      "result/train-epoch-059-4.pdf\n"
     ]
    },
    {
     "name": "stderr",
     "output_type": "stream",
     "text": [
      "/Users/huangd5/anaconda3/envs/np/lib/python3.10/site-packages/stheno/mo/input.py:9: ToDenseWarning: Could not preserve structure in block matrix: converting to dense.\n",
      "  return B.block(*[[pairwise(k, xi, yi) for yi in y] for xi in x])\n",
      "/Users/huangd5/anaconda3/envs/np/lib/python3.10/site-packages/stheno/mo/input.py:9: ToDenseWarning: Could not preserve structure in block matrix: converting to dense.\n",
      "  return B.block(*[[pairwise(k, xi, yi) for yi in y] for xi in x])\n"
     ]
    },
    {
     "name": "stdout",
     "output_type": "stream",
     "text": [
      "result/train-epoch-059-5.pdf\n",
      "Epoch 60:\n"
     ]
    },
    {
     "name": "stderr",
     "output_type": "stream",
     "text": [
      "/Users/huangd5/anaconda3/envs/np/lib/python3.10/site-packages/stheno/mo/input.py:9: ToDenseWarning: Could not preserve structure in block matrix: converting to dense.\n",
      "  return B.block(*[[pairwise(k, xi, yi) for yi in y] for xi in x])\n"
     ]
    },
    {
     "name": "stdout",
     "output_type": "stream",
     "text": [
      "    Loglik (T):   -0.87602 +-    0.00498 (  -0.88100)\n",
      "    Loglik (V):   -0.88913 +-    0.00954 (  -0.89867)\n",
      "    KL (full):     0.56665 +-    0.00752 (   0.57417)\n",
      "    KL (diag):     0.18568 +-    0.00594 (   0.19162)\n",
      "result/train-epoch-060-1.pdf\n",
      "result/train-epoch-060-2.pdf\n"
     ]
    },
    {
     "name": "stderr",
     "output_type": "stream",
     "text": [
      "/Users/huangd5/anaconda3/envs/np/lib/python3.10/site-packages/stheno/mo/input.py:9: ToDenseWarning: Could not preserve structure in block matrix: converting to dense.\n",
      "  return B.block(*[[pairwise(k, xi, yi) for yi in y] for xi in x])\n",
      "/Users/huangd5/anaconda3/envs/np/lib/python3.10/site-packages/stheno/mo/input.py:9: ToDenseWarning: Could not preserve structure in block matrix: converting to dense.\n",
      "  return B.block(*[[pairwise(k, xi, yi) for yi in y] for xi in x])\n"
     ]
    },
    {
     "name": "stdout",
     "output_type": "stream",
     "text": [
      "result/train-epoch-060-3.pdf\n",
      "result/train-epoch-060-4.pdf\n"
     ]
    },
    {
     "name": "stderr",
     "output_type": "stream",
     "text": [
      "/Users/huangd5/anaconda3/envs/np/lib/python3.10/site-packages/stheno/mo/input.py:9: ToDenseWarning: Could not preserve structure in block matrix: converting to dense.\n",
      "  return B.block(*[[pairwise(k, xi, yi) for yi in y] for xi in x])\n",
      "/Users/huangd5/anaconda3/envs/np/lib/python3.10/site-packages/stheno/mo/input.py:9: ToDenseWarning: Could not preserve structure in block matrix: converting to dense.\n",
      "  return B.block(*[[pairwise(k, xi, yi) for yi in y] for xi in x])\n"
     ]
    },
    {
     "name": "stdout",
     "output_type": "stream",
     "text": [
      "result/train-epoch-060-5.pdf\n",
      "Epoch 61:\n"
     ]
    },
    {
     "name": "stderr",
     "output_type": "stream",
     "text": [
      "/Users/huangd5/anaconda3/envs/np/lib/python3.10/site-packages/stheno/mo/input.py:9: ToDenseWarning: Could not preserve structure in block matrix: converting to dense.\n",
      "  return B.block(*[[pairwise(k, xi, yi) for yi in y] for xi in x])\n"
     ]
    },
    {
     "name": "stdout",
     "output_type": "stream",
     "text": [
      "    Loglik (T):   -0.86121 +-    0.00483 (  -0.86603)\n",
      "    Loglik (V):   -0.85849 +-    0.00997 (  -0.86846)\n",
      "    KL (full):     0.53601 +-    0.00774 (   0.54375)\n",
      "    KL (diag):     0.15504 +-    0.00521 (   0.16025)\n",
      "result/train-epoch-061-1.pdf\n",
      "result/train-epoch-061-2.pdf\n"
     ]
    },
    {
     "name": "stderr",
     "output_type": "stream",
     "text": [
      "/Users/huangd5/anaconda3/envs/np/lib/python3.10/site-packages/stheno/mo/input.py:9: ToDenseWarning: Could not preserve structure in block matrix: converting to dense.\n",
      "  return B.block(*[[pairwise(k, xi, yi) for yi in y] for xi in x])\n",
      "/Users/huangd5/anaconda3/envs/np/lib/python3.10/site-packages/stheno/mo/input.py:9: ToDenseWarning: Could not preserve structure in block matrix: converting to dense.\n",
      "  return B.block(*[[pairwise(k, xi, yi) for yi in y] for xi in x])\n"
     ]
    },
    {
     "name": "stdout",
     "output_type": "stream",
     "text": [
      "result/train-epoch-061-3.pdf\n",
      "result/train-epoch-061-4.pdf\n"
     ]
    },
    {
     "name": "stderr",
     "output_type": "stream",
     "text": [
      "/Users/huangd5/anaconda3/envs/np/lib/python3.10/site-packages/stheno/mo/input.py:9: ToDenseWarning: Could not preserve structure in block matrix: converting to dense.\n",
      "  return B.block(*[[pairwise(k, xi, yi) for yi in y] for xi in x])\n",
      "/Users/huangd5/anaconda3/envs/np/lib/python3.10/site-packages/stheno/mo/input.py:9: ToDenseWarning: Could not preserve structure in block matrix: converting to dense.\n",
      "  return B.block(*[[pairwise(k, xi, yi) for yi in y] for xi in x])\n"
     ]
    },
    {
     "name": "stdout",
     "output_type": "stream",
     "text": [
      "result/train-epoch-061-5.pdf\n",
      "Epoch 62:\n"
     ]
    },
    {
     "name": "stderr",
     "output_type": "stream",
     "text": [
      "/Users/huangd5/anaconda3/envs/np/lib/python3.10/site-packages/stheno/mo/input.py:9: ToDenseWarning: Could not preserve structure in block matrix: converting to dense.\n",
      "  return B.block(*[[pairwise(k, xi, yi) for yi in y] for xi in x])\n"
     ]
    },
    {
     "name": "stdout",
     "output_type": "stream",
     "text": [
      "    Loglik (T):   -0.87501 +-    0.00501 (  -0.88002)\n",
      "    Loglik (V):   -0.87187 +-    0.00972 (  -0.88159)\n",
      "    KL (full):     0.54939 +-    0.00755 (   0.55693)\n",
      "    KL (diag):     0.16842 +-    0.00533 (   0.17375)\n",
      "result/train-epoch-062-1.pdf\n",
      "result/train-epoch-062-2.pdf\n"
     ]
    },
    {
     "name": "stderr",
     "output_type": "stream",
     "text": [
      "/Users/huangd5/anaconda3/envs/np/lib/python3.10/site-packages/stheno/mo/input.py:9: ToDenseWarning: Could not preserve structure in block matrix: converting to dense.\n",
      "  return B.block(*[[pairwise(k, xi, yi) for yi in y] for xi in x])\n",
      "/Users/huangd5/anaconda3/envs/np/lib/python3.10/site-packages/stheno/mo/input.py:9: ToDenseWarning: Could not preserve structure in block matrix: converting to dense.\n",
      "  return B.block(*[[pairwise(k, xi, yi) for yi in y] for xi in x])\n"
     ]
    },
    {
     "name": "stdout",
     "output_type": "stream",
     "text": [
      "result/train-epoch-062-3.pdf\n",
      "result/train-epoch-062-4.pdf\n"
     ]
    },
    {
     "name": "stderr",
     "output_type": "stream",
     "text": [
      "/Users/huangd5/anaconda3/envs/np/lib/python3.10/site-packages/stheno/mo/input.py:9: ToDenseWarning: Could not preserve structure in block matrix: converting to dense.\n",
      "  return B.block(*[[pairwise(k, xi, yi) for yi in y] for xi in x])\n",
      "/Users/huangd5/anaconda3/envs/np/lib/python3.10/site-packages/stheno/mo/input.py:9: ToDenseWarning: Could not preserve structure in block matrix: converting to dense.\n",
      "  return B.block(*[[pairwise(k, xi, yi) for yi in y] for xi in x])\n"
     ]
    },
    {
     "name": "stdout",
     "output_type": "stream",
     "text": [
      "result/train-epoch-062-5.pdf\n",
      "Epoch 63:\n"
     ]
    },
    {
     "name": "stderr",
     "output_type": "stream",
     "text": [
      "/Users/huangd5/anaconda3/envs/np/lib/python3.10/site-packages/stheno/mo/input.py:9: ToDenseWarning: Could not preserve structure in block matrix: converting to dense.\n",
      "  return B.block(*[[pairwise(k, xi, yi) for yi in y] for xi in x])\n"
     ]
    },
    {
     "name": "stdout",
     "output_type": "stream",
     "text": [
      "    Loglik (T):   -0.86575 +-    0.00496 (  -0.87071)\n",
      "    Loglik (V):   -0.85452 +-    0.00956 (  -0.86408)\n",
      "    KL (full):     0.53203 +-    0.00726 (   0.53929)\n",
      "    KL (diag):     0.15107 +-    0.00483 (   0.15590)\n",
      "result/train-epoch-063-1.pdf\n",
      "result/train-epoch-063-2.pdf\n"
     ]
    },
    {
     "name": "stderr",
     "output_type": "stream",
     "text": [
      "/Users/huangd5/anaconda3/envs/np/lib/python3.10/site-packages/stheno/mo/input.py:9: ToDenseWarning: Could not preserve structure in block matrix: converting to dense.\n",
      "  return B.block(*[[pairwise(k, xi, yi) for yi in y] for xi in x])\n",
      "/Users/huangd5/anaconda3/envs/np/lib/python3.10/site-packages/stheno/mo/input.py:9: ToDenseWarning: Could not preserve structure in block matrix: converting to dense.\n",
      "  return B.block(*[[pairwise(k, xi, yi) for yi in y] for xi in x])\n"
     ]
    },
    {
     "name": "stdout",
     "output_type": "stream",
     "text": [
      "result/train-epoch-063-3.pdf\n",
      "result/train-epoch-063-4.pdf\n"
     ]
    },
    {
     "name": "stderr",
     "output_type": "stream",
     "text": [
      "/Users/huangd5/anaconda3/envs/np/lib/python3.10/site-packages/stheno/mo/input.py:9: ToDenseWarning: Could not preserve structure in block matrix: converting to dense.\n",
      "  return B.block(*[[pairwise(k, xi, yi) for yi in y] for xi in x])\n",
      "/Users/huangd5/anaconda3/envs/np/lib/python3.10/site-packages/stheno/mo/input.py:9: ToDenseWarning: Could not preserve structure in block matrix: converting to dense.\n",
      "  return B.block(*[[pairwise(k, xi, yi) for yi in y] for xi in x])\n"
     ]
    },
    {
     "name": "stdout",
     "output_type": "stream",
     "text": [
      "result/train-epoch-063-5.pdf\n",
      "Epoch 64:\n"
     ]
    },
    {
     "name": "stderr",
     "output_type": "stream",
     "text": [
      "/Users/huangd5/anaconda3/envs/np/lib/python3.10/site-packages/stheno/mo/input.py:9: ToDenseWarning: Could not preserve structure in block matrix: converting to dense.\n",
      "  return B.block(*[[pairwise(k, xi, yi) for yi in y] for xi in x])\n"
     ]
    },
    {
     "name": "stdout",
     "output_type": "stream",
     "text": [
      "    Loglik (T):   -0.85950 +-    0.00490 (  -0.86440)\n",
      "    Loglik (V):   -0.84978 +-    0.00974 (  -0.85952)\n",
      "    KL (full):     0.52729 +-    0.00745 (   0.53474)\n",
      "    KL (diag):     0.14633 +-    0.00488 (   0.15121)\n",
      "result/train-epoch-064-1.pdf\n",
      "result/train-epoch-064-2.pdf\n"
     ]
    },
    {
     "name": "stderr",
     "output_type": "stream",
     "text": [
      "/Users/huangd5/anaconda3/envs/np/lib/python3.10/site-packages/stheno/mo/input.py:9: ToDenseWarning: Could not preserve structure in block matrix: converting to dense.\n",
      "  return B.block(*[[pairwise(k, xi, yi) for yi in y] for xi in x])\n",
      "/Users/huangd5/anaconda3/envs/np/lib/python3.10/site-packages/stheno/mo/input.py:9: ToDenseWarning: Could not preserve structure in block matrix: converting to dense.\n",
      "  return B.block(*[[pairwise(k, xi, yi) for yi in y] for xi in x])\n"
     ]
    },
    {
     "name": "stdout",
     "output_type": "stream",
     "text": [
      "result/train-epoch-064-3.pdf\n",
      "result/train-epoch-064-4.pdf\n"
     ]
    },
    {
     "name": "stderr",
     "output_type": "stream",
     "text": [
      "/Users/huangd5/anaconda3/envs/np/lib/python3.10/site-packages/stheno/mo/input.py:9: ToDenseWarning: Could not preserve structure in block matrix: converting to dense.\n",
      "  return B.block(*[[pairwise(k, xi, yi) for yi in y] for xi in x])\n",
      "/Users/huangd5/anaconda3/envs/np/lib/python3.10/site-packages/stheno/mo/input.py:9: ToDenseWarning: Could not preserve structure in block matrix: converting to dense.\n",
      "  return B.block(*[[pairwise(k, xi, yi) for yi in y] for xi in x])\n"
     ]
    },
    {
     "name": "stdout",
     "output_type": "stream",
     "text": [
      "result/train-epoch-064-5.pdf\n",
      "Epoch 65:\n"
     ]
    },
    {
     "name": "stderr",
     "output_type": "stream",
     "text": [
      "/Users/huangd5/anaconda3/envs/np/lib/python3.10/site-packages/stheno/mo/input.py:9: ToDenseWarning: Could not preserve structure in block matrix: converting to dense.\n",
      "  return B.block(*[[pairwise(k, xi, yi) for yi in y] for xi in x])\n"
     ]
    },
    {
     "name": "stdout",
     "output_type": "stream",
     "text": [
      "    Loglik (T):   -0.88042 +-    0.00500 (  -0.88542)\n",
      "    Loglik (V):   -0.84741 +-    0.00983 (  -0.85724)\n",
      "    KL (full):     0.52493 +-    0.00756 (   0.53248)\n",
      "    KL (diag):     0.14396 +-    0.00496 (   0.14892)\n",
      "result/train-epoch-065-1.pdf\n",
      "result/train-epoch-065-2.pdf\n"
     ]
    },
    {
     "name": "stderr",
     "output_type": "stream",
     "text": [
      "/Users/huangd5/anaconda3/envs/np/lib/python3.10/site-packages/stheno/mo/input.py:9: ToDenseWarning: Could not preserve structure in block matrix: converting to dense.\n",
      "  return B.block(*[[pairwise(k, xi, yi) for yi in y] for xi in x])\n",
      "/Users/huangd5/anaconda3/envs/np/lib/python3.10/site-packages/stheno/mo/input.py:9: ToDenseWarning: Could not preserve structure in block matrix: converting to dense.\n",
      "  return B.block(*[[pairwise(k, xi, yi) for yi in y] for xi in x])\n"
     ]
    },
    {
     "name": "stdout",
     "output_type": "stream",
     "text": [
      "result/train-epoch-065-3.pdf\n",
      "result/train-epoch-065-4.pdf\n"
     ]
    },
    {
     "name": "stderr",
     "output_type": "stream",
     "text": [
      "/Users/huangd5/anaconda3/envs/np/lib/python3.10/site-packages/stheno/mo/input.py:9: ToDenseWarning: Could not preserve structure in block matrix: converting to dense.\n",
      "  return B.block(*[[pairwise(k, xi, yi) for yi in y] for xi in x])\n",
      "/Users/huangd5/anaconda3/envs/np/lib/python3.10/site-packages/stheno/mo/input.py:9: ToDenseWarning: Could not preserve structure in block matrix: converting to dense.\n",
      "  return B.block(*[[pairwise(k, xi, yi) for yi in y] for xi in x])\n"
     ]
    },
    {
     "name": "stdout",
     "output_type": "stream",
     "text": [
      "result/train-epoch-065-5.pdf\n",
      "Epoch 66:\n"
     ]
    },
    {
     "name": "stderr",
     "output_type": "stream",
     "text": [
      "/Users/huangd5/anaconda3/envs/np/lib/python3.10/site-packages/stheno/mo/input.py:9: ToDenseWarning: Could not preserve structure in block matrix: converting to dense.\n",
      "  return B.block(*[[pairwise(k, xi, yi) for yi in y] for xi in x])\n"
     ]
    },
    {
     "name": "stdout",
     "output_type": "stream",
     "text": [
      "    Loglik (T):   -0.86858 +-    0.00501 (  -0.87359)\n",
      "    Loglik (V):   -0.86390 +-    0.00999 (  -0.87388)\n",
      "    KL (full):     0.54141 +-    0.00778 (   0.54919)\n",
      "    KL (diag):     0.16045 +-    0.00532 (   0.16576)\n",
      "result/train-epoch-066-1.pdf\n",
      "result/train-epoch-066-2.pdf\n"
     ]
    },
    {
     "name": "stderr",
     "output_type": "stream",
     "text": [
      "/Users/huangd5/anaconda3/envs/np/lib/python3.10/site-packages/stheno/mo/input.py:9: ToDenseWarning: Could not preserve structure in block matrix: converting to dense.\n",
      "  return B.block(*[[pairwise(k, xi, yi) for yi in y] for xi in x])\n",
      "/Users/huangd5/anaconda3/envs/np/lib/python3.10/site-packages/stheno/mo/input.py:9: ToDenseWarning: Could not preserve structure in block matrix: converting to dense.\n",
      "  return B.block(*[[pairwise(k, xi, yi) for yi in y] for xi in x])\n"
     ]
    },
    {
     "name": "stdout",
     "output_type": "stream",
     "text": [
      "result/train-epoch-066-3.pdf\n",
      "result/train-epoch-066-4.pdf\n"
     ]
    },
    {
     "name": "stderr",
     "output_type": "stream",
     "text": [
      "/Users/huangd5/anaconda3/envs/np/lib/python3.10/site-packages/stheno/mo/input.py:9: ToDenseWarning: Could not preserve structure in block matrix: converting to dense.\n",
      "  return B.block(*[[pairwise(k, xi, yi) for yi in y] for xi in x])\n",
      "/Users/huangd5/anaconda3/envs/np/lib/python3.10/site-packages/stheno/mo/input.py:9: ToDenseWarning: Could not preserve structure in block matrix: converting to dense.\n",
      "  return B.block(*[[pairwise(k, xi, yi) for yi in y] for xi in x])\n"
     ]
    },
    {
     "name": "stdout",
     "output_type": "stream",
     "text": [
      "result/train-epoch-066-5.pdf\n",
      "Epoch 67:\n"
     ]
    },
    {
     "name": "stderr",
     "output_type": "stream",
     "text": [
      "/Users/huangd5/anaconda3/envs/np/lib/python3.10/site-packages/stheno/mo/input.py:9: ToDenseWarning: Could not preserve structure in block matrix: converting to dense.\n",
      "  return B.block(*[[pairwise(k, xi, yi) for yi in y] for xi in x])\n"
     ]
    },
    {
     "name": "stdout",
     "output_type": "stream",
     "text": [
      "    Loglik (T):   -0.84674 +-    0.00487 (  -0.85161)\n",
      "    Loglik (V):   -0.85097 +-    0.00978 (  -0.86075)\n",
      "    KL (full):     0.52849 +-    0.00748 (   0.53597)\n",
      "    KL (diag):     0.14752 +-    0.00488 (   0.15240)\n",
      "result/train-epoch-067-1.pdf\n",
      "result/train-epoch-067-2.pdf\n"
     ]
    },
    {
     "name": "stderr",
     "output_type": "stream",
     "text": [
      "/Users/huangd5/anaconda3/envs/np/lib/python3.10/site-packages/stheno/mo/input.py:9: ToDenseWarning: Could not preserve structure in block matrix: converting to dense.\n",
      "  return B.block(*[[pairwise(k, xi, yi) for yi in y] for xi in x])\n",
      "/Users/huangd5/anaconda3/envs/np/lib/python3.10/site-packages/stheno/mo/input.py:9: ToDenseWarning: Could not preserve structure in block matrix: converting to dense.\n",
      "  return B.block(*[[pairwise(k, xi, yi) for yi in y] for xi in x])\n"
     ]
    },
    {
     "name": "stdout",
     "output_type": "stream",
     "text": [
      "result/train-epoch-067-3.pdf\n",
      "result/train-epoch-067-4.pdf\n"
     ]
    },
    {
     "name": "stderr",
     "output_type": "stream",
     "text": [
      "/Users/huangd5/anaconda3/envs/np/lib/python3.10/site-packages/stheno/mo/input.py:9: ToDenseWarning: Could not preserve structure in block matrix: converting to dense.\n",
      "  return B.block(*[[pairwise(k, xi, yi) for yi in y] for xi in x])\n",
      "/Users/huangd5/anaconda3/envs/np/lib/python3.10/site-packages/stheno/mo/input.py:9: ToDenseWarning: Could not preserve structure in block matrix: converting to dense.\n",
      "  return B.block(*[[pairwise(k, xi, yi) for yi in y] for xi in x])\n"
     ]
    },
    {
     "name": "stdout",
     "output_type": "stream",
     "text": [
      "result/train-epoch-067-5.pdf\n",
      "Epoch 68:\n"
     ]
    },
    {
     "name": "stderr",
     "output_type": "stream",
     "text": [
      "/Users/huangd5/anaconda3/envs/np/lib/python3.10/site-packages/stheno/mo/input.py:9: ToDenseWarning: Could not preserve structure in block matrix: converting to dense.\n",
      "  return B.block(*[[pairwise(k, xi, yi) for yi in y] for xi in x])\n"
     ]
    },
    {
     "name": "stdout",
     "output_type": "stream",
     "text": [
      "    Loglik (T):   -0.86210 +-    0.00497 (  -0.86707)\n",
      "    Loglik (V):   -0.84914 +-    0.00976 (  -0.85890)\n",
      "    KL (full):     0.52666 +-    0.00744 (   0.53410)\n",
      "    KL (diag):     0.14569 +-    0.00479 (   0.15048)\n",
      "result/train-epoch-068-1.pdf\n",
      "result/train-epoch-068-2.pdf\n"
     ]
    },
    {
     "name": "stderr",
     "output_type": "stream",
     "text": [
      "/Users/huangd5/anaconda3/envs/np/lib/python3.10/site-packages/stheno/mo/input.py:9: ToDenseWarning: Could not preserve structure in block matrix: converting to dense.\n",
      "  return B.block(*[[pairwise(k, xi, yi) for yi in y] for xi in x])\n",
      "/Users/huangd5/anaconda3/envs/np/lib/python3.10/site-packages/stheno/mo/input.py:9: ToDenseWarning: Could not preserve structure in block matrix: converting to dense.\n",
      "  return B.block(*[[pairwise(k, xi, yi) for yi in y] for xi in x])\n"
     ]
    },
    {
     "name": "stdout",
     "output_type": "stream",
     "text": [
      "result/train-epoch-068-3.pdf\n",
      "result/train-epoch-068-4.pdf\n"
     ]
    },
    {
     "name": "stderr",
     "output_type": "stream",
     "text": [
      "/Users/huangd5/anaconda3/envs/np/lib/python3.10/site-packages/stheno/mo/input.py:9: ToDenseWarning: Could not preserve structure in block matrix: converting to dense.\n",
      "  return B.block(*[[pairwise(k, xi, yi) for yi in y] for xi in x])\n",
      "/Users/huangd5/anaconda3/envs/np/lib/python3.10/site-packages/stheno/mo/input.py:9: ToDenseWarning: Could not preserve structure in block matrix: converting to dense.\n",
      "  return B.block(*[[pairwise(k, xi, yi) for yi in y] for xi in x])\n"
     ]
    },
    {
     "name": "stdout",
     "output_type": "stream",
     "text": [
      "result/train-epoch-068-5.pdf\n",
      "Epoch 69:\n"
     ]
    },
    {
     "name": "stderr",
     "output_type": "stream",
     "text": [
      "/Users/huangd5/anaconda3/envs/np/lib/python3.10/site-packages/stheno/mo/input.py:9: ToDenseWarning: Could not preserve structure in block matrix: converting to dense.\n",
      "  return B.block(*[[pairwise(k, xi, yi) for yi in y] for xi in x])\n"
     ]
    },
    {
     "name": "stdout",
     "output_type": "stream",
     "text": [
      "    Loglik (T):   -0.85234 +-    0.00488 (  -0.85722)\n",
      "    Loglik (V):   -0.84076 +-    0.01024 (  -0.85100)\n",
      "    KL (full):     0.51827 +-    0.00791 (   0.52619)\n",
      "    KL (diag):     0.13731 +-    0.00487 (   0.14218)\n",
      "result/train-epoch-069-1.pdf\n",
      "result/train-epoch-069-2.pdf\n"
     ]
    },
    {
     "name": "stderr",
     "output_type": "stream",
     "text": [
      "/Users/huangd5/anaconda3/envs/np/lib/python3.10/site-packages/stheno/mo/input.py:9: ToDenseWarning: Could not preserve structure in block matrix: converting to dense.\n",
      "  return B.block(*[[pairwise(k, xi, yi) for yi in y] for xi in x])\n",
      "/Users/huangd5/anaconda3/envs/np/lib/python3.10/site-packages/stheno/mo/input.py:9: ToDenseWarning: Could not preserve structure in block matrix: converting to dense.\n",
      "  return B.block(*[[pairwise(k, xi, yi) for yi in y] for xi in x])\n"
     ]
    },
    {
     "name": "stdout",
     "output_type": "stream",
     "text": [
      "result/train-epoch-069-3.pdf\n",
      "result/train-epoch-069-4.pdf\n"
     ]
    },
    {
     "name": "stderr",
     "output_type": "stream",
     "text": [
      "/Users/huangd5/anaconda3/envs/np/lib/python3.10/site-packages/stheno/mo/input.py:9: ToDenseWarning: Could not preserve structure in block matrix: converting to dense.\n",
      "  return B.block(*[[pairwise(k, xi, yi) for yi in y] for xi in x])\n",
      "/Users/huangd5/anaconda3/envs/np/lib/python3.10/site-packages/stheno/mo/input.py:9: ToDenseWarning: Could not preserve structure in block matrix: converting to dense.\n",
      "  return B.block(*[[pairwise(k, xi, yi) for yi in y] for xi in x])\n"
     ]
    },
    {
     "name": "stdout",
     "output_type": "stream",
     "text": [
      "result/train-epoch-069-5.pdf\n",
      "Epoch 70:\n"
     ]
    },
    {
     "name": "stderr",
     "output_type": "stream",
     "text": [
      "/Users/huangd5/anaconda3/envs/np/lib/python3.10/site-packages/stheno/mo/input.py:9: ToDenseWarning: Could not preserve structure in block matrix: converting to dense.\n",
      "  return B.block(*[[pairwise(k, xi, yi) for yi in y] for xi in x])\n"
     ]
    },
    {
     "name": "stdout",
     "output_type": "stream",
     "text": [
      "    Loglik (T):   -0.86838 +-    0.00509 (  -0.87348)\n",
      "    Loglik (V):   -0.84193 +-    0.00974 (  -0.85167)\n",
      "    KL (full):     0.51944 +-    0.00742 (   0.52687)\n",
      "    KL (diag):     0.13848 +-    0.00471 (   0.14319)\n",
      "result/train-epoch-070-1.pdf\n",
      "result/train-epoch-070-2.pdf\n"
     ]
    },
    {
     "name": "stderr",
     "output_type": "stream",
     "text": [
      "/Users/huangd5/anaconda3/envs/np/lib/python3.10/site-packages/stheno/mo/input.py:9: ToDenseWarning: Could not preserve structure in block matrix: converting to dense.\n",
      "  return B.block(*[[pairwise(k, xi, yi) for yi in y] for xi in x])\n",
      "/Users/huangd5/anaconda3/envs/np/lib/python3.10/site-packages/stheno/mo/input.py:9: ToDenseWarning: Could not preserve structure in block matrix: converting to dense.\n",
      "  return B.block(*[[pairwise(k, xi, yi) for yi in y] for xi in x])\n"
     ]
    },
    {
     "name": "stdout",
     "output_type": "stream",
     "text": [
      "result/train-epoch-070-3.pdf\n",
      "result/train-epoch-070-4.pdf\n"
     ]
    },
    {
     "name": "stderr",
     "output_type": "stream",
     "text": [
      "/Users/huangd5/anaconda3/envs/np/lib/python3.10/site-packages/stheno/mo/input.py:9: ToDenseWarning: Could not preserve structure in block matrix: converting to dense.\n",
      "  return B.block(*[[pairwise(k, xi, yi) for yi in y] for xi in x])\n",
      "/Users/huangd5/anaconda3/envs/np/lib/python3.10/site-packages/stheno/mo/input.py:9: ToDenseWarning: Could not preserve structure in block matrix: converting to dense.\n",
      "  return B.block(*[[pairwise(k, xi, yi) for yi in y] for xi in x])\n"
     ]
    },
    {
     "name": "stdout",
     "output_type": "stream",
     "text": [
      "result/train-epoch-070-5.pdf\n",
      "Epoch 71:\n"
     ]
    },
    {
     "name": "stderr",
     "output_type": "stream",
     "text": [
      "/Users/huangd5/anaconda3/envs/np/lib/python3.10/site-packages/stheno/mo/input.py:9: ToDenseWarning: Could not preserve structure in block matrix: converting to dense.\n",
      "  return B.block(*[[pairwise(k, xi, yi) for yi in y] for xi in x])\n"
     ]
    },
    {
     "name": "stdout",
     "output_type": "stream",
     "text": [
      "    Loglik (T):   -0.86214 +-    0.00502 (  -0.86716)\n",
      "    Loglik (V):   -0.84070 +-    0.01017 (  -0.85087)\n",
      "    KL (full):     0.51821 +-    0.00783 (   0.52605)\n",
      "    KL (diag):     0.13725 +-    0.00486 (   0.14210)\n",
      "result/train-epoch-071-1.pdf\n",
      "result/train-epoch-071-2.pdf\n"
     ]
    },
    {
     "name": "stderr",
     "output_type": "stream",
     "text": [
      "/Users/huangd5/anaconda3/envs/np/lib/python3.10/site-packages/stheno/mo/input.py:9: ToDenseWarning: Could not preserve structure in block matrix: converting to dense.\n",
      "  return B.block(*[[pairwise(k, xi, yi) for yi in y] for xi in x])\n",
      "/Users/huangd5/anaconda3/envs/np/lib/python3.10/site-packages/stheno/mo/input.py:9: ToDenseWarning: Could not preserve structure in block matrix: converting to dense.\n",
      "  return B.block(*[[pairwise(k, xi, yi) for yi in y] for xi in x])\n"
     ]
    },
    {
     "name": "stdout",
     "output_type": "stream",
     "text": [
      "result/train-epoch-071-3.pdf\n",
      "result/train-epoch-071-4.pdf\n"
     ]
    },
    {
     "name": "stderr",
     "output_type": "stream",
     "text": [
      "/Users/huangd5/anaconda3/envs/np/lib/python3.10/site-packages/stheno/mo/input.py:9: ToDenseWarning: Could not preserve structure in block matrix: converting to dense.\n",
      "  return B.block(*[[pairwise(k, xi, yi) for yi in y] for xi in x])\n",
      "/Users/huangd5/anaconda3/envs/np/lib/python3.10/site-packages/stheno/mo/input.py:9: ToDenseWarning: Could not preserve structure in block matrix: converting to dense.\n",
      "  return B.block(*[[pairwise(k, xi, yi) for yi in y] for xi in x])\n"
     ]
    },
    {
     "name": "stdout",
     "output_type": "stream",
     "text": [
      "result/train-epoch-071-5.pdf\n",
      "Epoch 72:\n"
     ]
    },
    {
     "name": "stderr",
     "output_type": "stream",
     "text": [
      "/Users/huangd5/anaconda3/envs/np/lib/python3.10/site-packages/stheno/mo/input.py:9: ToDenseWarning: Could not preserve structure in block matrix: converting to dense.\n",
      "  return B.block(*[[pairwise(k, xi, yi) for yi in y] for xi in x])\n"
     ]
    },
    {
     "name": "stdout",
     "output_type": "stream",
     "text": [
      "    Loglik (T):   -0.87130 +-    0.00506 (  -0.87636)\n",
      "    Loglik (V):   -0.84240 +-    0.00991 (  -0.85231)\n",
      "    KL (full):     0.51992 +-    0.00757 (   0.52749)\n",
      "    KL (diag):     0.13896 +-    0.00476 (   0.14372)\n",
      "result/train-epoch-072-1.pdf\n",
      "result/train-epoch-072-2.pdf\n"
     ]
    },
    {
     "name": "stderr",
     "output_type": "stream",
     "text": [
      "/Users/huangd5/anaconda3/envs/np/lib/python3.10/site-packages/stheno/mo/input.py:9: ToDenseWarning: Could not preserve structure in block matrix: converting to dense.\n",
      "  return B.block(*[[pairwise(k, xi, yi) for yi in y] for xi in x])\n",
      "/Users/huangd5/anaconda3/envs/np/lib/python3.10/site-packages/stheno/mo/input.py:9: ToDenseWarning: Could not preserve structure in block matrix: converting to dense.\n",
      "  return B.block(*[[pairwise(k, xi, yi) for yi in y] for xi in x])\n"
     ]
    },
    {
     "name": "stdout",
     "output_type": "stream",
     "text": [
      "result/train-epoch-072-3.pdf\n",
      "result/train-epoch-072-4.pdf\n",
      "result/train-epoch-072-5.pdf\n"
     ]
    },
    {
     "name": "stderr",
     "output_type": "stream",
     "text": [
      "/Users/huangd5/anaconda3/envs/np/lib/python3.10/site-packages/stheno/mo/input.py:9: ToDenseWarning: Could not preserve structure in block matrix: converting to dense.\n",
      "  return B.block(*[[pairwise(k, xi, yi) for yi in y] for xi in x])\n",
      "/Users/huangd5/anaconda3/envs/np/lib/python3.10/site-packages/stheno/mo/input.py:9: ToDenseWarning: Could not preserve structure in block matrix: converting to dense.\n",
      "  return B.block(*[[pairwise(k, xi, yi) for yi in y] for xi in x])\n"
     ]
    },
    {
     "name": "stdout",
     "output_type": "stream",
     "text": [
      "Epoch 73:\n"
     ]
    },
    {
     "name": "stderr",
     "output_type": "stream",
     "text": [
      "/Users/huangd5/anaconda3/envs/np/lib/python3.10/site-packages/stheno/mo/input.py:9: ToDenseWarning: Could not preserve structure in block matrix: converting to dense.\n",
      "  return B.block(*[[pairwise(k, xi, yi) for yi in y] for xi in x])\n"
     ]
    },
    {
     "name": "stdout",
     "output_type": "stream",
     "text": [
      "    Loglik (T):   -0.86088 +-    0.00498 (  -0.86586)\n",
      "    Loglik (V):   -0.84428 +-    0.00994 (  -0.85421)\n",
      "    KL (full):     0.52179 +-    0.00762 (   0.52941)\n",
      "    KL (diag):     0.14083 +-    0.00489 (   0.14571)\n",
      "result/train-epoch-073-1.pdf\n",
      "result/train-epoch-073-2.pdf\n"
     ]
    },
    {
     "name": "stderr",
     "output_type": "stream",
     "text": [
      "/Users/huangd5/anaconda3/envs/np/lib/python3.10/site-packages/stheno/mo/input.py:9: ToDenseWarning: Could not preserve structure in block matrix: converting to dense.\n",
      "  return B.block(*[[pairwise(k, xi, yi) for yi in y] for xi in x])\n",
      "/Users/huangd5/anaconda3/envs/np/lib/python3.10/site-packages/stheno/mo/input.py:9: ToDenseWarning: Could not preserve structure in block matrix: converting to dense.\n",
      "  return B.block(*[[pairwise(k, xi, yi) for yi in y] for xi in x])\n"
     ]
    },
    {
     "name": "stdout",
     "output_type": "stream",
     "text": [
      "result/train-epoch-073-3.pdf\n",
      "result/train-epoch-073-4.pdf\n"
     ]
    },
    {
     "name": "stderr",
     "output_type": "stream",
     "text": [
      "/Users/huangd5/anaconda3/envs/np/lib/python3.10/site-packages/stheno/mo/input.py:9: ToDenseWarning: Could not preserve structure in block matrix: converting to dense.\n",
      "  return B.block(*[[pairwise(k, xi, yi) for yi in y] for xi in x])\n",
      "/Users/huangd5/anaconda3/envs/np/lib/python3.10/site-packages/stheno/mo/input.py:9: ToDenseWarning: Could not preserve structure in block matrix: converting to dense.\n",
      "  return B.block(*[[pairwise(k, xi, yi) for yi in y] for xi in x])\n"
     ]
    },
    {
     "name": "stdout",
     "output_type": "stream",
     "text": [
      "result/train-epoch-073-5.pdf\n",
      "Epoch 74:\n"
     ]
    },
    {
     "name": "stderr",
     "output_type": "stream",
     "text": [
      "/Users/huangd5/anaconda3/envs/np/lib/python3.10/site-packages/stheno/mo/input.py:9: ToDenseWarning: Could not preserve structure in block matrix: converting to dense.\n",
      "  return B.block(*[[pairwise(k, xi, yi) for yi in y] for xi in x])\n"
     ]
    },
    {
     "name": "stdout",
     "output_type": "stream",
     "text": [
      "    Loglik (T):   -0.86900 +-    0.00507 (  -0.87407)\n",
      "    Loglik (V):   -0.84583 +-    0.00996 (  -0.85579)\n",
      "    KL (full):     0.52334 +-    0.00763 (   0.53098)\n",
      "    KL (diag):     0.14238 +-    0.00488 (   0.14726)\n",
      "result/train-epoch-074-1.pdf\n",
      "result/train-epoch-074-2.pdf\n"
     ]
    },
    {
     "name": "stderr",
     "output_type": "stream",
     "text": [
      "/Users/huangd5/anaconda3/envs/np/lib/python3.10/site-packages/stheno/mo/input.py:9: ToDenseWarning: Could not preserve structure in block matrix: converting to dense.\n",
      "  return B.block(*[[pairwise(k, xi, yi) for yi in y] for xi in x])\n",
      "/Users/huangd5/anaconda3/envs/np/lib/python3.10/site-packages/stheno/mo/input.py:9: ToDenseWarning: Could not preserve structure in block matrix: converting to dense.\n",
      "  return B.block(*[[pairwise(k, xi, yi) for yi in y] for xi in x])\n"
     ]
    },
    {
     "name": "stdout",
     "output_type": "stream",
     "text": [
      "result/train-epoch-074-3.pdf\n",
      "result/train-epoch-074-4.pdf\n"
     ]
    },
    {
     "name": "stderr",
     "output_type": "stream",
     "text": [
      "/Users/huangd5/anaconda3/envs/np/lib/python3.10/site-packages/stheno/mo/input.py:9: ToDenseWarning: Could not preserve structure in block matrix: converting to dense.\n",
      "  return B.block(*[[pairwise(k, xi, yi) for yi in y] for xi in x])\n",
      "/Users/huangd5/anaconda3/envs/np/lib/python3.10/site-packages/stheno/mo/input.py:9: ToDenseWarning: Could not preserve structure in block matrix: converting to dense.\n",
      "  return B.block(*[[pairwise(k, xi, yi) for yi in y] for xi in x])\n"
     ]
    },
    {
     "name": "stdout",
     "output_type": "stream",
     "text": [
      "result/train-epoch-074-5.pdf\n",
      "Epoch 75:\n"
     ]
    },
    {
     "name": "stderr",
     "output_type": "stream",
     "text": [
      "/Users/huangd5/anaconda3/envs/np/lib/python3.10/site-packages/stheno/mo/input.py:9: ToDenseWarning: Could not preserve structure in block matrix: converting to dense.\n",
      "  return B.block(*[[pairwise(k, xi, yi) for yi in y] for xi in x])\n"
     ]
    },
    {
     "name": "stdout",
     "output_type": "stream",
     "text": [
      "    Loglik (T):   -0.85505 +-    0.00508 (  -0.86012)\n",
      "    Loglik (V):   -0.84173 +-    0.00993 (  -0.85166)\n",
      "    KL (full):     0.51924 +-    0.00760 (   0.52684)\n",
      "    KL (diag):     0.13828 +-    0.00475 (   0.14302)\n",
      "result/train-epoch-075-1.pdf\n",
      "result/train-epoch-075-2.pdf\n"
     ]
    },
    {
     "name": "stderr",
     "output_type": "stream",
     "text": [
      "/Users/huangd5/anaconda3/envs/np/lib/python3.10/site-packages/stheno/mo/input.py:9: ToDenseWarning: Could not preserve structure in block matrix: converting to dense.\n",
      "  return B.block(*[[pairwise(k, xi, yi) for yi in y] for xi in x])\n",
      "/Users/huangd5/anaconda3/envs/np/lib/python3.10/site-packages/stheno/mo/input.py:9: ToDenseWarning: Could not preserve structure in block matrix: converting to dense.\n",
      "  return B.block(*[[pairwise(k, xi, yi) for yi in y] for xi in x])\n"
     ]
    },
    {
     "name": "stdout",
     "output_type": "stream",
     "text": [
      "result/train-epoch-075-3.pdf\n",
      "result/train-epoch-075-4.pdf\n"
     ]
    },
    {
     "name": "stderr",
     "output_type": "stream",
     "text": [
      "/Users/huangd5/anaconda3/envs/np/lib/python3.10/site-packages/stheno/mo/input.py:9: ToDenseWarning: Could not preserve structure in block matrix: converting to dense.\n",
      "  return B.block(*[[pairwise(k, xi, yi) for yi in y] for xi in x])\n",
      "/Users/huangd5/anaconda3/envs/np/lib/python3.10/site-packages/stheno/mo/input.py:9: ToDenseWarning: Could not preserve structure in block matrix: converting to dense.\n",
      "  return B.block(*[[pairwise(k, xi, yi) for yi in y] for xi in x])\n"
     ]
    },
    {
     "name": "stdout",
     "output_type": "stream",
     "text": [
      "result/train-epoch-075-5.pdf\n",
      "Epoch 76:\n"
     ]
    },
    {
     "name": "stderr",
     "output_type": "stream",
     "text": [
      "/Users/huangd5/anaconda3/envs/np/lib/python3.10/site-packages/stheno/mo/input.py:9: ToDenseWarning: Could not preserve structure in block matrix: converting to dense.\n",
      "  return B.block(*[[pairwise(k, xi, yi) for yi in y] for xi in x])\n"
     ]
    },
    {
     "name": "stdout",
     "output_type": "stream",
     "text": [
      "    Loglik (T):   -0.86451 +-    0.00512 (  -0.86962)\n",
      "    Loglik (V):   -0.84715 +-    0.01007 (  -0.85722)\n",
      "    KL (full):     0.52466 +-    0.00776 (   0.53242)\n",
      "    KL (diag):     0.14370 +-    0.00501 (   0.14870)\n",
      "result/train-epoch-076-1.pdf\n",
      "result/train-epoch-076-2.pdf\n"
     ]
    },
    {
     "name": "stderr",
     "output_type": "stream",
     "text": [
      "/Users/huangd5/anaconda3/envs/np/lib/python3.10/site-packages/stheno/mo/input.py:9: ToDenseWarning: Could not preserve structure in block matrix: converting to dense.\n",
      "  return B.block(*[[pairwise(k, xi, yi) for yi in y] for xi in x])\n",
      "/Users/huangd5/anaconda3/envs/np/lib/python3.10/site-packages/stheno/mo/input.py:9: ToDenseWarning: Could not preserve structure in block matrix: converting to dense.\n",
      "  return B.block(*[[pairwise(k, xi, yi) for yi in y] for xi in x])\n"
     ]
    },
    {
     "name": "stdout",
     "output_type": "stream",
     "text": [
      "result/train-epoch-076-3.pdf\n",
      "result/train-epoch-076-4.pdf\n"
     ]
    },
    {
     "name": "stderr",
     "output_type": "stream",
     "text": [
      "/Users/huangd5/anaconda3/envs/np/lib/python3.10/site-packages/stheno/mo/input.py:9: ToDenseWarning: Could not preserve structure in block matrix: converting to dense.\n",
      "  return B.block(*[[pairwise(k, xi, yi) for yi in y] for xi in x])\n",
      "/Users/huangd5/anaconda3/envs/np/lib/python3.10/site-packages/stheno/mo/input.py:9: ToDenseWarning: Could not preserve structure in block matrix: converting to dense.\n",
      "  return B.block(*[[pairwise(k, xi, yi) for yi in y] for xi in x])\n"
     ]
    },
    {
     "name": "stdout",
     "output_type": "stream",
     "text": [
      "result/train-epoch-076-5.pdf\n",
      "Epoch 77:\n"
     ]
    },
    {
     "name": "stderr",
     "output_type": "stream",
     "text": [
      "/Users/huangd5/anaconda3/envs/np/lib/python3.10/site-packages/stheno/mo/input.py:9: ToDenseWarning: Could not preserve structure in block matrix: converting to dense.\n",
      "  return B.block(*[[pairwise(k, xi, yi) for yi in y] for xi in x])\n"
     ]
    },
    {
     "name": "stdout",
     "output_type": "stream",
     "text": [
      "    Loglik (T):   -0.85119 +-    0.00503 (  -0.85622)\n",
      "    Loglik (V):   -0.85397 +-    0.01001 (  -0.86398)\n",
      "    KL (full):     0.53148 +-    0.00770 (   0.53918)\n",
      "    KL (diag):     0.15052 +-    0.00504 (   0.15556)\n",
      "result/train-epoch-077-1.pdf\n",
      "result/train-epoch-077-2.pdf\n"
     ]
    },
    {
     "name": "stderr",
     "output_type": "stream",
     "text": [
      "/Users/huangd5/anaconda3/envs/np/lib/python3.10/site-packages/stheno/mo/input.py:9: ToDenseWarning: Could not preserve structure in block matrix: converting to dense.\n",
      "  return B.block(*[[pairwise(k, xi, yi) for yi in y] for xi in x])\n",
      "/Users/huangd5/anaconda3/envs/np/lib/python3.10/site-packages/stheno/mo/input.py:9: ToDenseWarning: Could not preserve structure in block matrix: converting to dense.\n",
      "  return B.block(*[[pairwise(k, xi, yi) for yi in y] for xi in x])\n"
     ]
    },
    {
     "name": "stdout",
     "output_type": "stream",
     "text": [
      "result/train-epoch-077-3.pdf\n",
      "result/train-epoch-077-4.pdf\n"
     ]
    },
    {
     "name": "stderr",
     "output_type": "stream",
     "text": [
      "/Users/huangd5/anaconda3/envs/np/lib/python3.10/site-packages/stheno/mo/input.py:9: ToDenseWarning: Could not preserve structure in block matrix: converting to dense.\n",
      "  return B.block(*[[pairwise(k, xi, yi) for yi in y] for xi in x])\n",
      "/Users/huangd5/anaconda3/envs/np/lib/python3.10/site-packages/stheno/mo/input.py:9: ToDenseWarning: Could not preserve structure in block matrix: converting to dense.\n",
      "  return B.block(*[[pairwise(k, xi, yi) for yi in y] for xi in x])\n"
     ]
    },
    {
     "name": "stdout",
     "output_type": "stream",
     "text": [
      "result/train-epoch-077-5.pdf\n",
      "Epoch 78:\n"
     ]
    },
    {
     "name": "stderr",
     "output_type": "stream",
     "text": [
      "/Users/huangd5/anaconda3/envs/np/lib/python3.10/site-packages/stheno/mo/input.py:9: ToDenseWarning: Could not preserve structure in block matrix: converting to dense.\n",
      "  return B.block(*[[pairwise(k, xi, yi) for yi in y] for xi in x])\n"
     ]
    },
    {
     "name": "stdout",
     "output_type": "stream",
     "text": [
      "    Loglik (T):   -0.86085 +-    0.00495 (  -0.86581)\n",
      "    Loglik (V):   -0.84353 +-    0.00984 (  -0.85337)\n",
      "    KL (full):     0.52104 +-    0.00750 (   0.52854)\n",
      "    KL (diag):     0.14008 +-    0.00469 (   0.14477)\n",
      "result/train-epoch-078-1.pdf\n",
      "result/train-epoch-078-2.pdf\n"
     ]
    },
    {
     "name": "stderr",
     "output_type": "stream",
     "text": [
      "/Users/huangd5/anaconda3/envs/np/lib/python3.10/site-packages/stheno/mo/input.py:9: ToDenseWarning: Could not preserve structure in block matrix: converting to dense.\n",
      "  return B.block(*[[pairwise(k, xi, yi) for yi in y] for xi in x])\n",
      "/Users/huangd5/anaconda3/envs/np/lib/python3.10/site-packages/stheno/mo/input.py:9: ToDenseWarning: Could not preserve structure in block matrix: converting to dense.\n",
      "  return B.block(*[[pairwise(k, xi, yi) for yi in y] for xi in x])\n"
     ]
    },
    {
     "name": "stdout",
     "output_type": "stream",
     "text": [
      "result/train-epoch-078-3.pdf\n",
      "result/train-epoch-078-4.pdf\n"
     ]
    },
    {
     "name": "stderr",
     "output_type": "stream",
     "text": [
      "/Users/huangd5/anaconda3/envs/np/lib/python3.10/site-packages/stheno/mo/input.py:9: ToDenseWarning: Could not preserve structure in block matrix: converting to dense.\n",
      "  return B.block(*[[pairwise(k, xi, yi) for yi in y] for xi in x])\n",
      "/Users/huangd5/anaconda3/envs/np/lib/python3.10/site-packages/stheno/mo/input.py:9: ToDenseWarning: Could not preserve structure in block matrix: converting to dense.\n",
      "  return B.block(*[[pairwise(k, xi, yi) for yi in y] for xi in x])\n"
     ]
    },
    {
     "name": "stdout",
     "output_type": "stream",
     "text": [
      "result/train-epoch-078-5.pdf\n",
      "Epoch 79:\n"
     ]
    },
    {
     "name": "stderr",
     "output_type": "stream",
     "text": [
      "/Users/huangd5/anaconda3/envs/np/lib/python3.10/site-packages/stheno/mo/input.py:9: ToDenseWarning: Could not preserve structure in block matrix: converting to dense.\n",
      "  return B.block(*[[pairwise(k, xi, yi) for yi in y] for xi in x])\n"
     ]
    },
    {
     "name": "stdout",
     "output_type": "stream",
     "text": [
      "    Loglik (T):   -0.86107 +-    0.00501 (  -0.86608)\n",
      "    Loglik (V):   -0.83623 +-    0.00992 (  -0.84615)\n",
      "    KL (full):     0.51375 +-    0.00757 (   0.52131)\n",
      "    KL (diag):     0.13278 +-    0.00460 (   0.13738)\n",
      "result/train-epoch-079-1.pdf\n",
      "result/train-epoch-079-2.pdf\n"
     ]
    },
    {
     "name": "stderr",
     "output_type": "stream",
     "text": [
      "/Users/huangd5/anaconda3/envs/np/lib/python3.10/site-packages/stheno/mo/input.py:9: ToDenseWarning: Could not preserve structure in block matrix: converting to dense.\n",
      "  return B.block(*[[pairwise(k, xi, yi) for yi in y] for xi in x])\n",
      "/Users/huangd5/anaconda3/envs/np/lib/python3.10/site-packages/stheno/mo/input.py:9: ToDenseWarning: Could not preserve structure in block matrix: converting to dense.\n",
      "  return B.block(*[[pairwise(k, xi, yi) for yi in y] for xi in x])\n"
     ]
    },
    {
     "name": "stdout",
     "output_type": "stream",
     "text": [
      "result/train-epoch-079-3.pdf\n",
      "result/train-epoch-079-4.pdf\n"
     ]
    },
    {
     "name": "stderr",
     "output_type": "stream",
     "text": [
      "/Users/huangd5/anaconda3/envs/np/lib/python3.10/site-packages/stheno/mo/input.py:9: ToDenseWarning: Could not preserve structure in block matrix: converting to dense.\n",
      "  return B.block(*[[pairwise(k, xi, yi) for yi in y] for xi in x])\n",
      "/Users/huangd5/anaconda3/envs/np/lib/python3.10/site-packages/stheno/mo/input.py:9: ToDenseWarning: Could not preserve structure in block matrix: converting to dense.\n",
      "  return B.block(*[[pairwise(k, xi, yi) for yi in y] for xi in x])\n"
     ]
    },
    {
     "name": "stdout",
     "output_type": "stream",
     "text": [
      "result/train-epoch-079-5.pdf\n",
      "Epoch 80:\n"
     ]
    },
    {
     "name": "stderr",
     "output_type": "stream",
     "text": [
      "/Users/huangd5/anaconda3/envs/np/lib/python3.10/site-packages/stheno/mo/input.py:9: ToDenseWarning: Could not preserve structure in block matrix: converting to dense.\n",
      "  return B.block(*[[pairwise(k, xi, yi) for yi in y] for xi in x])\n"
     ]
    },
    {
     "name": "stdout",
     "output_type": "stream",
     "text": [
      "    Loglik (T):   -0.86050 +-    0.00506 (  -0.86555)\n",
      "    Loglik (V):   -0.85740 +-    0.00995 (  -0.86734)\n",
      "    KL (full):     0.53491 +-    0.00770 (   0.54261)\n",
      "    KL (diag):     0.15395 +-    0.00519 (   0.15914)\n",
      "result/train-epoch-080-1.pdf\n",
      "result/train-epoch-080-2.pdf\n"
     ]
    },
    {
     "name": "stderr",
     "output_type": "stream",
     "text": [
      "/Users/huangd5/anaconda3/envs/np/lib/python3.10/site-packages/stheno/mo/input.py:9: ToDenseWarning: Could not preserve structure in block matrix: converting to dense.\n",
      "  return B.block(*[[pairwise(k, xi, yi) for yi in y] for xi in x])\n",
      "/Users/huangd5/anaconda3/envs/np/lib/python3.10/site-packages/stheno/mo/input.py:9: ToDenseWarning: Could not preserve structure in block matrix: converting to dense.\n",
      "  return B.block(*[[pairwise(k, xi, yi) for yi in y] for xi in x])\n"
     ]
    },
    {
     "name": "stdout",
     "output_type": "stream",
     "text": [
      "result/train-epoch-080-3.pdf\n",
      "result/train-epoch-080-4.pdf\n"
     ]
    },
    {
     "name": "stderr",
     "output_type": "stream",
     "text": [
      "/Users/huangd5/anaconda3/envs/np/lib/python3.10/site-packages/stheno/mo/input.py:9: ToDenseWarning: Could not preserve structure in block matrix: converting to dense.\n",
      "  return B.block(*[[pairwise(k, xi, yi) for yi in y] for xi in x])\n",
      "/Users/huangd5/anaconda3/envs/np/lib/python3.10/site-packages/stheno/mo/input.py:9: ToDenseWarning: Could not preserve structure in block matrix: converting to dense.\n",
      "  return B.block(*[[pairwise(k, xi, yi) for yi in y] for xi in x])\n"
     ]
    },
    {
     "name": "stdout",
     "output_type": "stream",
     "text": [
      "result/train-epoch-080-5.pdf\n",
      "Epoch 81:\n"
     ]
    },
    {
     "name": "stderr",
     "output_type": "stream",
     "text": [
      "/Users/huangd5/anaconda3/envs/np/lib/python3.10/site-packages/stheno/mo/input.py:9: ToDenseWarning: Could not preserve structure in block matrix: converting to dense.\n",
      "  return B.block(*[[pairwise(k, xi, yi) for yi in y] for xi in x])\n"
     ]
    },
    {
     "name": "stdout",
     "output_type": "stream",
     "text": [
      "    Loglik (T):   -0.84800 +-    0.00504 (  -0.85304)\n",
      "    Loglik (V):   -0.84017 +-    0.00991 (  -0.85008)\n",
      "    KL (full):     0.51769 +-    0.00759 (   0.52528)\n",
      "    KL (diag):     0.13672 +-    0.00468 (   0.14140)\n",
      "result/train-epoch-081-1.pdf\n",
      "result/train-epoch-081-2.pdf\n"
     ]
    },
    {
     "name": "stderr",
     "output_type": "stream",
     "text": [
      "/Users/huangd5/anaconda3/envs/np/lib/python3.10/site-packages/stheno/mo/input.py:9: ToDenseWarning: Could not preserve structure in block matrix: converting to dense.\n",
      "  return B.block(*[[pairwise(k, xi, yi) for yi in y] for xi in x])\n",
      "/Users/huangd5/anaconda3/envs/np/lib/python3.10/site-packages/stheno/mo/input.py:9: ToDenseWarning: Could not preserve structure in block matrix: converting to dense.\n",
      "  return B.block(*[[pairwise(k, xi, yi) for yi in y] for xi in x])\n"
     ]
    },
    {
     "name": "stdout",
     "output_type": "stream",
     "text": [
      "result/train-epoch-081-3.pdf\n",
      "result/train-epoch-081-4.pdf\n"
     ]
    },
    {
     "name": "stderr",
     "output_type": "stream",
     "text": [
      "/Users/huangd5/anaconda3/envs/np/lib/python3.10/site-packages/stheno/mo/input.py:9: ToDenseWarning: Could not preserve structure in block matrix: converting to dense.\n",
      "  return B.block(*[[pairwise(k, xi, yi) for yi in y] for xi in x])\n",
      "/Users/huangd5/anaconda3/envs/np/lib/python3.10/site-packages/stheno/mo/input.py:9: ToDenseWarning: Could not preserve structure in block matrix: converting to dense.\n",
      "  return B.block(*[[pairwise(k, xi, yi) for yi in y] for xi in x])\n"
     ]
    },
    {
     "name": "stdout",
     "output_type": "stream",
     "text": [
      "result/train-epoch-081-5.pdf\n",
      "Epoch 82:\n"
     ]
    },
    {
     "name": "stderr",
     "output_type": "stream",
     "text": [
      "/Users/huangd5/anaconda3/envs/np/lib/python3.10/site-packages/stheno/mo/input.py:9: ToDenseWarning: Could not preserve structure in block matrix: converting to dense.\n",
      "  return B.block(*[[pairwise(k, xi, yi) for yi in y] for xi in x])\n"
     ]
    },
    {
     "name": "stdout",
     "output_type": "stream",
     "text": [
      "    Loglik (T):   -0.85609 +-    0.00512 (  -0.86121)\n",
      "    Loglik (V):   -0.83906 +-    0.01010 (  -0.84916)\n",
      "    KL (full):     0.51657 +-    0.00773 (   0.52431)\n",
      "    KL (diag):     0.13561 +-    0.00477 (   0.14038)\n",
      "result/train-epoch-082-1.pdf\n",
      "result/train-epoch-082-2.pdf\n"
     ]
    },
    {
     "name": "stderr",
     "output_type": "stream",
     "text": [
      "/Users/huangd5/anaconda3/envs/np/lib/python3.10/site-packages/stheno/mo/input.py:9: ToDenseWarning: Could not preserve structure in block matrix: converting to dense.\n",
      "  return B.block(*[[pairwise(k, xi, yi) for yi in y] for xi in x])\n",
      "/Users/huangd5/anaconda3/envs/np/lib/python3.10/site-packages/stheno/mo/input.py:9: ToDenseWarning: Could not preserve structure in block matrix: converting to dense.\n",
      "  return B.block(*[[pairwise(k, xi, yi) for yi in y] for xi in x])\n"
     ]
    },
    {
     "name": "stdout",
     "output_type": "stream",
     "text": [
      "result/train-epoch-082-3.pdf\n",
      "result/train-epoch-082-4.pdf\n"
     ]
    },
    {
     "name": "stderr",
     "output_type": "stream",
     "text": [
      "/Users/huangd5/anaconda3/envs/np/lib/python3.10/site-packages/stheno/mo/input.py:9: ToDenseWarning: Could not preserve structure in block matrix: converting to dense.\n",
      "  return B.block(*[[pairwise(k, xi, yi) for yi in y] for xi in x])\n",
      "/Users/huangd5/anaconda3/envs/np/lib/python3.10/site-packages/stheno/mo/input.py:9: ToDenseWarning: Could not preserve structure in block matrix: converting to dense.\n",
      "  return B.block(*[[pairwise(k, xi, yi) for yi in y] for xi in x])\n"
     ]
    },
    {
     "name": "stdout",
     "output_type": "stream",
     "text": [
      "result/train-epoch-082-5.pdf\n",
      "Epoch 83:\n"
     ]
    },
    {
     "name": "stderr",
     "output_type": "stream",
     "text": [
      "/Users/huangd5/anaconda3/envs/np/lib/python3.10/site-packages/stheno/mo/input.py:9: ToDenseWarning: Could not preserve structure in block matrix: converting to dense.\n",
      "  return B.block(*[[pairwise(k, xi, yi) for yi in y] for xi in x])\n"
     ]
    },
    {
     "name": "stdout",
     "output_type": "stream",
     "text": [
      "    Loglik (T):   -0.86451 +-    0.00509 (  -0.86960)\n",
      "    Loglik (V):   -0.82919 +-    0.00996 (  -0.83915)\n",
      "    KL (full):     0.50670 +-    0.00755 (   0.51426)\n",
      "    KL (diag):     0.12574 +-    0.00459 (   0.13033)\n",
      "result/train-epoch-083-1.pdf\n",
      "result/train-epoch-083-2.pdf\n"
     ]
    },
    {
     "name": "stderr",
     "output_type": "stream",
     "text": [
      "/Users/huangd5/anaconda3/envs/np/lib/python3.10/site-packages/stheno/mo/input.py:9: ToDenseWarning: Could not preserve structure in block matrix: converting to dense.\n",
      "  return B.block(*[[pairwise(k, xi, yi) for yi in y] for xi in x])\n",
      "/Users/huangd5/anaconda3/envs/np/lib/python3.10/site-packages/stheno/mo/input.py:9: ToDenseWarning: Could not preserve structure in block matrix: converting to dense.\n",
      "  return B.block(*[[pairwise(k, xi, yi) for yi in y] for xi in x])\n"
     ]
    },
    {
     "name": "stdout",
     "output_type": "stream",
     "text": [
      "result/train-epoch-083-3.pdf\n",
      "result/train-epoch-083-4.pdf\n"
     ]
    },
    {
     "name": "stderr",
     "output_type": "stream",
     "text": [
      "/Users/huangd5/anaconda3/envs/np/lib/python3.10/site-packages/stheno/mo/input.py:9: ToDenseWarning: Could not preserve structure in block matrix: converting to dense.\n",
      "  return B.block(*[[pairwise(k, xi, yi) for yi in y] for xi in x])\n",
      "/Users/huangd5/anaconda3/envs/np/lib/python3.10/site-packages/stheno/mo/input.py:9: ToDenseWarning: Could not preserve structure in block matrix: converting to dense.\n",
      "  return B.block(*[[pairwise(k, xi, yi) for yi in y] for xi in x])\n"
     ]
    },
    {
     "name": "stdout",
     "output_type": "stream",
     "text": [
      "result/train-epoch-083-5.pdf\n",
      "Epoch 84:\n"
     ]
    },
    {
     "name": "stderr",
     "output_type": "stream",
     "text": [
      "/Users/huangd5/anaconda3/envs/np/lib/python3.10/site-packages/stheno/mo/input.py:9: ToDenseWarning: Could not preserve structure in block matrix: converting to dense.\n",
      "  return B.block(*[[pairwise(k, xi, yi) for yi in y] for xi in x])\n"
     ]
    },
    {
     "name": "stdout",
     "output_type": "stream",
     "text": [
      "    Loglik (T):   -0.85455 +-    0.00504 (  -0.85959)\n",
      "    Loglik (V):   -0.83189 +-    0.01007 (  -0.84196)\n",
      "    KL (full):     0.50941 +-    0.00770 (   0.51711)\n",
      "    KL (diag):     0.12844 +-    0.00465 (   0.13309)\n",
      "result/train-epoch-084-1.pdf\n",
      "result/train-epoch-084-2.pdf\n"
     ]
    },
    {
     "name": "stderr",
     "output_type": "stream",
     "text": [
      "/Users/huangd5/anaconda3/envs/np/lib/python3.10/site-packages/stheno/mo/input.py:9: ToDenseWarning: Could not preserve structure in block matrix: converting to dense.\n",
      "  return B.block(*[[pairwise(k, xi, yi) for yi in y] for xi in x])\n",
      "/Users/huangd5/anaconda3/envs/np/lib/python3.10/site-packages/stheno/mo/input.py:9: ToDenseWarning: Could not preserve structure in block matrix: converting to dense.\n",
      "  return B.block(*[[pairwise(k, xi, yi) for yi in y] for xi in x])\n"
     ]
    },
    {
     "name": "stdout",
     "output_type": "stream",
     "text": [
      "result/train-epoch-084-3.pdf\n",
      "result/train-epoch-084-4.pdf\n"
     ]
    },
    {
     "name": "stderr",
     "output_type": "stream",
     "text": [
      "/Users/huangd5/anaconda3/envs/np/lib/python3.10/site-packages/stheno/mo/input.py:9: ToDenseWarning: Could not preserve structure in block matrix: converting to dense.\n",
      "  return B.block(*[[pairwise(k, xi, yi) for yi in y] for xi in x])\n",
      "/Users/huangd5/anaconda3/envs/np/lib/python3.10/site-packages/stheno/mo/input.py:9: ToDenseWarning: Could not preserve structure in block matrix: converting to dense.\n",
      "  return B.block(*[[pairwise(k, xi, yi) for yi in y] for xi in x])\n"
     ]
    },
    {
     "name": "stdout",
     "output_type": "stream",
     "text": [
      "result/train-epoch-084-5.pdf\n",
      "Epoch 85:\n"
     ]
    },
    {
     "name": "stderr",
     "output_type": "stream",
     "text": [
      "/Users/huangd5/anaconda3/envs/np/lib/python3.10/site-packages/stheno/mo/input.py:9: ToDenseWarning: Could not preserve structure in block matrix: converting to dense.\n",
      "  return B.block(*[[pairwise(k, xi, yi) for yi in y] for xi in x])\n"
     ]
    },
    {
     "name": "stdout",
     "output_type": "stream",
     "text": [
      "    Loglik (T):   -0.85046 +-    0.00504 (  -0.85550)\n",
      "    Loglik (V):   -0.84830 +-    0.00980 (  -0.85810)\n",
      "    KL (full):     0.52582 +-    0.00750 (   0.53332)\n",
      "    KL (diag):     0.14485 +-    0.00489 (   0.14974)\n",
      "result/train-epoch-085-1.pdf\n",
      "result/train-epoch-085-2.pdf\n"
     ]
    },
    {
     "name": "stderr",
     "output_type": "stream",
     "text": [
      "/Users/huangd5/anaconda3/envs/np/lib/python3.10/site-packages/stheno/mo/input.py:9: ToDenseWarning: Could not preserve structure in block matrix: converting to dense.\n",
      "  return B.block(*[[pairwise(k, xi, yi) for yi in y] for xi in x])\n",
      "/Users/huangd5/anaconda3/envs/np/lib/python3.10/site-packages/stheno/mo/input.py:9: ToDenseWarning: Could not preserve structure in block matrix: converting to dense.\n",
      "  return B.block(*[[pairwise(k, xi, yi) for yi in y] for xi in x])\n"
     ]
    },
    {
     "name": "stdout",
     "output_type": "stream",
     "text": [
      "result/train-epoch-085-3.pdf\n",
      "result/train-epoch-085-4.pdf\n"
     ]
    },
    {
     "name": "stderr",
     "output_type": "stream",
     "text": [
      "/Users/huangd5/anaconda3/envs/np/lib/python3.10/site-packages/stheno/mo/input.py:9: ToDenseWarning: Could not preserve structure in block matrix: converting to dense.\n",
      "  return B.block(*[[pairwise(k, xi, yi) for yi in y] for xi in x])\n",
      "/Users/huangd5/anaconda3/envs/np/lib/python3.10/site-packages/stheno/mo/input.py:9: ToDenseWarning: Could not preserve structure in block matrix: converting to dense.\n",
      "  return B.block(*[[pairwise(k, xi, yi) for yi in y] for xi in x])\n"
     ]
    },
    {
     "name": "stdout",
     "output_type": "stream",
     "text": [
      "result/train-epoch-085-5.pdf\n",
      "Epoch 86:\n"
     ]
    },
    {
     "name": "stderr",
     "output_type": "stream",
     "text": [
      "/Users/huangd5/anaconda3/envs/np/lib/python3.10/site-packages/stheno/mo/input.py:9: ToDenseWarning: Could not preserve structure in block matrix: converting to dense.\n",
      "  return B.block(*[[pairwise(k, xi, yi) for yi in y] for xi in x])\n"
     ]
    },
    {
     "name": "stdout",
     "output_type": "stream",
     "text": [
      "    Loglik (T):   -0.86527 +-    0.00515 (  -0.87042)\n",
      "    Loglik (V):   -0.83318 +-    0.01009 (  -0.84328)\n",
      "    KL (full):     0.51070 +-    0.00774 (   0.51844)\n",
      "    KL (diag):     0.12973 +-    0.00467 (   0.13441)\n",
      "result/train-epoch-086-1.pdf\n",
      "result/train-epoch-086-2.pdf\n"
     ]
    },
    {
     "name": "stderr",
     "output_type": "stream",
     "text": [
      "/Users/huangd5/anaconda3/envs/np/lib/python3.10/site-packages/stheno/mo/input.py:9: ToDenseWarning: Could not preserve structure in block matrix: converting to dense.\n",
      "  return B.block(*[[pairwise(k, xi, yi) for yi in y] for xi in x])\n",
      "/Users/huangd5/anaconda3/envs/np/lib/python3.10/site-packages/stheno/mo/input.py:9: ToDenseWarning: Could not preserve structure in block matrix: converting to dense.\n",
      "  return B.block(*[[pairwise(k, xi, yi) for yi in y] for xi in x])\n"
     ]
    },
    {
     "name": "stdout",
     "output_type": "stream",
     "text": [
      "result/train-epoch-086-3.pdf\n",
      "result/train-epoch-086-4.pdf\n"
     ]
    },
    {
     "name": "stderr",
     "output_type": "stream",
     "text": [
      "/Users/huangd5/anaconda3/envs/np/lib/python3.10/site-packages/stheno/mo/input.py:9: ToDenseWarning: Could not preserve structure in block matrix: converting to dense.\n",
      "  return B.block(*[[pairwise(k, xi, yi) for yi in y] for xi in x])\n",
      "/Users/huangd5/anaconda3/envs/np/lib/python3.10/site-packages/stheno/mo/input.py:9: ToDenseWarning: Could not preserve structure in block matrix: converting to dense.\n",
      "  return B.block(*[[pairwise(k, xi, yi) for yi in y] for xi in x])\n"
     ]
    },
    {
     "name": "stdout",
     "output_type": "stream",
     "text": [
      "result/train-epoch-086-5.pdf\n",
      "Epoch 87:\n"
     ]
    },
    {
     "name": "stderr",
     "output_type": "stream",
     "text": [
      "/Users/huangd5/anaconda3/envs/np/lib/python3.10/site-packages/stheno/mo/input.py:9: ToDenseWarning: Could not preserve structure in block matrix: converting to dense.\n",
      "  return B.block(*[[pairwise(k, xi, yi) for yi in y] for xi in x])\n"
     ]
    },
    {
     "name": "stdout",
     "output_type": "stream",
     "text": [
      "    Loglik (T):   -0.85078 +-    0.00503 (  -0.85581)\n",
      "    Loglik (V):   -0.83656 +-    0.00964 (  -0.84621)\n",
      "    KL (full):     0.51408 +-    0.00727 (   0.52135)\n",
      "    KL (diag):     0.13311 +-    0.00441 (   0.13753)\n",
      "result/train-epoch-087-1.pdf\n",
      "result/train-epoch-087-2.pdf\n"
     ]
    },
    {
     "name": "stderr",
     "output_type": "stream",
     "text": [
      "/Users/huangd5/anaconda3/envs/np/lib/python3.10/site-packages/stheno/mo/input.py:9: ToDenseWarning: Could not preserve structure in block matrix: converting to dense.\n",
      "  return B.block(*[[pairwise(k, xi, yi) for yi in y] for xi in x])\n",
      "/Users/huangd5/anaconda3/envs/np/lib/python3.10/site-packages/stheno/mo/input.py:9: ToDenseWarning: Could not preserve structure in block matrix: converting to dense.\n",
      "  return B.block(*[[pairwise(k, xi, yi) for yi in y] for xi in x])\n"
     ]
    },
    {
     "name": "stdout",
     "output_type": "stream",
     "text": [
      "result/train-epoch-087-3.pdf\n",
      "result/train-epoch-087-4.pdf\n"
     ]
    },
    {
     "name": "stderr",
     "output_type": "stream",
     "text": [
      "/Users/huangd5/anaconda3/envs/np/lib/python3.10/site-packages/stheno/mo/input.py:9: ToDenseWarning: Could not preserve structure in block matrix: converting to dense.\n",
      "  return B.block(*[[pairwise(k, xi, yi) for yi in y] for xi in x])\n",
      "/Users/huangd5/anaconda3/envs/np/lib/python3.10/site-packages/stheno/mo/input.py:9: ToDenseWarning: Could not preserve structure in block matrix: converting to dense.\n",
      "  return B.block(*[[pairwise(k, xi, yi) for yi in y] for xi in x])\n"
     ]
    },
    {
     "name": "stdout",
     "output_type": "stream",
     "text": [
      "result/train-epoch-087-5.pdf\n",
      "Epoch 88:\n"
     ]
    },
    {
     "name": "stderr",
     "output_type": "stream",
     "text": [
      "/Users/huangd5/anaconda3/envs/np/lib/python3.10/site-packages/stheno/mo/input.py:9: ToDenseWarning: Could not preserve structure in block matrix: converting to dense.\n",
      "  return B.block(*[[pairwise(k, xi, yi) for yi in y] for xi in x])\n"
     ]
    },
    {
     "name": "stdout",
     "output_type": "stream",
     "text": [
      "    Loglik (T):   -0.83468 +-    0.00490 (  -0.83957)\n",
      "    Loglik (V):   -0.83766 +-    0.00989 (  -0.84754)\n",
      "    KL (full):     0.51517 +-    0.00756 (   0.52273)\n",
      "    KL (diag):     0.13421 +-    0.00471 (   0.13891)\n",
      "result/train-epoch-088-1.pdf\n",
      "result/train-epoch-088-2.pdf\n"
     ]
    },
    {
     "name": "stderr",
     "output_type": "stream",
     "text": [
      "/Users/huangd5/anaconda3/envs/np/lib/python3.10/site-packages/stheno/mo/input.py:9: ToDenseWarning: Could not preserve structure in block matrix: converting to dense.\n",
      "  return B.block(*[[pairwise(k, xi, yi) for yi in y] for xi in x])\n"
     ]
    },
    {
     "name": "stdout",
     "output_type": "stream",
     "text": [
      "result/train-epoch-088-3.pdf\n",
      "result/train-epoch-088-4.pdf\n"
     ]
    },
    {
     "name": "stderr",
     "output_type": "stream",
     "text": [
      "/Users/huangd5/anaconda3/envs/np/lib/python3.10/site-packages/stheno/mo/input.py:9: ToDenseWarning: Could not preserve structure in block matrix: converting to dense.\n",
      "  return B.block(*[[pairwise(k, xi, yi) for yi in y] for xi in x])\n",
      "/Users/huangd5/anaconda3/envs/np/lib/python3.10/site-packages/stheno/mo/input.py:9: ToDenseWarning: Could not preserve structure in block matrix: converting to dense.\n",
      "  return B.block(*[[pairwise(k, xi, yi) for yi in y] for xi in x])\n"
     ]
    },
    {
     "name": "stdout",
     "output_type": "stream",
     "text": [
      "result/train-epoch-088-5.pdf\n",
      "Epoch 89:\n"
     ]
    },
    {
     "name": "stderr",
     "output_type": "stream",
     "text": [
      "/Users/huangd5/anaconda3/envs/np/lib/python3.10/site-packages/stheno/mo/input.py:9: ToDenseWarning: Could not preserve structure in block matrix: converting to dense.\n",
      "  return B.block(*[[pairwise(k, xi, yi) for yi in y] for xi in x])\n",
      "/Users/huangd5/anaconda3/envs/np/lib/python3.10/site-packages/stheno/mo/input.py:9: ToDenseWarning: Could not preserve structure in block matrix: converting to dense.\n",
      "  return B.block(*[[pairwise(k, xi, yi) for yi in y] for xi in x])\n"
     ]
    },
    {
     "name": "stdout",
     "output_type": "stream",
     "text": [
      "    Loglik (T):   -0.85162 +-    0.00507 (  -0.85669)\n",
      "    Loglik (V):   -0.83138 +-    0.00997 (  -0.84134)\n",
      "    KL (full):     0.50889 +-    0.00759 (   0.51649)\n",
      "    KL (diag):     0.12793 +-    0.00450 (   0.13243)\n",
      "result/train-epoch-089-1.pdf\n",
      "result/train-epoch-089-2.pdf\n"
     ]
    },
    {
     "name": "stderr",
     "output_type": "stream",
     "text": [
      "/Users/huangd5/anaconda3/envs/np/lib/python3.10/site-packages/stheno/mo/input.py:9: ToDenseWarning: Could not preserve structure in block matrix: converting to dense.\n",
      "  return B.block(*[[pairwise(k, xi, yi) for yi in y] for xi in x])\n",
      "/Users/huangd5/anaconda3/envs/np/lib/python3.10/site-packages/stheno/mo/input.py:9: ToDenseWarning: Could not preserve structure in block matrix: converting to dense.\n",
      "  return B.block(*[[pairwise(k, xi, yi) for yi in y] for xi in x])\n"
     ]
    },
    {
     "name": "stdout",
     "output_type": "stream",
     "text": [
      "result/train-epoch-089-3.pdf\n",
      "result/train-epoch-089-4.pdf\n"
     ]
    },
    {
     "name": "stderr",
     "output_type": "stream",
     "text": [
      "/Users/huangd5/anaconda3/envs/np/lib/python3.10/site-packages/stheno/mo/input.py:9: ToDenseWarning: Could not preserve structure in block matrix: converting to dense.\n",
      "  return B.block(*[[pairwise(k, xi, yi) for yi in y] for xi in x])\n",
      "/Users/huangd5/anaconda3/envs/np/lib/python3.10/site-packages/stheno/mo/input.py:9: ToDenseWarning: Could not preserve structure in block matrix: converting to dense.\n",
      "  return B.block(*[[pairwise(k, xi, yi) for yi in y] for xi in x])\n"
     ]
    },
    {
     "name": "stdout",
     "output_type": "stream",
     "text": [
      "result/train-epoch-089-5.pdf\n",
      "Epoch 90:\n"
     ]
    },
    {
     "name": "stderr",
     "output_type": "stream",
     "text": [
      "/Users/huangd5/anaconda3/envs/np/lib/python3.10/site-packages/stheno/mo/input.py:9: ToDenseWarning: Could not preserve structure in block matrix: converting to dense.\n",
      "  return B.block(*[[pairwise(k, xi, yi) for yi in y] for xi in x])\n"
     ]
    },
    {
     "name": "stdout",
     "output_type": "stream",
     "text": [
      "    Loglik (T):   -0.84801 +-    0.00507 (  -0.85308)\n",
      "    Loglik (V):   -0.83608 +-    0.01036 (  -0.84644)\n",
      "    KL (full):     0.51360 +-    0.00803 (   0.52163)\n",
      "    KL (diag):     0.13263 +-    0.00499 (   0.13762)\n",
      "result/train-epoch-090-1.pdf\n",
      "result/train-epoch-090-2.pdf\n"
     ]
    },
    {
     "name": "stderr",
     "output_type": "stream",
     "text": [
      "/Users/huangd5/anaconda3/envs/np/lib/python3.10/site-packages/stheno/mo/input.py:9: ToDenseWarning: Could not preserve structure in block matrix: converting to dense.\n",
      "  return B.block(*[[pairwise(k, xi, yi) for yi in y] for xi in x])\n",
      "/Users/huangd5/anaconda3/envs/np/lib/python3.10/site-packages/stheno/mo/input.py:9: ToDenseWarning: Could not preserve structure in block matrix: converting to dense.\n",
      "  return B.block(*[[pairwise(k, xi, yi) for yi in y] for xi in x])\n"
     ]
    },
    {
     "name": "stdout",
     "output_type": "stream",
     "text": [
      "result/train-epoch-090-3.pdf\n",
      "result/train-epoch-090-4.pdf\n"
     ]
    },
    {
     "name": "stderr",
     "output_type": "stream",
     "text": [
      "/Users/huangd5/anaconda3/envs/np/lib/python3.10/site-packages/stheno/mo/input.py:9: ToDenseWarning: Could not preserve structure in block matrix: converting to dense.\n",
      "  return B.block(*[[pairwise(k, xi, yi) for yi in y] for xi in x])\n",
      "/Users/huangd5/anaconda3/envs/np/lib/python3.10/site-packages/stheno/mo/input.py:9: ToDenseWarning: Could not preserve structure in block matrix: converting to dense.\n",
      "  return B.block(*[[pairwise(k, xi, yi) for yi in y] for xi in x])\n"
     ]
    },
    {
     "name": "stdout",
     "output_type": "stream",
     "text": [
      "result/train-epoch-090-5.pdf\n",
      "Epoch 91:\n"
     ]
    },
    {
     "name": "stderr",
     "output_type": "stream",
     "text": [
      "/Users/huangd5/anaconda3/envs/np/lib/python3.10/site-packages/stheno/mo/input.py:9: ToDenseWarning: Could not preserve structure in block matrix: converting to dense.\n",
      "  return B.block(*[[pairwise(k, xi, yi) for yi in y] for xi in x])\n"
     ]
    },
    {
     "name": "stdout",
     "output_type": "stream",
     "text": [
      "    Loglik (T):   -0.84680 +-    0.00498 (  -0.85178)\n",
      "    Loglik (V):   -0.83094 +-    0.00999 (  -0.84093)\n",
      "    KL (full):     0.50846 +-    0.00760 (   0.51605)\n",
      "    KL (diag):     0.12749 +-    0.00460 (   0.13209)\n",
      "result/train-epoch-091-1.pdf\n",
      "result/train-epoch-091-2.pdf\n"
     ]
    },
    {
     "name": "stderr",
     "output_type": "stream",
     "text": [
      "/Users/huangd5/anaconda3/envs/np/lib/python3.10/site-packages/stheno/mo/input.py:9: ToDenseWarning: Could not preserve structure in block matrix: converting to dense.\n",
      "  return B.block(*[[pairwise(k, xi, yi) for yi in y] for xi in x])\n",
      "/Users/huangd5/anaconda3/envs/np/lib/python3.10/site-packages/stheno/mo/input.py:9: ToDenseWarning: Could not preserve structure in block matrix: converting to dense.\n",
      "  return B.block(*[[pairwise(k, xi, yi) for yi in y] for xi in x])\n"
     ]
    },
    {
     "name": "stdout",
     "output_type": "stream",
     "text": [
      "result/train-epoch-091-3.pdf\n",
      "result/train-epoch-091-4.pdf\n"
     ]
    },
    {
     "name": "stderr",
     "output_type": "stream",
     "text": [
      "/Users/huangd5/anaconda3/envs/np/lib/python3.10/site-packages/stheno/mo/input.py:9: ToDenseWarning: Could not preserve structure in block matrix: converting to dense.\n",
      "  return B.block(*[[pairwise(k, xi, yi) for yi in y] for xi in x])\n",
      "/Users/huangd5/anaconda3/envs/np/lib/python3.10/site-packages/stheno/mo/input.py:9: ToDenseWarning: Could not preserve structure in block matrix: converting to dense.\n",
      "  return B.block(*[[pairwise(k, xi, yi) for yi in y] for xi in x])\n"
     ]
    },
    {
     "name": "stdout",
     "output_type": "stream",
     "text": [
      "result/train-epoch-091-5.pdf\n",
      "Epoch 92:\n"
     ]
    },
    {
     "name": "stderr",
     "output_type": "stream",
     "text": [
      "/Users/huangd5/anaconda3/envs/np/lib/python3.10/site-packages/stheno/mo/input.py:9: ToDenseWarning: Could not preserve structure in block matrix: converting to dense.\n",
      "  return B.block(*[[pairwise(k, xi, yi) for yi in y] for xi in x])\n"
     ]
    },
    {
     "name": "stdout",
     "output_type": "stream",
     "text": [
      "    Loglik (T):   -0.86845 +-    0.00517 (  -0.87361)\n",
      "    Loglik (V):   -0.83791 +-    0.00988 (  -0.84779)\n",
      "    KL (full):     0.51543 +-    0.00750 (   0.52293)\n",
      "    KL (diag):     0.13446 +-    0.00462 (   0.13908)\n",
      "result/train-epoch-092-1.pdf\n",
      "result/train-epoch-092-2.pdf\n"
     ]
    },
    {
     "name": "stderr",
     "output_type": "stream",
     "text": [
      "/Users/huangd5/anaconda3/envs/np/lib/python3.10/site-packages/stheno/mo/input.py:9: ToDenseWarning: Could not preserve structure in block matrix: converting to dense.\n",
      "  return B.block(*[[pairwise(k, xi, yi) for yi in y] for xi in x])\n",
      "/Users/huangd5/anaconda3/envs/np/lib/python3.10/site-packages/stheno/mo/input.py:9: ToDenseWarning: Could not preserve structure in block matrix: converting to dense.\n",
      "  return B.block(*[[pairwise(k, xi, yi) for yi in y] for xi in x])\n"
     ]
    },
    {
     "name": "stdout",
     "output_type": "stream",
     "text": [
      "result/train-epoch-092-3.pdf\n",
      "result/train-epoch-092-4.pdf\n"
     ]
    },
    {
     "name": "stderr",
     "output_type": "stream",
     "text": [
      "/Users/huangd5/anaconda3/envs/np/lib/python3.10/site-packages/stheno/mo/input.py:9: ToDenseWarning: Could not preserve structure in block matrix: converting to dense.\n",
      "  return B.block(*[[pairwise(k, xi, yi) for yi in y] for xi in x])\n",
      "/Users/huangd5/anaconda3/envs/np/lib/python3.10/site-packages/stheno/mo/input.py:9: ToDenseWarning: Could not preserve structure in block matrix: converting to dense.\n",
      "  return B.block(*[[pairwise(k, xi, yi) for yi in y] for xi in x])\n"
     ]
    },
    {
     "name": "stdout",
     "output_type": "stream",
     "text": [
      "result/train-epoch-092-5.pdf\n",
      "Epoch 93:\n"
     ]
    },
    {
     "name": "stderr",
     "output_type": "stream",
     "text": [
      "/Users/huangd5/anaconda3/envs/np/lib/python3.10/site-packages/stheno/mo/input.py:9: ToDenseWarning: Could not preserve structure in block matrix: converting to dense.\n",
      "  return B.block(*[[pairwise(k, xi, yi) for yi in y] for xi in x])\n"
     ]
    },
    {
     "name": "stdout",
     "output_type": "stream",
     "text": [
      "    Loglik (T):   -0.83445 +-    0.00499 (  -0.83944)\n",
      "    Loglik (V):   -0.82458 +-    0.01002 (  -0.83460)\n",
      "    KL (full):     0.50210 +-    0.00761 (   0.50970)\n",
      "    KL (diag):     0.12113 +-    0.00444 (   0.12557)\n",
      "result/train-epoch-093-1.pdf\n",
      "result/train-epoch-093-2.pdf\n"
     ]
    },
    {
     "name": "stderr",
     "output_type": "stream",
     "text": [
      "/Users/huangd5/anaconda3/envs/np/lib/python3.10/site-packages/stheno/mo/input.py:9: ToDenseWarning: Could not preserve structure in block matrix: converting to dense.\n",
      "  return B.block(*[[pairwise(k, xi, yi) for yi in y] for xi in x])\n",
      "/Users/huangd5/anaconda3/envs/np/lib/python3.10/site-packages/stheno/mo/input.py:9: ToDenseWarning: Could not preserve structure in block matrix: converting to dense.\n",
      "  return B.block(*[[pairwise(k, xi, yi) for yi in y] for xi in x])\n"
     ]
    },
    {
     "name": "stdout",
     "output_type": "stream",
     "text": [
      "result/train-epoch-093-3.pdf\n",
      "result/train-epoch-093-4.pdf\n"
     ]
    },
    {
     "name": "stderr",
     "output_type": "stream",
     "text": [
      "/Users/huangd5/anaconda3/envs/np/lib/python3.10/site-packages/stheno/mo/input.py:9: ToDenseWarning: Could not preserve structure in block matrix: converting to dense.\n",
      "  return B.block(*[[pairwise(k, xi, yi) for yi in y] for xi in x])\n",
      "/Users/huangd5/anaconda3/envs/np/lib/python3.10/site-packages/stheno/mo/input.py:9: ToDenseWarning: Could not preserve structure in block matrix: converting to dense.\n",
      "  return B.block(*[[pairwise(k, xi, yi) for yi in y] for xi in x])\n"
     ]
    },
    {
     "name": "stdout",
     "output_type": "stream",
     "text": [
      "result/train-epoch-093-5.pdf\n",
      "Epoch 94:\n"
     ]
    },
    {
     "name": "stderr",
     "output_type": "stream",
     "text": [
      "/Users/huangd5/anaconda3/envs/np/lib/python3.10/site-packages/stheno/mo/input.py:9: ToDenseWarning: Could not preserve structure in block matrix: converting to dense.\n",
      "  return B.block(*[[pairwise(k, xi, yi) for yi in y] for xi in x])\n"
     ]
    },
    {
     "name": "stdout",
     "output_type": "stream",
     "text": [
      "    Loglik (T):   -0.84862 +-    0.00506 (  -0.85368)\n",
      "    Loglik (V):   -0.82810 +-    0.01019 (  -0.83829)\n",
      "    KL (full):     0.50561 +-    0.00781 (   0.51343)\n",
      "    KL (diag):     0.12465 +-    0.00460 (   0.12924)\n",
      "result/train-epoch-094-1.pdf\n",
      "result/train-epoch-094-2.pdf\n"
     ]
    },
    {
     "name": "stderr",
     "output_type": "stream",
     "text": [
      "/Users/huangd5/anaconda3/envs/np/lib/python3.10/site-packages/stheno/mo/input.py:9: ToDenseWarning: Could not preserve structure in block matrix: converting to dense.\n",
      "  return B.block(*[[pairwise(k, xi, yi) for yi in y] for xi in x])\n",
      "/Users/huangd5/anaconda3/envs/np/lib/python3.10/site-packages/stheno/mo/input.py:9: ToDenseWarning: Could not preserve structure in block matrix: converting to dense.\n",
      "  return B.block(*[[pairwise(k, xi, yi) for yi in y] for xi in x])\n"
     ]
    },
    {
     "name": "stdout",
     "output_type": "stream",
     "text": [
      "result/train-epoch-094-3.pdf\n",
      "result/train-epoch-094-4.pdf\n"
     ]
    },
    {
     "name": "stderr",
     "output_type": "stream",
     "text": [
      "/Users/huangd5/anaconda3/envs/np/lib/python3.10/site-packages/stheno/mo/input.py:9: ToDenseWarning: Could not preserve structure in block matrix: converting to dense.\n",
      "  return B.block(*[[pairwise(k, xi, yi) for yi in y] for xi in x])\n",
      "/Users/huangd5/anaconda3/envs/np/lib/python3.10/site-packages/stheno/mo/input.py:9: ToDenseWarning: Could not preserve structure in block matrix: converting to dense.\n",
      "  return B.block(*[[pairwise(k, xi, yi) for yi in y] for xi in x])\n"
     ]
    },
    {
     "name": "stdout",
     "output_type": "stream",
     "text": [
      "result/train-epoch-094-5.pdf\n",
      "Epoch 95:\n"
     ]
    },
    {
     "name": "stderr",
     "output_type": "stream",
     "text": [
      "/Users/huangd5/anaconda3/envs/np/lib/python3.10/site-packages/stheno/mo/input.py:9: ToDenseWarning: Could not preserve structure in block matrix: converting to dense.\n",
      "  return B.block(*[[pairwise(k, xi, yi) for yi in y] for xi in x])\n"
     ]
    },
    {
     "name": "stdout",
     "output_type": "stream",
     "text": [
      "    Loglik (T):   -0.84849 +-    0.00515 (  -0.85364)\n",
      "    Loglik (V):   -0.83257 +-    0.01005 (  -0.84262)\n",
      "    KL (full):     0.51008 +-    0.00762 (   0.51770)\n",
      "    KL (diag):     0.12912 +-    0.00457 (   0.13369)\n",
      "result/train-epoch-095-1.pdf\n",
      "result/train-epoch-095-2.pdf\n"
     ]
    },
    {
     "name": "stderr",
     "output_type": "stream",
     "text": [
      "/Users/huangd5/anaconda3/envs/np/lib/python3.10/site-packages/stheno/mo/input.py:9: ToDenseWarning: Could not preserve structure in block matrix: converting to dense.\n",
      "  return B.block(*[[pairwise(k, xi, yi) for yi in y] for xi in x])\n",
      "/Users/huangd5/anaconda3/envs/np/lib/python3.10/site-packages/stheno/mo/input.py:9: ToDenseWarning: Could not preserve structure in block matrix: converting to dense.\n",
      "  return B.block(*[[pairwise(k, xi, yi) for yi in y] for xi in x])\n"
     ]
    },
    {
     "name": "stdout",
     "output_type": "stream",
     "text": [
      "result/train-epoch-095-3.pdf\n",
      "result/train-epoch-095-4.pdf\n"
     ]
    },
    {
     "name": "stderr",
     "output_type": "stream",
     "text": [
      "/Users/huangd5/anaconda3/envs/np/lib/python3.10/site-packages/stheno/mo/input.py:9: ToDenseWarning: Could not preserve structure in block matrix: converting to dense.\n",
      "  return B.block(*[[pairwise(k, xi, yi) for yi in y] for xi in x])\n",
      "/Users/huangd5/anaconda3/envs/np/lib/python3.10/site-packages/stheno/mo/input.py:9: ToDenseWarning: Could not preserve structure in block matrix: converting to dense.\n",
      "  return B.block(*[[pairwise(k, xi, yi) for yi in y] for xi in x])\n"
     ]
    },
    {
     "name": "stdout",
     "output_type": "stream",
     "text": [
      "result/train-epoch-095-5.pdf\n",
      "Epoch 96:\n"
     ]
    },
    {
     "name": "stderr",
     "output_type": "stream",
     "text": [
      "/Users/huangd5/anaconda3/envs/np/lib/python3.10/site-packages/stheno/mo/input.py:9: ToDenseWarning: Could not preserve structure in block matrix: converting to dense.\n",
      "  return B.block(*[[pairwise(k, xi, yi) for yi in y] for xi in x])\n"
     ]
    },
    {
     "name": "stdout",
     "output_type": "stream",
     "text": [
      "    Loglik (T):   -0.84669 +-    0.00512 (  -0.85181)\n",
      "    Loglik (V):   -0.83220 +-    0.01008 (  -0.84228)\n",
      "    KL (full):     0.50971 +-    0.00769 (   0.51740)\n",
      "    KL (diag):     0.12875 +-    0.00463 (   0.13338)\n",
      "result/train-epoch-096-1.pdf\n",
      "result/train-epoch-096-2.pdf\n"
     ]
    },
    {
     "name": "stderr",
     "output_type": "stream",
     "text": [
      "/Users/huangd5/anaconda3/envs/np/lib/python3.10/site-packages/stheno/mo/input.py:9: ToDenseWarning: Could not preserve structure in block matrix: converting to dense.\n",
      "  return B.block(*[[pairwise(k, xi, yi) for yi in y] for xi in x])\n",
      "/Users/huangd5/anaconda3/envs/np/lib/python3.10/site-packages/stheno/mo/input.py:9: ToDenseWarning: Could not preserve structure in block matrix: converting to dense.\n",
      "  return B.block(*[[pairwise(k, xi, yi) for yi in y] for xi in x])\n"
     ]
    },
    {
     "name": "stdout",
     "output_type": "stream",
     "text": [
      "result/train-epoch-096-3.pdf\n",
      "result/train-epoch-096-4.pdf\n"
     ]
    },
    {
     "name": "stderr",
     "output_type": "stream",
     "text": [
      "/Users/huangd5/anaconda3/envs/np/lib/python3.10/site-packages/stheno/mo/input.py:9: ToDenseWarning: Could not preserve structure in block matrix: converting to dense.\n",
      "  return B.block(*[[pairwise(k, xi, yi) for yi in y] for xi in x])\n",
      "/Users/huangd5/anaconda3/envs/np/lib/python3.10/site-packages/stheno/mo/input.py:9: ToDenseWarning: Could not preserve structure in block matrix: converting to dense.\n",
      "  return B.block(*[[pairwise(k, xi, yi) for yi in y] for xi in x])\n"
     ]
    },
    {
     "name": "stdout",
     "output_type": "stream",
     "text": [
      "result/train-epoch-096-5.pdf\n",
      "Epoch 97:\n"
     ]
    },
    {
     "name": "stderr",
     "output_type": "stream",
     "text": [
      "/Users/huangd5/anaconda3/envs/np/lib/python3.10/site-packages/stheno/mo/input.py:9: ToDenseWarning: Could not preserve structure in block matrix: converting to dense.\n",
      "  return B.block(*[[pairwise(k, xi, yi) for yi in y] for xi in x])\n"
     ]
    },
    {
     "name": "stdout",
     "output_type": "stream",
     "text": [
      "    Loglik (T):   -0.85093 +-    0.00515 (  -0.85608)\n",
      "    Loglik (V):   -0.82551 +-    0.01035 (  -0.83586)\n",
      "    KL (full):     0.50303 +-    0.00794 (   0.51097)\n",
      "    KL (diag):     0.12206 +-    0.00470 (   0.12676)\n",
      "result/train-epoch-097-1.pdf\n",
      "result/train-epoch-097-2.pdf\n"
     ]
    },
    {
     "name": "stderr",
     "output_type": "stream",
     "text": [
      "/Users/huangd5/anaconda3/envs/np/lib/python3.10/site-packages/stheno/mo/input.py:9: ToDenseWarning: Could not preserve structure in block matrix: converting to dense.\n",
      "  return B.block(*[[pairwise(k, xi, yi) for yi in y] for xi in x])\n",
      "/Users/huangd5/anaconda3/envs/np/lib/python3.10/site-packages/stheno/mo/input.py:9: ToDenseWarning: Could not preserve structure in block matrix: converting to dense.\n",
      "  return B.block(*[[pairwise(k, xi, yi) for yi in y] for xi in x])\n"
     ]
    },
    {
     "name": "stdout",
     "output_type": "stream",
     "text": [
      "result/train-epoch-097-3.pdf\n",
      "result/train-epoch-097-4.pdf\n"
     ]
    },
    {
     "name": "stderr",
     "output_type": "stream",
     "text": [
      "/Users/huangd5/anaconda3/envs/np/lib/python3.10/site-packages/stheno/mo/input.py:9: ToDenseWarning: Could not preserve structure in block matrix: converting to dense.\n",
      "  return B.block(*[[pairwise(k, xi, yi) for yi in y] for xi in x])\n",
      "/Users/huangd5/anaconda3/envs/np/lib/python3.10/site-packages/stheno/mo/input.py:9: ToDenseWarning: Could not preserve structure in block matrix: converting to dense.\n",
      "  return B.block(*[[pairwise(k, xi, yi) for yi in y] for xi in x])\n"
     ]
    },
    {
     "name": "stdout",
     "output_type": "stream",
     "text": [
      "result/train-epoch-097-5.pdf\n",
      "Epoch 98:\n"
     ]
    },
    {
     "name": "stderr",
     "output_type": "stream",
     "text": [
      "/Users/huangd5/anaconda3/envs/np/lib/python3.10/site-packages/stheno/mo/input.py:9: ToDenseWarning: Could not preserve structure in block matrix: converting to dense.\n",
      "  return B.block(*[[pairwise(k, xi, yi) for yi in y] for xi in x])\n"
     ]
    },
    {
     "name": "stdout",
     "output_type": "stream",
     "text": [
      "    Loglik (T):   -0.84194 +-    0.00503 (  -0.84697)\n",
      "    Loglik (V):   -0.82845 +-    0.00981 (  -0.83826)\n",
      "    KL (full):     0.50597 +-    0.00736 (   0.51333)\n",
      "    KL (diag):     0.12500 +-    0.00433 (   0.12933)\n",
      "result/train-epoch-098-1.pdf\n",
      "result/train-epoch-098-2.pdf\n"
     ]
    },
    {
     "name": "stderr",
     "output_type": "stream",
     "text": [
      "/Users/huangd5/anaconda3/envs/np/lib/python3.10/site-packages/stheno/mo/input.py:9: ToDenseWarning: Could not preserve structure in block matrix: converting to dense.\n",
      "  return B.block(*[[pairwise(k, xi, yi) for yi in y] for xi in x])\n",
      "/Users/huangd5/anaconda3/envs/np/lib/python3.10/site-packages/stheno/mo/input.py:9: ToDenseWarning: Could not preserve structure in block matrix: converting to dense.\n",
      "  return B.block(*[[pairwise(k, xi, yi) for yi in y] for xi in x])\n"
     ]
    },
    {
     "name": "stdout",
     "output_type": "stream",
     "text": [
      "result/train-epoch-098-3.pdf\n",
      "result/train-epoch-098-4.pdf\n"
     ]
    },
    {
     "name": "stderr",
     "output_type": "stream",
     "text": [
      "/Users/huangd5/anaconda3/envs/np/lib/python3.10/site-packages/stheno/mo/input.py:9: ToDenseWarning: Could not preserve structure in block matrix: converting to dense.\n",
      "  return B.block(*[[pairwise(k, xi, yi) for yi in y] for xi in x])\n",
      "/Users/huangd5/anaconda3/envs/np/lib/python3.10/site-packages/stheno/mo/input.py:9: ToDenseWarning: Could not preserve structure in block matrix: converting to dense.\n",
      "  return B.block(*[[pairwise(k, xi, yi) for yi in y] for xi in x])\n"
     ]
    },
    {
     "name": "stdout",
     "output_type": "stream",
     "text": [
      "result/train-epoch-098-5.pdf\n",
      "Epoch 99:\n"
     ]
    },
    {
     "name": "stderr",
     "output_type": "stream",
     "text": [
      "/Users/huangd5/anaconda3/envs/np/lib/python3.10/site-packages/stheno/mo/input.py:9: ToDenseWarning: Could not preserve structure in block matrix: converting to dense.\n",
      "  return B.block(*[[pairwise(k, xi, yi) for yi in y] for xi in x])\n"
     ]
    },
    {
     "name": "stdout",
     "output_type": "stream",
     "text": [
      "    Loglik (T):   -0.82868 +-    0.00502 (  -0.83370)\n",
      "    Loglik (V):   -0.82600 +-    0.01008 (  -0.83608)\n",
      "    KL (full):     0.50352 +-    0.00765 (   0.51117)\n",
      "    KL (diag):     0.12255 +-    0.00447 (   0.12703)\n",
      "result/train-epoch-099-1.pdf\n",
      "result/train-epoch-099-2.pdf\n"
     ]
    },
    {
     "name": "stderr",
     "output_type": "stream",
     "text": [
      "/Users/huangd5/anaconda3/envs/np/lib/python3.10/site-packages/stheno/mo/input.py:9: ToDenseWarning: Could not preserve structure in block matrix: converting to dense.\n",
      "  return B.block(*[[pairwise(k, xi, yi) for yi in y] for xi in x])\n",
      "/Users/huangd5/anaconda3/envs/np/lib/python3.10/site-packages/stheno/mo/input.py:9: ToDenseWarning: Could not preserve structure in block matrix: converting to dense.\n",
      "  return B.block(*[[pairwise(k, xi, yi) for yi in y] for xi in x])\n"
     ]
    },
    {
     "name": "stdout",
     "output_type": "stream",
     "text": [
      "result/train-epoch-099-3.pdf\n",
      "result/train-epoch-099-4.pdf\n"
     ]
    },
    {
     "name": "stderr",
     "output_type": "stream",
     "text": [
      "/Users/huangd5/anaconda3/envs/np/lib/python3.10/site-packages/stheno/mo/input.py:9: ToDenseWarning: Could not preserve structure in block matrix: converting to dense.\n",
      "  return B.block(*[[pairwise(k, xi, yi) for yi in y] for xi in x])\n",
      "/Users/huangd5/anaconda3/envs/np/lib/python3.10/site-packages/stheno/mo/input.py:9: ToDenseWarning: Could not preserve structure in block matrix: converting to dense.\n",
      "  return B.block(*[[pairwise(k, xi, yi) for yi in y] for xi in x])\n"
     ]
    },
    {
     "name": "stdout",
     "output_type": "stream",
     "text": [
      "result/train-epoch-099-5.pdf\n",
      "Epoch 100:\n"
     ]
    },
    {
     "name": "stderr",
     "output_type": "stream",
     "text": [
      "/Users/huangd5/anaconda3/envs/np/lib/python3.10/site-packages/stheno/mo/input.py:9: ToDenseWarning: Could not preserve structure in block matrix: converting to dense.\n",
      "  return B.block(*[[pairwise(k, xi, yi) for yi in y] for xi in x])\n"
     ]
    },
    {
     "name": "stdout",
     "output_type": "stream",
     "text": [
      "    Loglik (T):   -0.83732 +-    0.00513 (  -0.84245)\n",
      "    Loglik (V):   -0.83530 +-    0.00992 (  -0.84522)\n",
      "    KL (full):     0.51281 +-    0.00751 (   0.52032)\n",
      "    KL (diag):     0.13185 +-    0.00450 (   0.13635)\n",
      "result/train-epoch-100-1.pdf\n",
      "result/train-epoch-100-2.pdf\n"
     ]
    },
    {
     "name": "stderr",
     "output_type": "stream",
     "text": [
      "/Users/huangd5/anaconda3/envs/np/lib/python3.10/site-packages/stheno/mo/input.py:9: ToDenseWarning: Could not preserve structure in block matrix: converting to dense.\n",
      "  return B.block(*[[pairwise(k, xi, yi) for yi in y] for xi in x])\n",
      "/Users/huangd5/anaconda3/envs/np/lib/python3.10/site-packages/stheno/mo/input.py:9: ToDenseWarning: Could not preserve structure in block matrix: converting to dense.\n",
      "  return B.block(*[[pairwise(k, xi, yi) for yi in y] for xi in x])\n"
     ]
    },
    {
     "name": "stdout",
     "output_type": "stream",
     "text": [
      "result/train-epoch-100-3.pdf\n",
      "result/train-epoch-100-4.pdf\n"
     ]
    },
    {
     "name": "stderr",
     "output_type": "stream",
     "text": [
      "/Users/huangd5/anaconda3/envs/np/lib/python3.10/site-packages/stheno/mo/input.py:9: ToDenseWarning: Could not preserve structure in block matrix: converting to dense.\n",
      "  return B.block(*[[pairwise(k, xi, yi) for yi in y] for xi in x])\n",
      "/Users/huangd5/anaconda3/envs/np/lib/python3.10/site-packages/stheno/mo/input.py:9: ToDenseWarning: Could not preserve structure in block matrix: converting to dense.\n",
      "  return B.block(*[[pairwise(k, xi, yi) for yi in y] for xi in x])\n"
     ]
    },
    {
     "name": "stdout",
     "output_type": "stream",
     "text": [
      "result/train-epoch-100-5.pdf\n"
     ]
    }
   ],
   "source": [
    "start = 0\n",
    "\n",
    "best_eval_lik = -np.inf\n",
    "\n",
    "# Setup training loop.\n",
    "opt = torch.optim.Adam(model.parameters(), args.rate)\n",
    "\n",
    "# Set regularisation high for the first epochs.\n",
    "original_epsilon = B.epsilon\n",
    "B.epsilon = config[\"epsilon_start\"]\n",
    "\n",
    "for i in range(start, args.epochs):\n",
    "    with out.Section(f\"Epoch {i + 1}\"):\n",
    "        # Set regularisation to normal after the first epoch.\n",
    "        if i > 0:\n",
    "            B.epsilon = original_epsilon\n",
    "\n",
    "        # Checkpoint at regular intervals if specified\n",
    "#         if args.checkpoint_every is not None and i % args.checkpoint_every == 0:\n",
    "#             out.out(\"Checkpointing...\")\n",
    "#             torch.save(\n",
    "#                 {\n",
    "#                     \"weights\": model.state_dict(),\n",
    "#                     \"epoch\": i + 1,\n",
    "#                 },\n",
    "#                 wd.file(f\"model-epoch-{i+1}.torch\"),\n",
    "#             )\n",
    "\n",
    "        # Perform an epoch.\n",
    "        if config[\"fix_noise\"] and i < config[\"fix_noise_epochs\"]:\n",
    "            fix_noise = 1e-4\n",
    "        else:\n",
    "            fix_noise = None\n",
    "        state, _ = train(\n",
    "            state,\n",
    "            model,\n",
    "            opt,\n",
    "            objective,\n",
    "            gen_train,\n",
    "            fix_noise=fix_noise,\n",
    "        )\n",
    "\n",
    "        # The epoch is done. Now evaluate.\n",
    "        state, val = eval(state, model, objective_cv, gen_cv())\n",
    "\n",
    "        # Save current model.\n",
    "#         torch.save(\n",
    "#             {\n",
    "#                 \"weights\": model.state_dict(),\n",
    "#                 \"objective\": val,\n",
    "#                 \"epoch\": i + 1,\n",
    "#             },\n",
    "#             wd.file(f\"model-last.torch\"),\n",
    "#         )\n",
    "\n",
    "        # Check if the model is the new best. If so, save it.\n",
    "#         if val > best_eval_lik:\n",
    "#             out.out(\"New best model!\")\n",
    "#             best_eval_lik = val\n",
    "#             torch.save(\n",
    "#                 {\n",
    "#                     \"weights\": model.state_dict(),\n",
    "#                     \"objective\": val,\n",
    "#                     \"epoch\": i + 1,\n",
    "#                 },\n",
    "#                 wd.file(f\"model-best.torch\"),\n",
    "#             )\n",
    "\n",
    "        # Visualise a few predictions by the model.\n",
    "        gen = gen_cv()\n",
    "        for j in range(5):\n",
    "            path = (f\"result/train-epoch-{i + 1:03d}-{j + 1}.pdf\") \n",
    "            exp.visualise(\n",
    "                model,\n",
    "                gen,\n",
    "                path=path,\n",
    "                config=config,\n",
    "            )"
   ]
  },
  {
   "cell_type": "code",
   "execution_count": 37,
   "id": "fd0a1c85",
   "metadata": {},
   "outputs": [],
   "source": [
    "exp.plot.visualise_1d??"
   ]
  },
  {
   "cell_type": "code",
   "execution_count": 40,
   "id": "6e9684a0",
   "metadata": {},
   "outputs": [
    {
     "data": {
      "text/plain": [
       "{1: {'range': (-2, 4), 'axvline': [2]}, 2: {'range': ((-2, 2), (-2, 2))}}"
      ]
     },
     "execution_count": 40,
     "metadata": {},
     "output_type": "execute_result"
    }
   ],
   "source": [
    "config[\"plot\"]"
   ]
  },
  {
   "cell_type": "code",
   "execution_count": null,
   "id": "02ec47d2",
   "metadata": {},
   "outputs": [],
   "source": []
  }
 ],
 "metadata": {
  "kernelspec": {
   "display_name": "Python 3 (ipykernel)",
   "language": "python",
   "name": "python3"
  },
  "language_info": {
   "codemirror_mode": {
    "name": "ipython",
    "version": 3
   },
   "file_extension": ".py",
   "mimetype": "text/x-python",
   "name": "python",
   "nbconvert_exporter": "python",
   "pygments_lexer": "ipython3",
   "version": "3.10.10"
  }
 },
 "nbformat": 4,
 "nbformat_minor": 5
}
